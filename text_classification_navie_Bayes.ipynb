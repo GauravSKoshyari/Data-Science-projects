{
  "nbformat": 4,
  "nbformat_minor": 0,
  "metadata": {
    "colab": {
      "provenance": [],
      "collapsed_sections": [
        "E1vZqLFH_jCw"
      ]
    },
    "language_info": {
      "codemirror_mode": {
        "name": "ipython",
        "version": 3
      },
      "file_extension": ".py",
      "mimetype": "text/x-python",
      "name": "python",
      "nbconvert_exporter": "python",
      "pygments_lexer": "ipython3",
      "version": "3.6.8"
    },
    "kernelspec": {
      "display_name": "Python 3",
      "language": "python",
      "name": "python3"
    }
  },
  "cells": [
    {
      "cell_type": "markdown",
      "metadata": {
        "id": "RW0zYHb5m_wI"
      },
      "source": [
        "<ol>\n",
        "    <li>Minimum data points need to be considered for people having 4GB RAM is <strong>50k</strong> and for 8GB RAM is <strong>100k</strong></li>\n",
        "    <li>When you are using ramdomsearchcv or gridsearchcv you need not split the data into X_train,X_cv,X_test. As the above methods use kfold. The model will learn better if train data is more so splitting to X_train,X_test will suffice.</li>\n",
        "    <li>If you are writing for loops to tune your model then you need split the data into X_train,X_cv,X_test.</li>\n",
        "    <li>While splitting the data explore stratify parameter. </li>\n",
        "    <li><strong>Apply Multinomial NB on these feature sets</strong></li>\n",
        "        <ul>\n",
        "            <li>Features that need to be considered</li> \n",
        "                <dl>\n",
        "                  <dt>essay</dt>\n",
        "                    <dd>while encoding essay, try to experiment with the max_features and n_grams parameter of vectorizers and see if it increases AUC score.</dd>\n",
        "                  <dt>categorical features</dt>\n",
        "                  <dd> - teacher_prefix</dd>\n",
        "                  <dd> - project_grade_category</dd>\n",
        "                  <dd> - school_state</dd>\n",
        "                  <dd> - clean_categories</dd>\n",
        "                  <dd> - clean_subcategories</dd>\n",
        "                  <dt>numerical features</dt>\n",
        "                  <dd> - price</dd>\n",
        "                  <dd> - teacher_number_of_previously_posted_projects</dd>\n",
        "                  <dd>while encoding the numerical features check <a href='https://imgur.com/ldZA1zg'>this</a> and <a href='https://ac-classroom-production.s3.amazonaws.com/public/COMMENT/Annotation_2020-05-21_225912_0lyZzN8.jpg'>this</a></dd>\n",
        "                </dl>    \n",
        "            <li><font color='red'>Set 1</font>: categorical, numerical features + preprocessed_eassay (BOW)</li>\n",
        "            <li><font color='red'>Set 2</font>: categorical, numerical features + preprocessed_eassay (TFIDF)</li>\n",
        "        </ul>\n",
        "    <li><strong>The hyper paramter tuning(find best alpha:smoothing parameter)</strong>\n",
        "        <ul>\n",
        "    <li>Consider alpha values in range: 10^-5 to 10^2 like [0.00001,0.0005, 0.0001,0.005,0.001,0.05,0.01,0.1,0.5,1,5,10,50,100]</li>\n",
        "    <li>Explore class_prior = [0.5, 0.5] parameter which can be present in MultinomialNB function(go through <a href='https://scikit-learn.org/stable/modules/generated/sklearn.naive_bayes.MultinomialNB.html'>this</a> ) then check how results might change.\n",
        "    <li>Find the best hyper parameter which will give the maximum <a href='https://www.appliedaicourse.com/course/applied-ai-course-online/lessons/receiver-operating-characteristic-curve-roc-curve-and-auc-1/'>AUC</a> value</li>\n",
        "    <li>For hyper parameter tuning using k-fold cross validation(use GridsearchCV or RandomsearchCV)/simple cross validation data (write for loop to iterate over hyper parameter values)</li>\n",
        "    <li>You need to plot the performance of model both on train data and cross validation data for each hyper parameter, like shown in the figure\n",
        "    <img src='https://i.imgur.com/hUv6aEy.jpg' width=300px><dd>-while plotting take log(alpha) on your X-axis so that it will be more readable</dd></li>\n",
        "    <li>Once after you found the best hyper parameter, you need to train your model with it, and find the AUC on test data and plot the ROC curve on both train and test.\n",
        "    <img src='https://imgur.com/q2P65L5.jpg' width=300px></li>\n",
        "    <li>Along with plotting ROC curve, you need to print the <a href='https://www.appliedaicourse.com/course/applied-ai-course-online/lessons/confusion-matrix-tpr-fpr-fnr-tnr-1/'>confusion matrix</a> with predicted and original labels of test data points\n",
        "        <img src='https://i.imgur.com/IdN5Ctv.png' width=300px><dd>-plot the confusion matrix in heatmaps, while plotting the confusion matrix go through the <a href='https://stackoverflow.com/questions/61748441/how-to-fix-the-values-displayed-in-a-confusion-matrix-in-exponential-form-to-nor'>link </a>\n",
        "</dd></li>\n",
        "        </ul>\n",
        "<li>find the top 20 features from either from feature <font color='red'>Set 1</font> or feature <font color='red'>Set 2</font> using values of `feature_log_prob_ ` parameter of `MultinomialNB` \n",
        "(https://scikit-learn.org/stable/modules/generated/sklearn.naive_bayes.MultinomialNB.html) and print <strong>BOTH</strong> positive as well as negative corresponding feature names. <dd> - go through the <a href='https://imgur.com/mWvE7gj'>link </a> </dd>\n",
        "    </li>\n",
        "    <li>You need to summarize the results at the end of the notebook, summarize it in the table format\n",
        "        <img src='http://i.imgur.com/YVpIGGE.jpg' width=400px>\n",
        "    </li>\n",
        "</ol>"
      ]
    },
    {
      "cell_type": "markdown",
      "metadata": {
        "id": "c86arRMn0gSr"
      },
      "source": [
        "categorical features - one hot encoding \\\n",
        "numerical features - scaling \n",
        "\n",
        "\n",
        "\n"
      ]
    },
    {
      "cell_type": "markdown",
      "metadata": {
        "id": "JxALlBTN0gM6"
      },
      "source": []
    },
    {
      "cell_type": "markdown",
      "metadata": {
        "id": "inzYCIaib3c3"
      },
      "source": [
        "<h1>2. Naive Bayes </h1>"
      ]
    },
    {
      "cell_type": "markdown",
      "metadata": {
        "id": "FYqCIxzFb3c5"
      },
      "source": [
        "## 1.1 Loading Data"
      ]
    },
    {
      "cell_type": "code",
      "metadata": {
        "id": "pWEPlO_a7lG2"
      },
      "source": [
        "%matplotlib inline\n",
        "import warnings\n",
        "warnings.filterwarnings(\"ignore\")\n",
        "\n",
        "import pandas as pd\n",
        "import numpy as np\n",
        "import nltk\n",
        "import matplotlib.pyplot as plt\n",
        "import seaborn as sns\n",
        "from sklearn.feature_extraction.text import TfidfVectorizer\n",
        "from sklearn.feature_extraction.text import CountVectorizer\n",
        "from sklearn.metrics import confusion_matrix\n",
        "from sklearn import metrics\n",
        "from sklearn.metrics import roc_curve, auc\n",
        "from sklearn.naive_bayes import MultinomialNB\n",
        "\n"
      ],
      "execution_count": null,
      "outputs": []
    },
    {
      "cell_type": "code",
      "metadata": {
        "colab": {
          "base_uri": "https://localhost:8080/"
        },
        "id": "bI5r5Uf74jDq",
        "outputId": "e171106a-6355-4eb7-cf24-ca666a34df43"
      },
      "source": [
        "from google.colab import drive\n",
        "drive.mount('/content/drive')"
      ],
      "execution_count": null,
      "outputs": [
        {
          "output_type": "stream",
          "name": "stdout",
          "text": [
            "Mounted at /content/drive\n"
          ]
        }
      ]
    },
    {
      "cell_type": "code",
      "metadata": {
        "id": "s87b4Na_4xSh"
      },
      "source": [
        "path = \"/content/drive/MyDrive/preprocessed_data2.csv\""
      ],
      "execution_count": null,
      "outputs": []
    },
    {
      "cell_type": "code",
      "metadata": {
        "id": "dA1jknyqb3c_",
        "colab": {
          "base_uri": "https://localhost:8080/"
        },
        "outputId": "32a823b2-151c-4ddd-a392-fc9cb2365732"
      },
      "source": [
        "# data  = pd.read_csv(path, nrows=5000)\n",
        "# data  = pd.read_csv(path, nrows=50000)\n",
        "data  = pd.read_csv(path)\n",
        "\n",
        "\n",
        "data.shape\n"
      ],
      "execution_count": null,
      "outputs": [
        {
          "output_type": "execute_result",
          "data": {
            "text/plain": [
              "(109248, 9)"
            ]
          },
          "metadata": {},
          "execution_count": 7
        }
      ]
    },
    {
      "cell_type": "code",
      "metadata": {
        "id": "vLkI8GeX5wGQ"
      },
      "source": [
        "#seperating class label from dataset\n",
        "y = data['project_is_approved'].values\n",
        "X = data.drop(['project_is_approved'], axis=1)"
      ],
      "execution_count": null,
      "outputs": []
    },
    {
      "cell_type": "markdown",
      "metadata": {
        "id": "WtVV13Fyb3dH"
      },
      "source": [
        "<h2>1.2 Splitting data into Train and cross validation(or test): Stratified Sampling</h2>"
      ]
    },
    {
      "cell_type": "code",
      "metadata": {
        "id": "i-PyprDNb3dI"
      },
      "source": [
        "# please write all the code with proper documentation, and proper titles for each subsection\n",
        "# go through documentations and blogs before you start coding\n",
        "# first figure out what to do, and then think about how to do.\n",
        "# reading and understanding error messages will be very much helpfull in debugging your code\n",
        "# when you plot any graph make sure you use \n",
        "    # a. Title, that describes your plot, this will be very helpful to the reader\n",
        "    # b. Legends if needed\n",
        "    # c. X-axis label\n",
        "    # d. Y-axis label\n",
        "\n",
        "# train test split\n",
        "#https://scikit-learn.org/stable/modules/generated/sklearn.model_selection.train_test_split.html\n",
        "from sklearn.model_selection import train_test_split\n",
        "X_train, X_test, y_train, y_test = train_test_split(X, y, test_size=0.33, stratify=y)\n",
        "# X_train, X_cv, y_train, y_cv = train_test_split(X_train, y_train, test_size=0.33, stratify=y_train)"
      ],
      "execution_count": null,
      "outputs": []
    },
    {
      "cell_type": "markdown",
      "metadata": {
        "id": "E1vZqLFH_jCw"
      },
      "source": [
        "## 1.3 Make Data Model Ready: encoding essay\n"
      ]
    },
    {
      "cell_type": "markdown",
      "metadata": {
        "id": "oTONs2ORADem"
      },
      "source": [
        "<h3>Bag of words(BOW) representation</h3>"
      ]
    },
    {
      "cell_type": "code",
      "metadata": {
        "id": "-SczZKiab3dR",
        "colab": {
          "base_uri": "https://localhost:8080/"
        },
        "outputId": "54ab4db4-866b-485f-892f-2666bce358c6"
      },
      "source": [
        "print(X_train.shape, y_train.shape)\n",
        "print(X_test.shape, y_test.shape)\n",
        "\n",
        "print(\"=\"*100)\n",
        "\n",
        "# https://scikit-learn.org/stable/modules/generated/sklearn.feature_extraction.text.CountVectorizer.html\n",
        "# min_df : ignore terms that have a document frequency strictly lower than the given threshold\n",
        "vectorizer = CountVectorizer(min_df=10,ngram_range=(1,4), max_features=5000)\n",
        "vectorizer.fit(X_train['essay'].values) # fit has to happen only on train data\n",
        "\n",
        "# we use the fitted CountVectorizer to convert the text to vector\n",
        "X_train_essay_bow = vectorizer.transform(X_train['essay'].values)\n",
        "X_test_essay_bow = vectorizer.transform(X_test['essay'].values)\n",
        "\n",
        "print(\"After vectorizations\")\n",
        "print(X_train_essay_bow.shape, y_train.shape)\n",
        "print(X_test_essay_bow.shape, y_test.shape)\n",
        "print(\"=\"*100)\n",
        "\n",
        "features_list = []     # it will contain name of all the features \n",
        "features_list.extend(vectorizer.get_feature_names())     #adds feature names to list\n",
        "\n"
      ],
      "execution_count": null,
      "outputs": [
        {
          "output_type": "stream",
          "text": [
            "(73196, 8) (73196,)\n",
            "(36052, 8) (36052,)\n",
            "====================================================================================================\n",
            "After vectorizations\n",
            "(73196, 5000) (73196,)\n",
            "(36052, 5000) (36052,)\n",
            "====================================================================================================\n"
          ],
          "name": "stdout"
        }
      ]
    },
    {
      "cell_type": "code",
      "metadata": {
        "colab": {
          "base_uri": "https://localhost:8080/"
        },
        "id": "Gd2XtOK4tYMD",
        "outputId": "e7b8b7fc-de95-4a24-f04e-b1b08bcaa98d"
      },
      "source": [
        "print(features_list)"
      ],
      "execution_count": null,
      "outputs": [
        {
          "output_type": "stream",
          "text": [
            "['000', '10', '100', '100 free', '100 percent', '100 students', '100 students receive', '100 students receive free', '11', '12', '12th', '13', '14', '15', '16', '17', '18', '19', '1st', '1st grade', '20', '20 students', '2016', '2017', '21', '21st', '21st century', '21st century learners', '21st century learning', '21st century skills', '22', '23', '24', '25', '25 students', '26', '27', '28', '2nd', '2nd grade', '2nd graders', '30', '30 students', '3d', '3d printer', '3rd', '3rd grade', '3rd graders', '40', '400', '45', '4th', '4th 5th', '4th grade', '4th graders', '50', '50 students', '500', '5th', '5th grade', '5th grade students', '5th graders', '60', '60 minutes', '60 students', '600', '6th', '6th grade', '6th graders', '70', '75', '7th', '7th 8th', '7th grade', '80', '80 students', '85', '8th', '8th grade', '8th graders', '90', '90 students', '95', '98', '99', '9th', 'abilities', 'ability', 'ability learn', 'ability levels', 'able', 'able access', 'able choose', 'able control', 'able control home', 'able control home lives', 'able create', 'able explore', 'able focus', 'able get', 'able give', 'able learn', 'able make', 'able move', 'able practice', 'able provide', 'able read', 'able see', 'able sit', 'able take', 'able use', 'able work', 'about', 'absolutely', 'absolutely love', 'abstract', 'academic', 'academic achievement', 'academic excellence', 'academic performance', 'academic skills', 'academic social', 'academic success', 'academically', 'academics', 'academy', 'accelerated', 'access', 'access books', 'access computers', 'access internet', 'access materials', 'access resources', 'access technology', 'access technology home', 'accessible', 'accommodate', 'accomplish', 'accomplishments', 'according', 'achieve', 'achieve goals', 'achievement', 'achievement gap', 'achieving', 'acquire', 'across', 'act', 'action', 'active', 'active learners', 'active learning', 'actively', 'actively engaged', 'activities', 'activities help', 'activities my', 'activities students', 'activities the', 'activities they', 'activity', 'actual', 'actually', 'add', 'added', 'adding', 'addition', 'addition classroom', 'addition students', 'addition subtraction', 'additional', 'additionally', 'address', 'adequate', 'adhd', 'adult', 'adults', 'advance', 'advanced', 'advantage', 'adventure', 'adventures', 'affect', 'affluent', 'afford', 'african', 'african american', 'after', 'afternoon', 'age', 'age appropriate', 'ages', 'ago', 'ahead', 'aid', 'aids', 'aim', 'air', 'algebra', 'alive', 'all', 'all students', 'all students receive', 'all students receive free', 'allow', 'allow children', 'allow student', 'allow students', 'allow students access', 'allow students learn', 'allow students move', 'allow students work', 'allow us', 'allowed', 'allowing', 'allowing students', 'allows', 'allows students', 'almost', 'alone', 'along', 'aloud', 'alouds', 'alphabet', 'already', 'also', 'also able', 'also allow', 'also allow students', 'also give', 'also help', 'also help students', 'also learn', 'also like', 'also love', 'also need', 'also provide', 'also students', 'also use', 'also used', 'also want', 'alternative', 'alternative seating', 'although', 'although students', 'always', 'always eager', 'always excited', 'always looking', 'always ready', 'amaze', 'amazed', 'amazing', 'amazing group', 'amazing students', 'amazing they', 'america', 'american', 'americans', 'among', 'among students', 'amount', 'amount time', 'an', 'analysis', 'analyze', 'anchor', 'and', 'angeles', 'animal', 'animals', 'another', 'answer', 'answers', 'anxiety', 'anxious', 'any', 'anyone', 'anything', 'anywhere', 'ap', 'apart', 'app', 'apple', 'application', 'applications', 'apply', 'applying', 'appreciate', 'appreciated', 'appreciation', 'appreciative', 'approach', 'appropriate', 'appropriately', 'approximately', 'apps', 'area', 'area many', 'area students', 'areas', 'around', 'around classroom', 'around room', 'around they', 'around us', 'around world', 'array', 'arrive', 'art', 'art projects', 'art room', 'art supplies', 'articles', 'artist', 'artistic', 'artists', 'arts', 'artwork', 'as', 'as result', 'as school', 'as students', 'as teacher', 'as teacher low', 'as teacher low income', 'asian', 'ask', 'ask questions', 'asked', 'asking', 'aspect', 'aspects', 'assess', 'assessment', 'assessments', 'assigned', 'assignment', 'assignments', 'assist', 'assist students', 'assistance', 'at', 'at end', 'at school', 'athletes', 'atmosphere', 'attend', 'attend school', 'attend title', 'attend title school', 'attendance', 'attended', 'attending', 'attention', 'attitude', 'attitudes', 'audio', 'auditory', 'august', 'authentic', 'author', 'authors', 'autism', 'autism spectrum', 'autistic', 'available', 'available students', 'average', 'avid', 'award', 'aware', 'awareness', 'away', 'awesome', 'back', 'background', 'background knowledge', 'backgrounds', 'backgrounds many', 'backgrounds they', 'backgrounds we', 'backpack', 'backpacks', 'bad', 'bag', 'bag chairs', 'bags', 'balance', 'balance balls', 'ball', 'ball chairs', 'balls', 'band', 'bands', 'barriers', 'base', 'based', 'based learning', 'based socioeconomic', 'based socioeconomic status', 'basic', 'basic needs', 'basic school', 'basic school supplies', 'basic supplies', 'basics', 'basis', 'basketball', 'bean', 'bean bag', 'bean bag chairs', 'bean bags', 'beautiful', 'because', 'become', 'become better', 'become better readers', 'become independent', 'become life', 'become life long', 'become successful', 'becomes', 'becoming', 'began', 'begin', 'beginning', 'beginning year', 'begins', 'behavior', 'behavioral', 'behaviors', 'behind', 'being', 'being able', 'believe', 'believe students', 'beneficial', 'benefit', 'benefit greatly', 'benefit students', 'benefits', 'best', 'best education', 'best learning', 'best my', 'best part', 'best students', 'best they', 'best way', 'best work', 'better', 'better readers', 'better understand', 'better understanding', 'better way', 'beyond', 'big', 'bigger', 'biggest', 'bilingual', 'binders', 'bins', 'biology', 'bit', 'black', 'blended', 'blessed', 'block', 'blocks', 'blood', 'blue', 'board', 'boards', 'bodies', 'body', 'book', 'book read', 'books', 'books allow', 'books classroom', 'books help', 'books home', 'books not', 'books read', 'books reading', 'books students', 'books the', 'books used', 'books would', 'boost', 'boring', 'born', 'borrow', 'both', 'bottles', 'bounce', 'bouncy', 'bouncy bands', 'box', 'boxes', 'boys', 'boys girls', 'brain', 'brain breaks', 'brains', 'brand', 'brand new', 'break', 'breakfast', 'breakfast lunch', 'breakfast lunch many', 'breaks', 'bridge', 'bright', 'brilliant', 'bring', 'bringing', 'brings', 'broaden', 'broken', 'bronx', 'brought', 'budget', 'budget cuts', 'build', 'build confidence', 'building', 'builds', 'built', 'bunch', 'bus', 'business', 'busy', 'but', 'buy', 'by', 'by creative', 'by creative positive', 'by creative positive way', 'by donating', 'by donating project', 'by providing', 'by using', 'calculators', 'california', 'call', 'called', 'calm', 'calming', 'came', 'camera', 'cameras', 'campus', 'can', 'cannot', 'cannot afford', 'capabilities', 'capable', 'capacity', 'capture', 'card', 'cards', 'care', 'career', 'career ready', 'careers', 'caring', 'carolina', 'carpet', 'carry', 'cart', 'case', 'cases', 'catch', 'caucasian', 'cause', 'cd', 'celebrate', 'cell', 'center', 'center students', 'center time', 'centered', 'centers', 'central', 'century', 'century learners', 'century learning', 'century skills', 'certain', 'certainly', 'certainly control', 'certainly control experience', 'certainly control experience school', 'chair', 'chairs', 'chairs allow', 'chairs help', 'challenge', 'challenge students', 'challenged', 'challenges', 'challenges classroom', 'challenges classroom despite', 'challenges classroom despite many', 'challenges face', 'challenges face looking', 'challenges face looking keep', 'challenges students', 'challenging', 'chance', 'chances', 'change', 'change students', 'change world', 'changed', 'changes', 'changing', 'chapter', 'chapter books', 'character', 'characters', 'charge', 'charging', 'chart', 'charter', 'charter school', 'charts', 'check', 'chemistry', 'chicago', 'child', 'childhood', 'children', 'children come', 'children learn', 'children love', 'children need', 'children not', 'choice', 'choices', 'choose', 'choosing', 'chose', 'chosen', 'chrome', 'chrome books', 'chromebook', 'chromebooks', 'chromebooks allow', 'chromebooks classroom', 'chromebooks students', 'chromebooks would', 'circle', 'circuits', 'circumstances', 'citizens', 'city', 'city school', 'class', 'class consists', 'class full', 'class made', 'class my', 'class my students', 'class nannan', 'class not', 'class set', 'class students', 'class the', 'class they', 'class this', 'class time', 'class we', 'class would', 'classes', 'classic', 'classified', 'classmates', 'classroom', 'classroom allow', 'classroom allow students', 'classroom also', 'classroom come', 'classroom community', 'classroom consists', 'classroom day', 'classroom despite', 'classroom despite many', 'classroom despite many challenges', 'classroom environment', 'classroom every', 'classroom every day', 'classroom filled', 'classroom focus', 'classroom focus potential', 'classroom focus potential growth', 'classroom full', 'classroom help', 'classroom in', 'classroom it', 'classroom learning', 'classroom library', 'classroom many', 'classroom my', 'classroom my students', 'classroom nannan', 'classroom need', 'classroom not', 'classroom one', 'classroom our', 'classroom place', 'classroom safe', 'classroom school', 'classroom set', 'classroom setting', 'classroom students', 'classroom students able', 'classroom supplies', 'classroom the', 'classroom these', 'classroom they', 'classroom this', 'classroom use', 'classroom want', 'classroom we', 'classroom well', 'classroom with', 'classroom work', 'classroom would', 'classroom year', 'classrooms', 'classwork', 'clay', 'clean', 'clear', 'clearly', 'clever', 'climate', 'clipboards', 'close', 'closer', 'clothes', 'clothing', 'club', 'clubs', 'co', 'coach', 'code', 'coding', 'cognitive', 'cold', 'collaborate', 'collaborating', 'collaboration', 'collaborative', 'collaboratively', 'collect', 'collection', 'college', 'college career', 'color', 'color printer', 'colored', 'colored pencils', 'colorful', 'colors', 'com', 'combination', 'come', 'come alive', 'come class', 'come classroom', 'come different', 'come different backgrounds', 'come diverse', 'come diverse backgrounds', 'come families', 'come high', 'come high poverty', 'come homes', 'come life', 'come low', 'come low income', 'come low income families', 'come low income homes', 'come low socioeconomic', 'come many', 'come many different', 'come nannan', 'come school', 'come school day', 'come school eager', 'come school eager learn', 'come school every', 'come school every day', 'come school everyday', 'come school excited', 'come school ready', 'come school ready learn', 'come single', 'come single parent', 'come together', 'come variety', 'come variety backgrounds', 'come variety different', 'come various', 'come wide', 'comes', 'comfort', 'comfortable', 'comfortable learning', 'comfortable place', 'comfortably', 'comfy', 'coming', 'coming school', 'committed', 'common', 'common core', 'common core standards', 'communicate', 'communication', 'communication skills', 'communities', 'community', 'community learners', 'community my', 'community our', 'community school', 'community students', 'community the', 'community they', 'community we', 'compare', 'compassion', 'compassionate', 'compete', 'competition', 'competitions', 'competitive', 'complete', 'complete assignments', 'complete work', 'completed', 'completely', 'completing', 'complex', 'component', 'components', 'composition', 'comprehend', 'comprehension', 'comprehension skills', 'comprised', 'computer', 'computer lab', 'computer programming', 'computer science', 'computers', 'computers classroom', 'concentrate', 'concentration', 'concept', 'concepts', 'concrete', 'conditions', 'conducive', 'conduct', 'confidence', 'confident', 'connect', 'connected', 'connecting', 'connection', 'connections', 'consider', 'consideration', 'considered', 'considering', 'consist', 'consistent', 'consistently', 'consists', 'constant', 'constantly', 'construct', 'construction', 'contained', 'content', 'content areas', 'continually', 'continue', 'continue path', 'continue path academic', 'continue path academic excellence', 'continues', 'continuing', 'contribute', 'control', 'control experience', 'control experience school', 'control experience school day', 'control home', 'control home lives', 'control home lives however', 'conversation', 'conversations', 'cooking', 'cool', 'cooperation', 'cooperative', 'cooperatively', 'coordination', 'copies', 'copy', 'core', 'core muscles', 'core standards', 'core strength', 'corner', 'correct', 'correctly', 'cost', 'could', 'could not', 'could use', 'count', 'counting', 'countries', 'country', 'county', 'couple', 'course', 'courses', 'cover', 'covers', 'cozy', 'craft', 'crave', 'crayons', 'create', 'create classroom', 'create environment', 'create projects', 'created', 'creates', 'creating', 'creation', 'creations', 'creative', 'creative meaningful', 'creative meaningful learning', 'creative meaningful learning experiences', 'creative positive', 'creative positive way', 'creative positive way hopeful', 'creative ways', 'creatively', 'creativity', 'crime', 'critical', 'critical thinkers', 'critical thinking', 'critical thinking skills', 'critically', 'cross', 'crucial', 'cultural', 'cultural backgrounds', 'culturally', 'culturally diverse', 'culture', 'cultures', 'curiosity', 'curious', 'current', 'current events', 'currently', 'currently not', 'curricular', 'curriculum', 'cushions', 'cut', 'cuts', 'cutting', 'cycle', 'daily', 'daily basis', 'daily lives', 'dance', 'dancing', 'dash', 'data', 'date', 'day', 'day by', 'day classroom', 'day day', 'day eager', 'day excited', 'day full', 'day learning', 'day long', 'day many', 'day my', 'day my students', 'day nannan', 'day not', 'day our', 'day ready', 'day ready learn', 'day school', 'day students', 'day the', 'day these', 'day they', 'day this', 'day want', 'day we', 'days', 'deal', 'decided', 'decisions', 'dedicated', 'dedication', 'deep', 'deepen', 'deeper', 'deeply', 'definitely', 'delays', 'demand', 'demands', 'demonstrate', 'department', 'depth', 'describe', 'deserve', 'deserve best', 'deserves', 'deserving', 'design', 'designated', 'designed', 'designing', 'designs', 'desire', 'desire learn', 'desk', 'desks', 'desktop', 'desperate', 'desperately', 'desperately need', 'despite', 'despite challenges', 'despite many', 'despite many challenges', 'despite many challenges face', 'despite many hardships', 'details', 'determination', 'determine', 'determined', 'develop', 'develop love', 'develop skills', 'developed', 'developing', 'development', 'developmental', 'developmentally', 'device', 'devices', 'diagnosed', 'difference', 'difference lives', 'difference students', 'differences', 'different', 'different backgrounds', 'different countries', 'different cultures', 'different languages', 'different learning', 'different learning styles', 'different levels', 'different types', 'different ways', 'differentiate', 'differentiated', 'differentiated instruction', 'differentiation', 'differently', 'difficult', 'difficult students', 'difficult time', 'difficulties', 'difficulty', 'digital', 'direct', 'directed', 'direction', 'directions', 'directly', 'disabilities', 'disability', 'disadvantage', 'disadvantaged', 'discover', 'discovered', 'discoveries', 'discovering', 'discovery', 'discuss', 'discussing', 'discussion', 'discussions', 'disorder', 'disorders', 'display', 'displayed', 'distracted', 'distracting', 'distraction', 'distractions', 'district', 'district students', 'district students faced', 'district students faced several', 'districts', 'dive', 'diverse', 'diverse backgrounds', 'diverse group', 'diverse group students', 'diverse learners', 'diverse population', 'diverse school', 'diverse students', 'diversity', 'do', 'do remember', 'doctors', 'document', 'document camera', 'documents', 'donate', 'donated', 'donating', 'donating project', 'donation', 'donation help', 'donation project', 'donations', 'donations help', 'donations project', 'done', 'donors', 'donors choose', 'donorschoose', 'door', 'door classroom', 'door classroom focus', 'door classroom focus potential', 'doors', 'dot', 'dr', 'dr seuss', 'drama', 'dramatic', 'dramatic play', 'draw', 'drawing', 'dream', 'dreamers', 'dreams', 'drive', 'driven', 'drum', 'drums', 'dry', 'dry erase', 'dry erase boards', 'dry erase markers', 'dual', 'dual language', 'due', 'due lack', 'durable', 'during', 'dynamic', 'each', 'each child', 'each day', 'each student', 'each year', 'eager', 'eager learn', 'eager learn best', 'eager learn new', 'eager learn they', 'eager learners', 'eagerness', 'eagerness learn', 'earliest', 'earliest learners', 'early', 'early age', 'early childhood', 'early life', 'earn', 'earth', 'ease', 'easel', 'easier', 'easily', 'east', 'easy', 'easy access', 'eat', 'eating', 'economic', 'economic backgrounds', 'economic status', 'economically', 'economically disadvantaged', 'ed', 'edit', 'editing', 'educate', 'education', 'education class', 'education classroom', 'education my', 'education possible', 'education students', 'education teacher', 'educational', 'educational apps', 'educational experience', 'educational games', 'educator', 'educators', 'effect', 'effective', 'effectively', 'effects', 'efficient', 'efficiently', 'effort', 'efforts', 'eight', 'eighth', 'eighth grade', 'either', 'ela', 'electronic', 'elementary', 'elementary school', 'elements', 'eligible', 'eligible free', 'eliminate', 'ell', 'ell students', 'else', 'embrace', 'emotional', 'emotionally', 'emotions', 'empathy', 'emphasis', 'empower', 'empower students', 'empowered', 'empowering', 'enable', 'enable students', 'encounter', 'encourage', 'encourage students', 'encouraged', 'encouragement', 'encourages', 'encouraging', 'end', 'end day', 'end school', 'end school year', 'end year', 'endless', 'ends', 'ends meet', 'energetic', 'energy', 'engage', 'engage learning', 'engage students', 'engaged', 'engaged learning', 'engagement', 'engaging', 'engaging activities', 'engaging learning', 'engaging students', 'engaging way', 'engineering', 'engineering math', 'engineers', 'english', 'english language', 'english language arts', 'english language learners', 'english learners', 'english second', 'english second language', 'english spanish', 'enhance', 'enhance learning', 'enhance students', 'enjoy', 'enjoy coming', 'enjoy learning', 'enjoy reading', 'enjoyable', 'enjoyed', 'enjoying', 'enjoyment', 'enough', 'enrich', 'enriching', 'enrichment', 'enrolled', 'ensure', 'ensure students', 'enter', 'enter classroom', 'entering', 'enthusiasm', 'enthusiastic', 'enthusiastic learners', 'entire', 'entire school', 'environment', 'environment my', 'environment nannan', 'environment students', 'environment the', 'environmental', 'environments', 'equal', 'equipment', 'equipped', 'erase', 'erase boards', 'erase markers', 'erasers', 'escape', 'esl', 'esl students', 'esol', 'especially', 'essays', 'essential', 'essentials', 'esteem', 'etc', 'ethnic', 'ethnic backgrounds', 'ethnically', 'even', 'even earliest', 'even though', 'event', 'events', 'eventually', 'ever', 'ever changing', 'every', 'every child', 'every day', 'every day full', 'every day my', 'every day ready', 'every day students', 'every day they', 'every morning', 'every one', 'every opportunity', 'every single', 'every single day', 'every student', 'every year', 'everyday', 'everyone', 'everything', 'everything need', 'evidence', 'exactly', 'example', 'examples', 'excel', 'excellence', 'excellent', 'exceptional', 'excess', 'excess energy', 'excite', 'excited', 'excited come', 'excited learn', 'excited learning', 'excited reading', 'excited ready', 'excited school', 'excited see', 'excitement', 'excitement learning', 'exciting', 'exercise', 'exercise balls', 'exercises', 'exercising', 'expand', 'expanding', 'expect', 'expectations', 'expected', 'expensive', 'experience', 'experience school', 'experience school day', 'experience students', 'experienced', 'experiences', 'experiences many', 'experiences many us', 'experiences my', 'experiences my students', 'experiences students', 'experiencing', 'experiment', 'experiments', 'explain', 'exploration', 'explore', 'explore learn', 'explore new', 'explore world', 'exploring', 'expose', 'expose students', 'exposed', 'exposing', 'exposure', 'express', 'expression', 'extend', 'extended', 'extra', 'extra support', 'extreme', 'extremely', 'eye', 'eyes', 'fabulous', 'face', 'face challenges', 'face looking', 'face looking keep', 'face looking keep things', 'face many', 'face many challenges', 'faced', 'faced many', 'faced several', 'faced several challenges', 'faced several challenges classroom', 'faces', 'facilitate', 'facing', 'fact', 'factors', 'facts', 'fair', 'fall', 'falling', 'familiar', 'families', 'families many', 'families not', 'family', 'family members', 'fantastic', 'far', 'farm', 'fast', 'faster', 'favorite', 'fear', 'features', 'feed', 'feedback', 'feel', 'feel comfortable', 'feel like', 'feel safe', 'feel successful', 'feeling', 'feelings', 'feels', 'feet', 'felt', 'fiction', 'fidget', 'field', 'field trips', 'fields', 'fifth', 'fifth grade', 'fifth grade students', 'fifth graders', 'figure', 'fill', 'filled', 'film', 'final', 'finally', 'financial', 'financially', 'find', 'find ways', 'finding', 'findings', 'fine', 'fine motor', 'fine motor skills', 'fingertips', 'finish', 'finished', 'fire', 'first', 'first day', 'first generation', 'first grade', 'first grade classroom', 'first grade students', 'first graders', 'first hand', 'first language', 'first time', 'first year', 'first year teacher', 'fit', 'fitness', 'fits', 'five', 'five year', 'flexibility', 'flexible', 'flexible seating', 'flexible seating classroom', 'flexible seating options', 'flood', 'floor', 'florida', 'flow', 'fluency', 'fluency comprehension', 'fluent', 'focus', 'focus learning', 'focus potential', 'focus potential growth', 'focus work', 'focused', 'focuses', 'focusing', 'folder', 'folders', 'follow', 'follow along', 'following', 'food', 'foods', 'foot', 'football', 'for', 'for example', 'for many', 'for many students', 'for students', 'force', 'forever', 'forget', 'form', 'format', 'forms', 'forth', 'fortunate', 'forward', 'foster', 'foster love', 'fosters', 'found', 'foundation', 'foundational', 'four', 'fourth', 'fourth grade', 'fourth grade students', 'fourth graders', 'fractions', 'free', 'free breakfast', 'free breakfast lunch', 'free breakfast lunch many', 'free lunch', 'free lunch based', 'free lunch based socioeconomic', 'free reduced', 'free reduced lunch', 'free reduced lunch many', 'free reduced lunch my', 'free reduced lunches', 'free reduced price', 'free reduced price lunch', 'freedom', 'freely', 'frequently', 'fresh', 'friday', 'friend', 'friendly', 'friends', 'from', 'from minute', 'from minute walk', 'from minute walk door', 'front', 'frustrated', 'frustration', 'fulfill', 'full', 'full energy', 'full life', 'full life ready', 'full life ready learn', 'full potential', 'fullest', 'fully', 'fun', 'fun engaging', 'fun exciting', 'fun learning', 'fun loving', 'fun way', 'function', 'functional', 'functioning', 'functions', 'fund', 'fundamental', 'funded', 'funding', 'funding project', 'funds', 'funny', 'furniture', 'furthermore', 'future', 'future leaders', 'future nannan', 'future students', 'futures', 'gain', 'gaining', 'gains', 'game', 'games', 'games activities', 'gap', 'gaps', 'garden', 'gather', 'general', 'general education', 'generation', 'generosity', 'generous', 'generous donation', 'genres', 'geometry', 'get', 'get chance', 'get excited', 'get hands', 'get opportunity', 'get school', 'get students', 'get wiggles', 'get work', 'gets', 'getting', 'getting ahead', 'gift', 'gifted', 'gifted students', 'gifted talented', 'girls', 'give', 'give best', 'give opportunity', 'give students', 'give students chance', 'give students opportunity', 'give us', 'given', 'given opportunity', 'gives', 'gives students', 'giving', 'giving students', 'global', 'glue', 'go', 'go beyond', 'go college', 'go home', 'goal', 'goal create', 'goal help', 'goal make', 'goal provide', 'goal students', 'goals', 'goes', 'going', 'gone', 'good', 'good book', 'google', 'google classroom', 'got', 'government', 'grab', 'grade', 'grade class', 'grade classroom', 'grade level', 'grade levels', 'grade math', 'grade my', 'grade reading', 'grade school', 'grade students', 'grade teacher', 'graders', 'graders come', 'graders love', 'graders they', 'grades', 'graduate', 'graduation', 'grammar', 'grandparents', 'grant', 'granted', 'graphic', 'graphic novels', 'graphing', 'grasp', 'grateful', 'great', 'great deal', 'great group', 'great things', 'great way', 'greater', 'greatest', 'greatly', 'greatly appreciated', 'greatly benefit', 'green', 'greet', 'gross', 'gross motor', 'ground', 'group', 'group activities', 'group children', 'group instruction', 'group kids', 'group learners', 'group students', 'group time', 'group work', 'groups', 'groups students', 'grow', 'grow learn', 'growing', 'grown', 'growth', 'growth mindset', 'guidance', 'guide', 'guided', 'guided reading', 'gym', 'habits', 'half', 'half students', 'hand', 'handle', 'hands', 'hands activities', 'hands experience', 'hands experiences', 'hands learning', 'hands materials', 'hands projects', 'happen', 'happening', 'happens', 'happy', 'hard', 'hard every', 'hard every day', 'hard make', 'hard time', 'hard work', 'hard workers', 'hard working', 'harder', 'hardest', 'hardships', 'hardships students', 'hardworking', 'have', 'have ever', 'having', 'having access', 'head', 'headphones', 'health', 'healthier', 'healthy', 'healthy snacks', 'hear', 'heard', 'hearing', 'heart', 'hearts', 'heavy', 'held', 'help', 'help achieve', 'help become', 'help bring', 'help build', 'help children', 'help classroom', 'help create', 'help develop', 'help focus', 'help get', 'help give', 'help grow', 'help improve', 'help increase', 'help keep', 'help kids', 'help learn', 'help make', 'help meet', 'help nannan', 'help prepare', 'help provide', 'help reach', 'help stay', 'help student', 'help students', 'help students become', 'help students develop', 'help students get', 'help students learn', 'help students stay', 'help succeed', 'help successful', 'help support', 'help teach', 'help understand', 'help us', 'helped', 'helpful', 'helping', 'helping students', 'helps', 'helps students', 'high', 'high energy', 'high expectations', 'high interest', 'high level', 'high needs', 'high percentage', 'high poverty', 'high poverty area', 'high poverty school', 'high poverty school district', 'high quality', 'high school', 'high school students', 'higher', 'higher level', 'highest', 'highlight', 'highly', 'highly motivated', 'hispanic', 'historical', 'history', 'hit', 'hokki', 'hokki stools', 'hold', 'home', 'home life', 'home lives', 'home lives however', 'home lives however certainly', 'home my', 'home school', 'home students', 'home the', 'home they', 'homeless', 'homes', 'homework', 'honor', 'hope', 'hopeful', 'hopeful inspire', 'hopefully', 'hopes', 'hoping', 'hot', 'hour', 'hours', 'hours day', 'house', 'household', 'households', 'households receive', 'households receive free', 'houses', 'housing', 'how', 'however', 'however certainly', 'however certainly control', 'however certainly control experience', 'however not', 'however students', 'huge', 'huge difference', 'human', 'hundred', 'hunger', 'hungry', 'hygiene', 'idea', 'ideal', 'ideas', 'identified', 'identify', 'iep', 'if', 'if students', 'illustrations', 'images', 'imagination', 'imaginations', 'imaginative', 'imagine', 'immediate', 'immediately', 'immersion', 'immigrant', 'immigrants', 'impact', 'impact students', 'impairments', 'imperative', 'implement', 'implementing', 'importance', 'important', 'important part', 'important students', 'importantly', 'impossible', 'impoverished', 'improve', 'improve classroom', 'improve reading', 'improve students', 'improved', 'improvement', 'improves', 'improving', 'in', 'in addition', 'in class', 'in classroom', 'in order', 'in school', 'include', 'included', 'includes', 'including', 'inclusion', 'inclusive', 'income', 'income area', 'income families', 'income high', 'income high poverty', 'income high poverty school', 'income homes', 'income households', 'income school', 'income students', 'incorporate', 'incorporating', 'increase', 'increase reading', 'increase student', 'increase students', 'increased', 'increases', 'increasing', 'increasingly', 'incredible', 'incredibly', 'independence', 'independent', 'independent reading', 'independent work', 'independently', 'individual', 'individual learning', 'individual needs', 'individualized', 'individually', 'individuals', 'indoor', 'information', 'informational', 'initiative', 'ink', 'inner', 'inner city', 'inner city school', 'innovation', 'innovative', 'input', 'inquiry', 'inquiry based', 'inquisitive', 'inside', 'inside classroom', 'inside outside', 'inspiration', 'inspire', 'inspire even', 'inspire students', 'inspired', 'inspired project', 'inspires', 'inspiring', 'instant', 'instead', 'instill', 'instill love', 'instruction', 'instruction students', 'instructional', 'instrument', 'instruments', 'integral', 'integrate', 'integrated', 'integrating', 'integration', 'intellectual', 'intellectual disabilities', 'intelligent', 'interact', 'interacting', 'interaction', 'interactions', 'interactive', 'interactive notebooks', 'interest', 'interested', 'interesting', 'interests', 'international', 'internet', 'intervention', 'interventions', 'introduce', 'introduced', 'introducing', 'investigate', 'investigations', 'inviting', 'involve', 'involved', 'involvement', 'involves', 'ipad', 'ipad mini', 'ipad minis', 'ipads', 'ipads classroom', 'issue', 'issues', 'it', 'it allow', 'it also', 'it amazing', 'it difficult', 'it goal', 'it hard', 'it help', 'it hope', 'it important', 'it important students', 'it job', 'it not', 'it would', 'item', 'items', 'items help', 'job', 'jobs', 'join', 'journal', 'journals', 'journey', 'joy', 'jump', 'junior', 'just', 'keep', 'keep engaged', 'keep students', 'keep students engaged', 'keep things', 'keep things simple', 'keep things simple provide', 'keeping', 'keeps', 'key', 'keyboard', 'kid', 'kid inspired', 'kiddos', 'kids', 'kids come', 'kids learn', 'kids love', 'kids need', 'kids not', 'kids they', 'kind', 'kindergarten', 'kindergarten class', 'kindergarten classroom', 'kindergarten first', 'kindergarten students', 'kindergarteners', 'kindergartners', 'kindle', 'kindles', 'kindness', 'kinds', 'kinesthetic', 'kit', 'kitchen', 'kits', 'knew', 'knit', 'know', 'know students', 'knowing', 'knowledge', 'known', 'knows', 'lab', 'labs', 'lack', 'lack resources', 'lacking', 'lacks', 'language', 'language arts', 'language learners', 'language skills', 'languages', 'languages spoken', 'lap', 'laptop', 'laptops', 'large', 'large urban', 'larger', 'largest', 'last', 'last year', 'lasting', 'lastly', 'later', 'latest', 'latino', 'laugh', 'lay', 'lead', 'leader', 'leaders', 'leadership', 'leading', 'leads', 'learn', 'learn best', 'learn better', 'learn day', 'learn different', 'learn english', 'learn every', 'learn every day', 'learn excited', 'learn explore', 'learn fun', 'learn grow', 'learn love', 'learn many', 'learn math', 'learn much', 'learn my', 'learn my students', 'learn nannan', 'learn new', 'learn new things', 'learn not', 'learn our', 'learn play', 'learn read', 'learn science', 'learn skills', 'learn something', 'learn something new', 'learn students', 'learn successful', 'learn the', 'learn these', 'learn they', 'learn this', 'learn use', 'learn want', 'learn way', 'learn we', 'learn work', 'learn world', 'learn world around', 'learned', 'learner', 'learners', 'learners continue', 'learners continue path', 'learners continue path academic', 'learners many', 'learners my', 'learners my students', 'learners nannan', 'learners need', 'learners our', 'learners students', 'learners the', 'learners they', 'learners we', 'learning', 'learning activities', 'learning center', 'learning centers', 'learning classroom', 'learning community', 'learning disabilities', 'learning english', 'learning english second', 'learning english second language', 'learning environment', 'learning environment students', 'learning experience', 'learning experiences', 'learning experiences my', 'learning experiences my students', 'learning fun', 'learning hands', 'learning in', 'learning it', 'learning love', 'learning many', 'learning materials', 'learning math', 'learning my', 'learning my students', 'learning nannan', 'learning needs', 'learning new', 'learning new things', 'learning not', 'learning opportunities', 'learning our', 'learning play', 'learning process', 'learning read', 'learning school', 'learning skills', 'learning space', 'learning students', 'learning style', 'learning styles', 'learning technology', 'learning the', 'learning these', 'learning they', 'learning this', 'learning time', 'learning tools', 'learning use', 'learning want', 'learning we', 'learning with', 'learns', 'least', 'leave', 'leaving', 'led', 'left', 'lego', 'legos', 'legs', 'less', 'lesson', 'lessons', 'lessons students', 'let', 'letter', 'letters', 'letters sounds', 'level', 'level my', 'level reading', 'level students', 'leveled', 'levels', 'library', 'library students', 'life', 'life experiences', 'life experiences many', 'life long', 'life long learners', 'life may', 'life my', 'life nannan', 'life ready', 'life ready learn', 'life skills', 'life they', 'lifelong', 'lifelong learners', 'lifestyle', 'lifetime', 'light', 'lights', 'like', 'like move', 'like provide', 'like students', 'like use', 'likely', 'limit', 'limited', 'limited access', 'limited resources', 'limits', 'line', 'lines', 'list', 'listen', 'listen stories', 'listening', 'listening center', 'literacy', 'literacy centers', 'literacy math', 'literacy skills', 'literally', 'literary', 'literate', 'literature', 'little', 'little bit', 'little learners', 'little no', 'little ones', 'live', 'live high', 'live low', 'live poverty', 'live rural', 'lively', 'lives', 'lives however', 'lives however certainly', 'lives however certainly control', 'lives nannan', 'lives students', 'living', 'living poverty', 'local', 'located', 'located rural', 'location', 'long', 'long learners', 'long periods', 'long periods time', 'long way', 'longer', 'look', 'look forward', 'looking', 'looking forward', 'looking keep', 'looking keep things', 'looking keep things simple', 'looking ways', 'looks', 'los', 'los angeles', 'lose', 'lost', 'lot', 'lot students', 'lot time', 'lots', 'lots positive', 'loud', 'love', 'love able', 'love books', 'love coming', 'love coming school', 'love explore', 'love hands', 'love learn', 'love learning', 'love move', 'love play', 'love read', 'love reading', 'love school', 'love science', 'love see', 'love students', 'love technology', 'love use', 'love using', 'love working', 'loved', 'loves', 'loving', 'low', 'low economic', 'low income', 'low income area', 'low income families', 'low income high', 'low income high poverty', 'low income homes', 'low income households', 'low income school', 'low income students', 'low socio', 'low socio economic', 'low socioeconomic', 'lower', 'lowest', 'lucky', 'lucky enough', 'lunch', 'lunch based', 'lunch based socioeconomic', 'lunch based socioeconomic status', 'lunch breakfast', 'lunch many', 'lunch many students', 'lunch my', 'lunch my students', 'lunch our', 'lunch our school', 'lunch program', 'lunch school', 'lunch students', 'lunch the', 'lunch they', 'lunch we', 'lunches', 'machine', 'machines', 'made', 'magazine', 'magazines', 'magic', 'magnet', 'magnet school', 'magnetic', 'main', 'mainly', 'maintain', 'maintaining', 'major', 'majority', 'majority students', 'majority students come', 'make', 'make classroom', 'make connections', 'make difference', 'make difference students', 'make ends', 'make ends meet', 'make happen', 'make huge', 'make huge difference', 'make learning', 'make learning fun', 'make possible', 'make school', 'make students', 'make sure', 'make sure students', 'make world', 'maker', 'makerspace', 'makes', 'making', 'making sure', 'manage', 'management', 'manipulate', 'manipulative', 'manipulatives', 'manner', 'many', 'many books', 'many challenges', 'many challenges face', 'many challenges face looking', 'many children', 'many come', 'many different', 'many different backgrounds', 'many different ways', 'many families', 'many hardships', 'many kids', 'many not', 'many obstacles', 'many opportunities', 'many parents', 'many raised', 'many raised single', 'many raised single parent', 'many resources', 'many students', 'many students come', 'many students come low', 'many students live', 'many students not', 'many students not access', 'many students receive', 'many students school', 'many students struggle', 'many things', 'many times', 'many us', 'many ways', 'many years', 'maps', 'markers', 'master', 'mastery', 'match', 'material', 'materials', 'materials allow', 'materials allow students', 'materials classroom', 'materials help', 'materials help students', 'materials make', 'materials need', 'materials needed', 'materials requested', 'materials requesting', 'materials students', 'materials used', 'materials would', 'math', 'math centers', 'math class', 'math concepts', 'math facts', 'math games', 'math literacy', 'math manipulatives', 'math problems', 'math reading', 'math science', 'math science social', 'math science social studies', 'math skills', 'math students', 'mathematical', 'mathematicians', 'mathematics', 'mats', 'matter', 'maximize', 'may', 'may not', 'may not able', 'may not able control', 'may prevent', 'maybe', 'meal', 'meals', 'mean', 'meaning', 'meaningful', 'meaningful learning', 'meaningful learning experiences', 'means', 'means students', 'measure', 'media', 'media center', 'medical', 'meet', 'meet needs', 'meet needs students', 'meet students', 'meeting', 'meetings', 'meets', 'member', 'members', 'memorable', 'memories', 'memory', 'men', 'mental', 'mentor', 'met', 'method', 'methods', 'mexico', 'middle', 'middle class', 'middle school', 'middle school students', 'might', 'might not', 'miles', 'military', 'mind', 'minds', 'mindset', 'mine', 'mini', 'minimal', 'minis', 'minority', 'minute', 'minute walk', 'minute walk door', 'minute walk door classroom', 'minutes', 'minutes day', 'miss', 'missing', 'mission', 'mistakes', 'mix', 'mixed', 'mobile', 'model', 'modeling', 'models', 'moderate', 'modern', 'moment', 'moments', 'money', 'monitor', 'month', 'months', 'more', 'morning', 'most', 'most students', 'most students come', 'most students not', 'mostly', 'motion', 'motivate', 'motivate students', 'motivated', 'motivated learn', 'motivating', 'motivation', 'motor', 'motor skills', 'motto', 'mouse', 'move', 'move around', 'move learn', 'moved', 'movement', 'movements', 'movie', 'movies', 'moving', 'moving around', 'mrs', 'much', 'much fun', 'much needed', 'much possible', 'much time', 'multi', 'multicultural', 'multiple', 'multiplication', 'multitude', 'muscles', 'music', 'music class', 'musical', 'musicians', 'must', 'my', 'my class', 'my classroom', 'my first', 'my first grade', 'my first graders', 'my goal', 'my hope', 'my kids', 'my kindergarten', 'my kindergarten students', 'my project', 'my scholars', 'my school', 'my school located', 'my school title', 'my school title school', 'my second', 'my student', 'my students', 'my students able', 'my students active', 'my students also', 'my students always', 'my students amazing', 'my students attend', 'my students bright', 'my students come', 'my students come diverse', 'my students come low', 'my students come school', 'my students come variety', 'my students creative', 'my students curious', 'my students deserve', 'my students diverse', 'my students diverse group', 'my students eager', 'my students eager learn', 'my students energetic', 'my students enjoy', 'my students enthusiastic', 'my students excited', 'my students face', 'my students hard', 'my students hard working', 'my students learn', 'my students learning', 'my students live', 'my students love', 'my students love learn', 'my students love read', 'my students need', 'my students not', 'my students often', 'my students range', 'my students special', 'my students use', 'my students walk', 'my students walk classroom', 'my students want', 'my students wonderful', 'my students work', 'my students work hard', 'my students would', 'my third', 'name', 'names', 'nannan', 'nation', 'national', 'native', 'natural', 'naturally', 'nature', 'navigate', 'near', 'nearly', 'necessary', 'necessary materials', 'necessities', 'necessity', 'need', 'need able', 'need access', 'need additional', 'need books', 'need classroom', 'need extra', 'need hands', 'need help', 'need know', 'need learn', 'need little', 'need many', 'need materials', 'need move', 'need movement', 'need new', 'need order', 'need succeed', 'need successful', 'need supplies', 'need support', 'need technology', 'need tools', 'needed', 'needing', 'needs', 'needs met', 'needs my', 'needs my students', 'needs students', 'needs the', 'needs they', 'negative', 'neighborhood', 'neighborhood school', 'neighborhoods', 'never', 'new', 'new books', 'new classroom', 'new concepts', 'new exciting', 'new experiences', 'new ideas', 'new information', 'new language', 'new learning', 'new materials', 'new school', 'new school year', 'new skills', 'new students', 'new technology', 'new things', 'new way', 'new ways', 'new york', 'news', 'next', 'next generation', 'next level', 'next year', 'nice', 'night', 'nine', 'no', 'no longer', 'no matter', 'no one', 'noise', 'non', 'non fiction', 'non verbal', 'nonfiction', 'normal', 'normally', 'north', 'north carolina', 'not', 'not able', 'not able control', 'not able control home', 'not access', 'not access technology', 'not afford', 'not allow', 'not always', 'not available', 'not books', 'not come', 'not enough', 'not even', 'not get', 'not help', 'not know', 'not learn', 'not let', 'not like', 'not lot', 'not many', 'not much', 'not opportunity', 'not provide', 'not resources', 'not speak', 'not speak english', 'not stop', 'not students', 'not wait', 'not want', 'not work', 'not yet', 'note', 'notebook', 'notebooks', 'notes', 'nothing', 'noticed', 'novel', 'novels', 'now', 'number', 'number sense', 'number students', 'numbers', 'numerous', 'nurturing', 'nutrition', 'objects', 'observe', 'obstacles', 'obtain', 'odds', 'of', 'offer', 'offer students', 'offered', 'offering', 'offers', 'office', 'often', 'often not', 'often times', 'old', 'old students', 'older', 'olds', 'on', 'once', 'one', 'one another', 'one day', 'one favorite', 'one one', 'one school', 'one student', 'one students', 'one thing', 'one thing common', 'one way', 'ones', 'online', 'onto', 'open', 'opened', 'opening', 'opens', 'opportunities', 'opportunities learn', 'opportunities students', 'opportunity', 'opportunity explore', 'opportunity learn', 'opportunity move', 'opportunity students', 'opportunity use', 'opportunity work', 'option', 'options', 'options students', 'oral', 'orchestra', 'order', 'order help', 'order students', 'order successful', 'org', 'organization', 'organizational', 'organize', 'organized', 'original', 'osmo', 'other', 'others', 'otherwise', 'our', 'our class', 'our classroom', 'our community', 'our district', 'our goal', 'our school', 'our school located', 'our school serves', 'our school title', 'our school title school', 'our student', 'our students', 'our students come', 'our students need', 'outdated', 'outdoor', 'outdoors', 'outlet', 'outside', 'outside box', 'outside classroom', 'outside school', 'over', 'overall', 'overcome', 'ownership', 'ownership learning', 'pace', 'pad', 'pads', 'page', 'pages', 'paint', 'painting', 'paper', 'paper pencil', 'papers', 'parent', 'parent homes', 'parent households', 'parent households receive', 'parent households receive free', 'parental', 'parents', 'parents not', 'parents students', 'parents work', 'park', 'part', 'part day', 'participate', 'participating', 'participation', 'particular', 'particularly', 'partner', 'partners', 'parts', 'pass', 'passion', 'passion learning', 'passionate', 'past', 'path', 'path academic', 'path academic excellence', 'patterns', 'pay', 'pe', 'peer', 'peers', 'pen', 'pencil', 'pencil sharpener', 'pencils', 'pens', 'people', 'per', 'percent', 'percent students', 'percent students receive', 'percent students receive free', 'percentage', 'percentage students', 'perfect', 'perform', 'performance', 'performances', 'performing', 'period', 'periods', 'periods time', 'perseverance', 'persevere', 'person', 'personal', 'personalities', 'personalized', 'personally', 'perspective', 'perspectives', 'philadelphia', 'phones', 'phonics', 'photography', 'photos', 'physical', 'physical activity', 'physical education', 'physically', 'physics', 'pick', 'picture', 'pictures', 'piece', 'pieces', 'pillows', 'place', 'place learn', 'place students', 'placed', 'places', 'plan', 'plan use', 'planning', 'plans', 'plant', 'plants', 'plastic', 'play', 'play games', 'player', 'players', 'playground', 'playing', 'playing field', 'plays', 'please', 'please consider', 'please help', 'please help students', 'please help us', 'pleasure', 'plus', 'pocket', 'pockets', 'poetry', 'point', 'points', 'poor', 'popular', 'population', 'population students', 'portable', 'portfolios', 'portion', 'position', 'positive', 'positive attention', 'positive attitude', 'positive learning', 'positive way', 'positive way hopeful', 'positive way hopeful inspire', 'positively', 'possibilities', 'possibilities endless', 'possible', 'possible students', 'possibly', 'post', 'posters', 'posture', 'potential', 'potential growth', 'poverty', 'poverty area', 'poverty level', 'poverty line', 'poverty school', 'poverty school district', 'poverty school district students', 'poverty stricken', 'power', 'powerful', 'practice', 'practice math', 'practice reading', 'practice skills', 'practices', 'practicing', 'pre', 'pre kindergarten', 'precious', 'prefer', 'prek', 'prep', 'prepare', 'prepare future', 'prepare students', 'prepared', 'preparing', 'preschool', 'preschoolers', 'present', 'presentation', 'presentations', 'presented', 'pretty', 'prevent', 'prevent getting', 'previous', 'previously', 'price', 'price lunch', 'pride', 'primarily', 'primary', 'print', 'printed', 'printer', 'printing', 'prior', 'priority', 'privilege', 'pro', 'problem', 'problem solve', 'problem solvers', 'problem solving', 'problem solving skills', 'problems', 'process', 'processes', 'processing', 'produce', 'product', 'production', 'productive', 'products', 'professional', 'proficiency', 'proficient', 'program', 'program students', 'programming', 'programs', 'progress', 'project', 'project allow', 'project allow students', 'project based', 'project based learning', 'project funded', 'project give', 'project help', 'project help students', 'project improve', 'project make', 'project make difference', 'project nannan', 'project not', 'project provide', 'project students', 'project would', 'projector', 'projects', 'projects students', 'promote', 'promotes', 'promoting', 'proper', 'properly', 'protect', 'proud', 'prove', 'proven', 'provide', 'provide best', 'provide many', 'provide opportunities', 'provide opportunity', 'provide safe', 'provide students', 'provide students creative', 'provide students creative meaningful', 'provide students opportunity', 'provided', 'provides', 'provides students', 'providing', 'providing students', 'public', 'public school', 'publish', 'pull', 'purchase', 'purchased', 'purchasing', 'purpose', 'purposes', 'pursue', 'push', 'put', 'putting', 'puzzles', 'qualify', 'qualify free', 'qualify free reduced', 'qualify free reduced lunch', 'qualify free reduced price', 'quality', 'quality education', 'question', 'questions', 'quick', 'quickly', 'quiet', 'quite', 'quote', 'race', 'raise', 'raised', 'raised single', 'raised single parent', 'raised single parent households', 'range', 'ranging', 'rarely', 'rate', 'rates', 'rather', 'reach', 'reach full', 'reach full potential', 'reach goals', 'reach students', 'reaching', 'read', 'read aloud', 'read alouds', 'read book', 'read books', 'read independently', 'read love', 'read the', 'read they', 'read write', 'reader', 'readers', 'readers nannan', 'readers writers', 'readily', 'readily available', 'readiness', 'reading', 'reading book', 'reading books', 'reading comprehension', 'reading fluency', 'reading grade', 'reading grade level', 'reading groups', 'reading level', 'reading levels', 'reading materials', 'reading math', 'reading my', 'reading nannan', 'reading program', 'reading skills', 'reading students', 'reading the', 'reading they', 'reading time', 'reading writing', 'reading writing math', 'ready', 'ready learn', 'ready learn excited', 'ready learn they', 'real', 'real life', 'real world', 'real world problems', 'reality', 'realize', 'realized', 'really', 'really enjoy', 'reason', 'reasons', 'receive', 'receive free', 'receive free breakfast', 'receive free breakfast lunch', 'receive free lunch', 'receive free lunch based', 'receive free reduced', 'receive free reduced lunch', 'receive free reduced price', 'received', 'receives', 'receives free', 'receiving', 'receiving free', 'receiving free reduced', 'receiving free reduced lunch', 'recent', 'recently', 'recess', 'recognition', 'recognize', 'record', 'recording', 'reduce', 'reduced', 'reduced lunch', 'reduced lunch many', 'reduced lunch my', 'reduced lunches', 'reduced price', 'reduced price lunch', 'reference', 'reflect', 'regardless', 'regular', 'regular basis', 'regular education', 'regularly', 'reinforce', 'relate', 'related', 'relationships', 'relax', 'release', 'relevant', 'reluctant', 'rely', 'remain', 'remember', 'replace', 'reports', 'represent', 'represented', 'request', 'requested', 'requesting', 'require', 'required', 'requires', 'research', 'research projects', 'research shown', 'research shows', 'researching', 'resilient', 'resource', 'resources', 'resources available', 'resources help', 'resources home', 'resources need', 'resources students', 'respect', 'respectful', 'respond', 'response', 'responsibility', 'responsible', 'rest', 'result', 'results', 'retain', 'return', 'review', 'reward', 'rewarding', 'rhythm', 'rich', 'right', 'rigor', 'rigorous', 'rise', 'risk', 'risks', 'robot', 'robotics', 'robots', 'rock', 'role', 'roll', 'room', 'room students', 'rotate', 'rotations', 'rough', 'round', 'rounded', 'routine', 'routines', 'rug', 'rules', 'run', 'running', 'rural', 'rural area', 'rural community', 'rural school', 'safe', 'safe environment', 'safe learning', 'safe learning environment', 'safe place', 'safely', 'safety', 'said', 'san', 'sand', 'save', 'savvy', 'saw', 'say', 'saying', 'schedule', 'scholars', 'scholastic', 'scholastic news', 'school', 'school 100', 'school 100 students', 'school also', 'school classroom', 'school come', 'school community', 'school day', 'school day by', 'school district', 'school district students', 'school district students faced', 'school diverse', 'school eager', 'school eager learn', 'school environment', 'school every', 'school every day', 'school everyday', 'school excited', 'school experience', 'school first', 'school high', 'school high poverty', 'school home', 'school it', 'school large', 'school learn', 'school learning', 'school library', 'school limited', 'school located', 'school love', 'school low', 'school low income', 'school majority', 'school many', 'school many students', 'school means', 'school my', 'school my students', 'school nannan', 'school not', 'school one', 'school our', 'school our school', 'school place', 'school population', 'school provides', 'school ready', 'school ready learn', 'school receive', 'school receive free', 'school rural', 'school safe', 'school school', 'school serves', 'school serves students', 'school setting', 'school small', 'school students', 'school supplies', 'school teach', 'school the', 'school these', 'school they', 'school this', 'school title', 'school title school', 'school want', 'school we', 'school wide', 'school without', 'school work', 'school year', 'schools', 'science', 'science class', 'science concepts', 'science math', 'science social', 'science social studies', 'science standards', 'science students', 'science technology', 'science technology engineering', 'science technology engineering math', 'scientific', 'scientists', 'scissors', 'scores', 'screen', 'search', 'season', 'seat', 'seated', 'seating', 'seating choices', 'seating classroom', 'seating option', 'seating options', 'seating students', 'seats', 'second', 'second grade', 'second grade students', 'second graders', 'second language', 'second language learners', 'second year', 'section', 'secure', 'see', 'see students', 'seeing', 'seek', 'seeking', 'seem', 'seems', 'seen', 'select', 'selected', 'selection', 'self', 'self confidence', 'self contained', 'self esteem', 'semester', 'send', 'sense', 'sense community', 'senses', 'sensory', 'sensory needs', 'sentence', 'sentences', 'series', 'serious', 'serve', 'serve students', 'serves', 'serves students', 'service', 'services', 'serving', 'sessions', 'set', 'sets', 'setting', 'settings', 'seuss', 'seven', 'seventh', 'several', 'several challenges', 'several challenges classroom', 'several challenges classroom despite', 'several students', 'severe', 'shape', 'shapes', 'share', 'share ideas', 'shared', 'sharing', 'sharpener', 'shelves', 'shine', 'shoes', 'short', 'show', 'show students', 'showcase', 'showing', 'shown', 'shows', 'siblings', 'side', 'sight', 'sight word', 'sight words', 'sign', 'significant', 'significantly', 'similar', 'simple', 'simple provide', 'simple provide students', 'simple provide students creative', 'simply', 'since', 'since students', 'sing', 'singing', 'single', 'single day', 'single parent', 'single parent homes', 'single parent households', 'sit', 'sit still', 'site', 'sites', 'sitting', 'sitting still', 'situation', 'situations', 'six', 'six year', 'sixth', 'sixth grade', 'size', 'sizes', 'skill', 'skills', 'skills also', 'skills help', 'skills learning', 'skills my', 'skills my students', 'skills nannan', 'skills necessary', 'skills need', 'skills needed', 'skills students', 'skills the', 'skills these', 'skills they', 'skills we', 'skills well', 'small', 'small community', 'small group', 'small group instruction', 'small groups', 'small rural', 'small school', 'small town', 'smaller', 'smart', 'smart board', 'smile', 'smile face', 'smiles', 'smiles faces', 'smiling', 'snack', 'snacks', 'so', 'soak', 'soar', 'soccer', 'social', 'social emotional', 'social skills', 'social studies', 'socially', 'society', 'socio', 'socio economic', 'socio economic backgrounds', 'socioeconomic', 'socioeconomic backgrounds', 'socioeconomic status', 'soft', 'software', 'solar', 'solid', 'solution', 'solutions', 'solve', 'solve problems', 'solvers', 'solving', 'solving skills', 'some', 'some students', 'someone', 'something', 'something new', 'sometimes', 'song', 'songs', 'soon', 'sort', 'sound', 'sounds', 'source', 'sources', 'south', 'southern', 'space', 'space students', 'spaces', 'spanish', 'spark', 'speak', 'speak english', 'speaker', 'speakers', 'speaking', 'special', 'special education', 'special education students', 'special education teacher', 'special needs', 'special needs students', 'specific', 'specific learning', 'specifically', 'spectrum', 'speech', 'speech language', 'speed', 'spelling', 'spend', 'spend time', 'spending', 'spent', 'spirit', 'spoken', 'sponges', 'sport', 'sports', 'spot', 'spots', 'spread', 'spring', 'stability', 'stability balls', 'staff', 'stage', 'stamina', 'stand', 'standard', 'standardized', 'standards', 'standing', 'standing desks', 'stands', 'stars', 'start', 'start day', 'start school', 'started', 'starting', 'starts', 'state', 'state standards', 'states', 'station', 'stations', 'status', 'stay', 'stay active', 'stay engaged', 'stay focused', 'staying', 'steam', 'stem', 'stem activities', 'step', 'steps', 'sticks', 'still', 'stimulate', 'stock', 'stool', 'stools', 'stools allow', 'stop', 'storage', 'store', 'store day', 'stories', 'story', 'strategies', 'strategy', 'strength', 'strengthen', 'strengths', 'stress', 'stretch', 'stricken', 'strive', 'strive best', 'strive make', 'strive provide', 'strives', 'striving', 'strong', 'stronger', 'structure', 'structured', 'structures', 'struggle', 'struggle reading', 'struggles', 'struggling', 'struggling readers', 'struggling students', 'student', 'student able', 'student body', 'student centered', 'student class', 'student engagement', 'student learning', 'student needs', 'student population', 'student success', 'student work', 'students', 'students ability', 'students able', 'students able access', 'students able learn', 'students able use', 'students able work', 'students academic', 'students access', 'students access technology', 'students achieve', 'students active', 'students actively', 'students already', 'students also', 'students also able', 'students always', 'students amazing', 'students asked', 'students attend', 'students attend school', 'students attend title', 'students autism', 'students become', 'students begin', 'students benefit', 'students best', 'students better', 'students bright', 'students bring', 'students build', 'students cannot', 'students chance', 'students choice', 'students choose', 'students class', 'students classroom', 'students come', 'students come different', 'students come diverse', 'students come diverse backgrounds', 'students come homes', 'students come low', 'students come low income', 'students come many', 'students come school', 'students come variety', 'students come variety backgrounds', 'students come various', 'students comfortable', 'students coming', 'students complete', 'students constantly', 'students continue', 'students could', 'students create', 'students creative', 'students creative meaningful', 'students creative meaningful learning', 'students curious', 'students currently', 'students daily', 'students deserve', 'students develop', 'students different', 'students disabilities', 'students diverse', 'students diverse group', 'students eager', 'students eager learn', 'students encouraged', 'students energetic', 'students engage', 'students engaged', 'students english', 'students english language', 'students english language learners', 'students enjoy', 'students enter', 'students enthusiastic', 'students especially', 'students even', 'students every', 'students excited', 'students excited learn', 'students experience', 'students explore', 'students exposed', 'students extremely', 'students face', 'students face many', 'students faced', 'students faced several', 'students faced several challenges', 'students families', 'students feel', 'students find', 'students first', 'students focus', 'students free', 'students free reduced', 'students free reduced lunch', 'students full', 'students fun', 'students future', 'students gain', 'students get', 'students given', 'students go', 'students grade', 'students grades', 'students great', 'students group', 'students grow', 'students hands', 'students hard', 'students hard working', 'students help', 'students high', 'students highly', 'students improve', 'students in', 'students inquisitive', 'students interested', 'students it', 'students keep', 'students kindergarten', 'students know', 'students lack', 'students learn', 'students learn best', 'students learning', 'students like', 'students limited', 'students listen', 'students live', 'students lives', 'students living', 'students look', 'students look forward', 'students love', 'students love learn', 'students love learning', 'students love read', 'students love reading', 'students low', 'students low income', 'students make', 'students many', 'students many students', 'students materials', 'students may', 'students meet', 'students motivated', 'students move', 'students much', 'students must', 'students my', 'students my students', 'students nannan', 'students need', 'students need able', 'students needs', 'students never', 'students new', 'students no', 'students not', 'students not able', 'students not access', 'students often', 'students one', 'students opportunities', 'students opportunity', 'students opportunity learn', 'students our', 'students our school', 'students parents', 'students part', 'students participate', 'students play', 'students practice', 'students qualify', 'students qualify free', 'students qualify free reduced', 'students range', 'students reach', 'students read', 'students reading', 'students ready', 'students really', 'students receive', 'students receive free', 'students receive free breakfast', 'students receive free lunch', 'students receive free reduced', 'students receiving', 'students receiving free', 'students receiving free reduced', 'students require', 'students research', 'students school', 'students school come', 'students school receive', 'students school receive free', 'students second', 'students see', 'students share', 'students show', 'students sit', 'students small', 'students speak', 'students special', 'students special needs', 'students spend', 'students start', 'students stay', 'students still', 'students strive', 'students struggle', 'students struggling', 'students students', 'students succeed', 'students success', 'students successful', 'students take', 'students teach', 'students teachers', 'students technology', 'students the', 'students these', 'students they', 'students think', 'students this', 'students thrive', 'students time', 'students tools', 'students truly', 'students understand', 'students unique', 'students use', 'students use materials', 'students using', 'students utilize', 'students variety', 'students various', 'students varying', 'students walk', 'students walk classroom', 'students walk classroom every', 'students want', 'students want learn', 'students we', 'students well', 'students wide', 'students with', 'students wonderful', 'students work', 'students work hard', 'students work together', 'students working', 'students world', 'students would', 'students would able', 'students would benefit', 'students would love', 'students write', 'students year', 'students years', 'studies', 'study', 'studying', 'sturdy', 'style', 'styles', 'subject', 'subject areas', 'subjects', 'subscription', 'subtraction', 'suburban', 'succeed', 'success', 'success my', 'success nannan', 'success students', 'successes', 'successful', 'successful classroom', 'successful my', 'successful school', 'successfully', 'summer', 'super', 'supplement', 'supplies', 'supplies help', 'supplies need', 'supplies needed', 'supplies students', 'supply', 'support', 'support learning', 'support students', 'supported', 'supporting', 'supportive', 'supports', 'sure', 'sure students', 'surface', 'surrounded', 'surrounding', 'sweet', 'system', 'systems', 'table', 'tables', 'tablet', 'tablets', 'tackle', 'tactile', 'take', 'take care', 'take granted', 'take home', 'take ownership', 'take ownership learning', 'take place', 'take pride', 'taken', 'takes', 'taking', 'talented', 'talents', 'talk', 'talking', 'tape', 'target', 'task', 'tasks', 'taught', 'teach', 'teach low', 'teach school', 'teach students', 'teach title', 'teach title school', 'teacher', 'teacher low', 'teacher low income', 'teacher low income high', 'teacher students', 'teacher want', 'teachers', 'teachers students', 'teaches', 'teaching', 'teaching students', 'team', 'teams', 'teamwork', 'tech', 'techniques', 'technological', 'technologically', 'technologies', 'technology', 'technology available', 'technology classroom', 'technology daily', 'technology engineering', 'technology engineering math', 'technology help', 'technology home', 'technology my', 'technology my students', 'technology nannan', 'technology not', 'technology school', 'technology skills', 'technology students', 'technology the', 'technology they', 'technology we', 'technology would', 'tell', 'telling', 'ten', 'tend', 'term', 'terms', 'test', 'test scores', 'testing', 'tests', 'texas', 'text', 'textbook', 'textbooks', 'texts', 'thank', 'thank advance', 'thank considering', 'thank much', 'thank nannan', 'thanks', 'that', 'the', 'the addition', 'the best', 'the books', 'the children', 'the chromebooks', 'the classroom', 'the donations', 'the donations project', 'the first', 'the goal', 'the headphones', 'the ipad', 'the ipads', 'the items', 'the kids', 'the majority', 'the majority students', 'the materials', 'the new', 'the school', 'the student', 'the students', 'the students able', 'the students class', 'the students classroom', 'the students come', 'the students love', 'the students school', 'the students use', 'the students work', 'the supplies', 'the use', 'the wobble', 'theater', 'their', 'theme', 'themes', 'then', 'therapy', 'there', 'there many', 'there no', 'therefore', 'these', 'these activities', 'these books', 'these chairs', 'these children', 'these chromebooks', 'these items', 'these kids', 'these materials', 'these materials allow', 'these materials help', 'these resources', 'these stools', 'these students', 'these students come', 'these supplies', 'these things', 'these tools', 'they', 'they able', 'they also', 'they also able', 'they always', 'they attend', 'they come', 'they come school', 'they curious', 'they deserve', 'they eager', 'they eager learn', 'they enjoy', 'they excited', 'they get', 'they great', 'they hard', 'they know', 'they learn', 'they learning', 'they like', 'they like move', 'they live', 'they love', 'they love learn', 'they love learning', 'they make', 'they need', 'they not', 'they often', 'they take', 'they use', 'they want', 'they work', 'they work hard', 'they would', 'thing', 'thing common', 'things', 'things like', 'things may', 'things simple', 'things simple provide', 'things simple provide students', 'things they', 'think', 'think critically', 'thinkers', 'thinking', 'thinking skills', 'third', 'third grade', 'third grade students', 'third graders', 'thirst', 'thirst knowledge', 'thirty', 'this', 'this allow', 'this allows', 'this also', 'this first', 'this first year', 'this help', 'this makes', 'this means', 'this not', 'this project', 'this project allow', 'this project help', 'this school', 'this would', 'this year', 'those', 'though', 'though students', 'thought', 'thoughtful', 'thoughts', 'three', 'thrilled', 'thrive', 'through', 'throughout', 'throughout day', 'throughout school', 'throughout school day', 'throughout school year', 'throughout year', 'thus', 'tight', 'tiles', 'time', 'time day', 'time kids', 'time learning', 'time my', 'time my students', 'time nannan', 'time school', 'time sitting', 'time students', 'time the', 'time they', 'time this', 'time we', 'times', 'times students', 'title', 'title one', 'title one school', 'title school', 'title school many', 'title school students', 'titles', 'to', 'today', 'today world', 'together', 'told', 'tomorrow', 'took', 'tool', 'tools', 'tools help', 'tools need', 'top', 'topic', 'topics', 'total', 'touch', 'tough', 'toward', 'towards', 'town', 'toys', 'track', 'traditional', 'traditional classroom', 'training', 'transfer', 'transform', 'transition', 'trauma', 'travel', 'treat', 'tremendous', 'tremendously', 'tried', 'trip', 'trips', 'trouble', 'true', 'truly', 'truly believe', 'try', 'try best', 'try make', 'try new', 'try new things', 'trying', 'turn', 'turns', 'tv', 'twenty', 'twice', 'two', 'two years', 'type', 'types', 'typical', 'typical day', 'typical day classroom', 'typically', 'typing', 'ultimate', 'ultimately', 'unable', 'uncomfortable', 'understand', 'understanding', 'unfortunately', 'unfortunately not', 'unique', 'unique learning', 'unit', 'united', 'united states', 'units', 'university', 'upcoming', 'updated', 'upon', 'upper', 'urban', 'urban area', 'urban school', 'us', 'us get', 'us see', 'use', 'use books', 'use chromebooks', 'use classroom', 'use computer', 'use computers', 'use daily', 'use ipad', 'use ipads', 'use materials', 'use new', 'use tablets', 'use technology', 'used', 'used daily', 'used help', 'used students', 'useful', 'uses', 'using', 'using ipads', 'using technology', 'usually', 'utilize', 'utilized', 'utilizing', 'valuable', 'value', 'valued', 'values', 'varied', 'variety', 'variety backgrounds', 'variety books', 'variety different', 'variety learning', 'variety ways', 'various', 'various backgrounds', 'vary', 'varying', 'vast', 'vegetables', 'verbal', 'via', 'vibrant', 'video', 'videos', 'view', 'violence', 'virtual', 'vision', 'visit', 'visual', 'visual learners', 'visualize', 'visually', 'visuals', 'vital', 'vocabulary', 'voice', 'voices', 'volleyball', 'wait', 'wait see', 'waiting', 'walk', 'walk classroom', 'walk classroom every', 'walk classroom every day', 'walk door', 'walk door classroom', 'walk door classroom focus', 'walking', 'walks', 'walks life', 'wall', 'walls', 'want', 'want able', 'want best', 'want create', 'want give', 'want give students', 'want help', 'want know', 'want learn', 'want make', 'want make sure', 'want provide', 'want provide students', 'want read', 'want school', 'want students', 'want students able', 'want use', 'wanted', 'wanting', 'wants', 'warm', 'washington', 'waste', 'watch', 'watching', 'water', 'way', 'way get', 'way help', 'way hopeful', 'way hopeful inspire', 'way learn', 'way my', 'way nannan', 'way students', 'ways', 'ways help', 'ways learn', 'ways students', 'we', 'we able', 'we also', 'we also need', 'we also use', 'we believe', 'we currently', 'we diverse', 'we high', 'we know', 'we learn', 'we live', 'we located', 'we love', 'we many', 'we need', 'we not', 'we school', 'we small', 'we strive', 'we students', 'we title', 'we title school', 'we use', 'we want', 'we work', 'we work hard', 'we working', 'we would', 'we would like', 'we would love', 'wear', 'weather', 'web', 'website', 'websites', 'week', 'weekend', 'weekends', 'weekly', 'weeks', 'weight', 'welcome', 'welcoming', 'well', 'well nannan', 'well rounded', 'well students', 'wellness', 'went', 'west', 'what', 'what better', 'whatever', 'when', 'when students', 'whenever', 'whether', 'while', 'while students', 'white', 'white board', 'white boards', 'whiteboard', 'whiteboards', 'who', 'whole', 'whole class', 'whole group', 'whole new', 'whose', 'why', 'wide', 'wide range', 'wide variety', 'wiggle', 'wiggles', 'willing', 'willing learn', 'willingness', 'win', 'winter', 'wireless', 'wish', 'with', 'with help', 'with materials', 'with new', 'within', 'within classroom', 'within school', 'without', 'wobble', 'wobble chairs', 'wobble stools', 'women', 'wonder', 'wonderful', 'wonderful group', 'wonderful students', 'word', 'words', 'work', 'work best', 'work collaboratively', 'work groups', 'work hard', 'work hard every', 'work independently', 'work my', 'work nannan', 'work school', 'work small', 'work small groups', 'work students', 'work the', 'work they', 'work time', 'work title', 'work title school', 'work together', 'work well', 'worked', 'workers', 'working', 'working hard', 'working small', 'working students', 'working together', 'works', 'works best', 'worksheets', 'workshop', 'world', 'world around', 'world live', 'world my', 'world my students', 'world nannan', 'world problems', 'world students', 'world technology', 'world they', 'worlds', 'worn', 'worry', 'worth', 'would', 'would able', 'would allow', 'would allow students', 'would also', 'would benefit', 'would give', 'would great', 'would greatly', 'would help', 'would help students', 'would like', 'would like provide', 'would like students', 'would love', 'would love able', 'would make', 'would not', 'would provide', 'would really', 'would use', 'would used', 'write', 'writer', 'writers', 'writing', 'writing math', 'writing skills', 'written', 'year', 'year many', 'year my', 'year my students', 'year nannan', 'year old', 'year old students', 'year olds', 'year our', 'year school', 'year students', 'year teacher', 'year teaching', 'year the', 'year they', 'year this', 'year want', 'year we', 'year would', 'year year', 'years', 'years ago', 'years come', 'years come nannan', 'years old', 'yes', 'yet', 'yoga', 'yoga balls', 'york', 'you', 'young', 'young age', 'young children', 'young learners', 'young minds', 'young people', 'young students', 'younger', 'your', 'your donation', 'your donations', 'your generous', 'your generous donation', 'youth']\n"
          ],
          "name": "stdout"
        }
      ]
    },
    {
      "cell_type": "markdown",
      "metadata": {
        "id": "grQcyYFCAdmX"
      },
      "source": [
        "<h3>tfidf representation</h3>"
      ]
    },
    {
      "cell_type": "code",
      "metadata": {
        "colab": {
          "base_uri": "https://localhost:8080/"
        },
        "id": "HZ-8DiNRAhqT",
        "outputId": "79105e99-c65c-419a-f95c-80952d564cf0"
      },
      "source": [
        "print(X_train.shape, y_train.shape)\n",
        "print(X_test.shape, y_test.shape)\n",
        "print(\"=\"*100)\n",
        "\n",
        "# https://scikit-learn.org/stable/modules/generated/sklearn.feature_extraction.text.TfidfVectorizer.html\n",
        "tfidf_vectorizer = TfidfVectorizer(min_df=10,ngram_range=(1,4), max_features=5000)\n",
        "tfidf_vectorizer.fit(X_train['essay'].values) # fit has to happen only on train data\n",
        "\n",
        "# we use the fitted TfidfVectorizer to convert the text to vector\n",
        "X_train_essay_tfidf = tfidf_vectorizer.transform(X_train['essay'].values)\n",
        "X_test_essay_tfidf = tfidf_vectorizer.transform(X_test['essay'].values)\n",
        "\n",
        "print(\"After vectorizations\")\n",
        "print(X_train_essay_tfidf.shape, y_train.shape)\n",
        "print(X_test_essay_tfidf.shape, y_test.shape)\n",
        "print(\"=\"*100)\n",
        "\n",
        "# features_essay_tfidf = vectorizer.get_feature_names()\n",
        "# print(features_essay_tfidf)"
      ],
      "execution_count": null,
      "outputs": [
        {
          "output_type": "stream",
          "text": [
            "(73196, 8) (73196,)\n",
            "(36052, 8) (36052,)\n",
            "====================================================================================================\n",
            "After vectorizations\n",
            "(73196, 5000) (73196,)\n",
            "(36052, 5000) (36052,)\n",
            "====================================================================================================\n"
          ],
          "name": "stdout"
        }
      ]
    },
    {
      "cell_type": "markdown",
      "metadata": {
        "id": "8nX_NlroCzwZ"
      },
      "source": [
        "## 1.4 Make Data Model Ready: encoding numerical, categorical feature"
      ]
    },
    {
      "cell_type": "markdown",
      "metadata": {
        "id": "hbO3ewp-7lHk"
      },
      "source": [
        "<h3>1.4.1 encoding categorical features: School State</h3>"
      ]
    },
    {
      "cell_type": "code",
      "metadata": {
        "colab": {
          "base_uri": "https://localhost:8080/"
        },
        "id": "GrQk4a4BTMjH",
        "outputId": "a0725c3f-80c4-4214-8329-d7822ea9f138"
      },
      "source": [
        "len(pd.unique(data['school_state']))           #https://www.geeksforgeeks.org/how-to-count-distinct-values-of-a-pandas-dataframe-column/\n",
        "#after one hot encoding , each feature value  will be converted into 51 dimensions binary veector  "
      ],
      "execution_count": null,
      "outputs": [
        {
          "output_type": "execute_result",
          "data": {
            "text/plain": [
              "51"
            ]
          },
          "metadata": {},
          "execution_count": 90
        }
      ]
    },
    {
      "cell_type": "code",
      "metadata": {
        "id": "QUv4wdsP7lHl",
        "colab": {
          "base_uri": "https://localhost:8080/"
        },
        "outputId": "90e54094-7ca2-44bb-c73b-eb9aea6a8a1d"
      },
      "source": [
        "vectorizer = CountVectorizer()\n",
        "vectorizer.fit(X_train['school_state'].values) # fit has to happen only on train data\n",
        "\n",
        "#one hot encoding for categorical feature\n",
        "X_train_state_ohe = vectorizer.transform(X_train['school_state'].values) \n",
        "X_test_state_ohe = vectorizer.transform(X_test['school_state'].values)\n",
        "\n",
        "print(\"After vectorizations\")\n",
        "print(X_train_state_ohe.shape, y_train.shape)\n",
        "print(X_test_state_ohe.shape, y_test.shape)\n",
        "print(\"=\"*100)\n",
        "\n",
        "# print(vectorizer.get_feature_names())\n",
        "features_list.extend(vectorizer.get_feature_names())\n",
        "print(len(features_list))\n"
      ],
      "execution_count": null,
      "outputs": [
        {
          "output_type": "stream",
          "text": [
            "After vectorizations\n",
            "(73196, 51) (73196,)\n",
            "(36052, 51) (36052,)\n",
            "====================================================================================================\n",
            "5051\n"
          ],
          "name": "stdout"
        }
      ]
    },
    {
      "cell_type": "markdown",
      "metadata": {
        "id": "1G-HBVM77lHr"
      },
      "source": [
        "<h3>1.4.2 encoding categorical features: teacher_prefix</h3>"
      ]
    },
    {
      "cell_type": "code",
      "metadata": {
        "id": "Z2eoU6aL7lHs",
        "colab": {
          "base_uri": "https://localhost:8080/"
        },
        "outputId": "2c724137-3b41-4170-fa3f-7e398470e807"
      },
      "source": [
        "vectorizer = CountVectorizer()\n",
        "vectorizer.fit(X_train['teacher_prefix'].values) # fit has to happen only on train data\n",
        "\n",
        "# we use the fitted CountVectorizer to convert the text to vector\n",
        "X_train_teacher_ohe = vectorizer.transform(X_train['teacher_prefix'].values)\n",
        "X_test_teacher_ohe = vectorizer.transform(X_test['teacher_prefix'].values)\n",
        "\n",
        "print(\"After vectorizations\")\n",
        "print(X_train_teacher_ohe.shape, y_train.shape)\n",
        "print(X_test_teacher_ohe.shape, y_test.shape)\n",
        "print(\"=\"*100)\n",
        "\n",
        "print(vectorizer.get_feature_names())\n",
        "features_list.extend(vectorizer.get_feature_names())\n",
        "print(len(features_list))"
      ],
      "execution_count": null,
      "outputs": [
        {
          "output_type": "stream",
          "text": [
            "After vectorizations\n",
            "(73196, 5) (73196,)\n",
            "(36052, 5) (36052,)\n",
            "====================================================================================================\n",
            "['dr', 'mr', 'mrs', 'ms', 'teacher']\n",
            "5056\n"
          ],
          "name": "stdout"
        }
      ]
    },
    {
      "cell_type": "markdown",
      "metadata": {
        "id": "vN2DT_az7lHz"
      },
      "source": [
        "<h3>1.4.3 encoding categorical features: project_grade_category</h3>"
      ]
    },
    {
      "cell_type": "code",
      "metadata": {
        "id": "8oO9CR4B7lH1",
        "colab": {
          "base_uri": "https://localhost:8080/"
        },
        "outputId": "482133af-3d23-4d92-96b8-b47d29e02248"
      },
      "source": [
        "vectorizer = CountVectorizer()\n",
        "vectorizer.fit(X_train['project_grade_category'].values) # fit has to happen only on train data\n",
        "\n",
        "# we use the fitted CountVectorizer to convert the text to vector\n",
        "X_train_grade_ohe = vectorizer.transform(X_train['project_grade_category'].values)\n",
        "X_test_grade_ohe = vectorizer.transform(X_test['project_grade_category'].values)\n",
        "\n",
        "print(\"After vectorizations\")\n",
        "print(X_train_grade_ohe.shape, y_train.shape)\n",
        "print(X_test_grade_ohe.shape, y_test.shape)\n",
        "print(\"=\"*100)\n",
        "\n",
        "print(vectorizer.get_feature_names())\n",
        "features_list.extend(vectorizer.get_feature_names())\n",
        "print(len(features_list))"
      ],
      "execution_count": null,
      "outputs": [
        {
          "output_type": "stream",
          "text": [
            "After vectorizations\n",
            "(73196, 4) (73196,)\n",
            "(36052, 4) (36052,)\n",
            "====================================================================================================\n",
            "['grades_3_5', 'grades_6_8', 'grades_9_12', 'grades_prek_2']\n",
            "5060\n"
          ],
          "name": "stdout"
        }
      ]
    },
    {
      "cell_type": "markdown",
      "metadata": {
        "id": "2K0G5QwQZ_kp"
      },
      "source": [
        "<h3>1.4.4 encoding categorical features: clean_categories</h3>"
      ]
    },
    {
      "cell_type": "code",
      "metadata": {
        "colab": {
          "base_uri": "https://localhost:8080/"
        },
        "id": "87gUG7rZarxU",
        "outputId": "8d220c03-0dff-4e08-af5b-3c903efa2315"
      },
      "source": [
        "vectorizer = CountVectorizer()\n",
        "vectorizer.fit(X_train['clean_categories'].values) # fit has to happen only on train data\n",
        "\n",
        "# we use the fitted CountVectorizer to convert the text to vector\n",
        "X_train_categories_ohe = vectorizer.transform(X_train['clean_categories'].values)\n",
        "X_test_categories_ohe = vectorizer.transform(X_test['clean_categories'].values)\n",
        "\n",
        "print(\"After vectorizations\")\n",
        "print(X_train_categories_ohe.shape, y_train.shape)\n",
        "print(X_test_categories_ohe.shape, y_test.shape)\n",
        "print(\"=\"*100)\n",
        "\n",
        "print(vectorizer.get_feature_names())\n",
        "features_list.extend(vectorizer.get_feature_names())\n",
        "print(len(features_list))"
      ],
      "execution_count": null,
      "outputs": [
        {
          "output_type": "stream",
          "text": [
            "After vectorizations\n",
            "(73196, 9) (73196,)\n",
            "(36052, 9) (36052,)\n",
            "====================================================================================================\n",
            "['appliedlearning', 'care_hunger', 'health_sports', 'history_civics', 'literacy_language', 'math_science', 'music_arts', 'specialneeds', 'warmth']\n",
            "5069\n"
          ],
          "name": "stdout"
        }
      ]
    },
    {
      "cell_type": "markdown",
      "metadata": {
        "id": "1P3gfSSRbo-J"
      },
      "source": [
        "<h3>1.4.5 encoding categorical features: clean_subcategories</h3>"
      ]
    },
    {
      "cell_type": "code",
      "metadata": {
        "colab": {
          "base_uri": "https://localhost:8080/"
        },
        "id": "QPT9y7DdbwHR",
        "outputId": "b0984c9e-a5ba-45c4-f0d0-083367d3f776"
      },
      "source": [
        "vectorizer = CountVectorizer()\n",
        "vectorizer.fit(X_train['clean_subcategories'].values) # fit has to happen only on train data\n",
        "\n",
        "# we use the fitted CountVectorizer to convert the text to vector\n",
        "X_train_subcategories_ohe = vectorizer.transform(X_train['clean_subcategories'].values)\n",
        "X_test_subcategories_ohe = vectorizer.transform(X_test['clean_subcategories'].values)\n",
        "\n",
        "print(\"After vectorizations\")\n",
        "print(X_train_subcategories_ohe.shape, y_train.shape)\n",
        "print(X_test_subcategories_ohe.shape, y_test.shape)\n",
        "print(\"=\"*100)\n",
        "\n",
        "print(vectorizer.get_feature_names())\n",
        "features_list.extend(vectorizer.get_feature_names())\n",
        "print(len(features_list))"
      ],
      "execution_count": null,
      "outputs": [
        {
          "output_type": "stream",
          "text": [
            "After vectorizations\n",
            "(73196, 30) (73196,)\n",
            "(36052, 30) (36052,)\n",
            "====================================================================================================\n",
            "['appliedsciences', 'care_hunger', 'charactereducation', 'civics_government', 'college_careerprep', 'communityservice', 'earlydevelopment', 'economics', 'environmentalscience', 'esl', 'extracurricular', 'financialliteracy', 'foreignlanguages', 'gym_fitness', 'health_lifescience', 'health_wellness', 'history_geography', 'literacy', 'literature_writing', 'mathematics', 'music', 'nutritioneducation', 'other', 'parentinvolvement', 'performingarts', 'socialsciences', 'specialneeds', 'teamsports', 'visualarts', 'warmth']\n",
            "5099\n"
          ],
          "name": "stdout"
        }
      ]
    },
    {
      "cell_type": "markdown",
      "metadata": {
        "id": "QP8qE2fX7lH9"
      },
      "source": [
        "<h3>1.4.6 encoding numerical features: Price</h3>"
      ]
    },
    {
      "cell_type": "code",
      "metadata": {
        "colab": {
          "base_uri": "https://localhost:8080/"
        },
        "id": "rSi6UldNYvJC",
        "outputId": "d253cadd-f4c1-47d0-8e83-ead6ba12785d"
      },
      "source": [
        "# print(X_train['price'].values.reshape(-1,1))     # 1 column only\n",
        "X_train['price'].values.reshape(1,-1)       # 1 row only"
      ],
      "execution_count": null,
      "outputs": [
        {
          "output_type": "execute_result",
          "data": {
            "text/plain": [
              "array([[ 33.  ,  38.23, 590.58, ..., 416.61,  89.99, 105.34]])"
            ]
          },
          "metadata": {},
          "execution_count": 96
        }
      ]
    },
    {
      "cell_type": "code",
      "metadata": {
        "id": "F-AXct0_7lH-",
        "colab": {
          "base_uri": "https://localhost:8080/"
        },
        "outputId": "e95d6553-a91b-4673-9b49-290265f5f8ac"
      },
      "source": [
        "from sklearn.preprocessing import Normalizer\n",
        "normalizer = Normalizer()      \n",
        "\n",
        "# https://scikit-learn.org/stable/modules/generated/sklearn.preprocessing.Normalizer.html\n",
        "normalizer.fit(X_train['price'].values.reshape(1,-1))     #default - l2 norm    \n",
        "#normalizer by default normalizes on each row , so we need to convert 'price' values such that all values are in same row\n",
        "\n",
        "X_train_price_norm = normalizer.transform(X_train['price'].values.reshape(1,-1))\n",
        "X_test_price_norm = normalizer.transform(X_test['price'].values.reshape(1,-1))\n",
        "\n",
        "\n",
        "\n",
        "print(\"After vectorizations\")\n",
        "print(X_train_price_norm.shape, y_train.shape)\n",
        "print(X_test_price_norm.shape, y_test.shape)\n",
        "print(\"=\"*100)\n"
      ],
      "execution_count": null,
      "outputs": [
        {
          "output_type": "stream",
          "text": [
            "After vectorizations\n",
            "(1, 73196) (73196,)\n",
            "(1, 36052) (36052,)\n",
            "====================================================================================================\n"
          ],
          "name": "stdout"
        }
      ]
    },
    {
      "cell_type": "markdown",
      "metadata": {
        "id": "nX5w0766cJYA"
      },
      "source": [
        "<h3>1.4.6 encoding numerical features: teacher_number_of_previously_posted_projects</h3>"
      ]
    },
    {
      "cell_type": "code",
      "metadata": {
        "colab": {
          "base_uri": "https://localhost:8080/"
        },
        "id": "WkC_FujocOmg",
        "outputId": "e992f561-20e4-444f-865b-7572fbb6aedd"
      },
      "source": [
        "from sklearn.preprocessing import Normalizer\n",
        "normalizer = Normalizer()\n",
        "\n",
        "normalizer.fit(X_train['teacher_number_of_previously_posted_projects'].values.reshape(1,-1))    \n",
        "\n",
        "X_train_teacher_previous_projects_norm = normalizer.transform(X_train['teacher_number_of_previously_posted_projects'].values.reshape(1,-1))\n",
        "X_test_teacher_previous_projects_norm = normalizer.transform(X_test['teacher_number_of_previously_posted_projects'].values.reshape(1,-1))\n",
        "\n",
        "\n",
        "\n",
        "print(\"After vectorizations\")\n",
        "print(X_train_teacher_previous_projects_norm.shape, y_train.shape)\n",
        "print(X_test_teacher_previous_projects_norm.shape, y_test.shape)\n",
        "print(\"=\"*100)"
      ],
      "execution_count": null,
      "outputs": [
        {
          "output_type": "stream",
          "text": [
            "After vectorizations\n",
            "(1, 73196) (73196,)\n",
            "(1, 36052) (36052,)\n",
            "====================================================================================================\n"
          ],
          "name": "stdout"
        }
      ]
    },
    {
      "cell_type": "code",
      "metadata": {
        "colab": {
          "base_uri": "https://localhost:8080/"
        },
        "id": "fJGheRD3uTPK",
        "outputId": "d52708a8-7a52-4cc2-d202-96aaeee4625e"
      },
      "source": [
        "print(len(features_list))\n",
        "\n",
        "#appending numerical featues \n",
        "features_list.append('price')\n",
        "features_list.append('teacher_number_of_previously_posted_projects')\n",
        "print(len(features_list))\n"
      ],
      "execution_count": null,
      "outputs": [
        {
          "output_type": "stream",
          "text": [
            "5099\n",
            "5101\n"
          ],
          "name": "stdout"
        }
      ]
    },
    {
      "cell_type": "markdown",
      "metadata": {
        "id": "1Q7MXpgSfez4"
      },
      "source": [
        "\n",
        "## 1.5 Concatinating all the features"
      ]
    },
    {
      "cell_type": "markdown",
      "metadata": {
        "id": "yO-cW28NgJH3"
      },
      "source": [
        "<h3> Set 1: categorical, numerical features + preprocessed_eassay (BOW) </h3>"
      ]
    },
    {
      "cell_type": "code",
      "metadata": {
        "colab": {
          "base_uri": "https://localhost:8080/"
        },
        "id": "28k7YFi6idkg",
        "outputId": "ff81b543-3fcc-4ddb-ec4a-8221e04f0f22"
      },
      "source": [
        "np.transpose( X_train_price_norm).shape"
      ],
      "execution_count": null,
      "outputs": [
        {
          "output_type": "execute_result",
          "data": {
            "text/plain": [
              "(73196, 1)"
            ]
          },
          "metadata": {},
          "execution_count": 100
        }
      ]
    },
    {
      "cell_type": "code",
      "metadata": {
        "colab": {
          "base_uri": "https://localhost:8080/"
        },
        "id": "fBEhoaxPfko-",
        "outputId": "361b5b95-c9e5-4654-a65f-6a7a30fec040"
      },
      "source": [
        "# merge two sparse matrices: https://stackoverflow.com/a/19710648/4084039\n",
        "from scipy.sparse import hstack\n",
        "\n",
        "#we need to transpose numerical features : X_train_price_norm  ,X_test_price_norm,  X_train_teacher_previous_projects_norm  and  X_test_teacher_previous_projects_norm\n",
        "X_tr_bow = hstack((X_train_essay_bow, X_train_state_ohe, X_train_teacher_ohe, X_train_grade_ohe,X_train_categories_ohe,X_train_subcategories_ohe, np.transpose(X_train_price_norm),np.transpose(X_train_teacher_previous_projects_norm))).tocsr()\n",
        "X_te_bow = hstack((X_test_essay_bow, X_test_state_ohe, X_test_teacher_ohe, X_test_grade_ohe,X_test_categories_ohe,X_test_subcategories_ohe, np.transpose(X_test_price_norm),np.transpose(X_test_teacher_previous_projects_norm))).tocsr()\n",
        "\n",
        "print(\"Final Data matrix\")\n",
        "print(X_tr_bow.shape, y_train.shape)\n",
        "print(X_te_bow.shape, y_test.shape)\n",
        "print(\"=\"*100)"
      ],
      "execution_count": null,
      "outputs": [
        {
          "output_type": "stream",
          "text": [
            "Final Data matrix\n",
            "(73196, 5101) (73196,)\n",
            "(36052, 5101) (36052,)\n",
            "====================================================================================================\n"
          ],
          "name": "stdout"
        }
      ]
    },
    {
      "cell_type": "markdown",
      "metadata": {
        "id": "-X69svQ1mYf2"
      },
      "source": [
        "<h3>Set 2: categorical, numerical features + preprocessed_eassay (TFIDF)</h3>"
      ]
    },
    {
      "cell_type": "code",
      "metadata": {
        "colab": {
          "base_uri": "https://localhost:8080/"
        },
        "id": "L4Qk_NnSh6QR",
        "outputId": "e0cf1f13-6420-42a6-ac21-b1afdb98c6af"
      },
      "source": [
        "from scipy.sparse import hstack\n",
        "\n",
        "#we need to transpose numerical features \n",
        "X_tr_tfidf = hstack((X_train_essay_tfidf, X_train_state_ohe, X_train_teacher_ohe, X_train_grade_ohe,X_train_categories_ohe,X_train_subcategories_ohe, np.transpose(X_train_price_norm),np.transpose(X_train_teacher_previous_projects_norm))).tocsr()\n",
        "X_te_tfidf = hstack((X_test_essay_tfidf, X_test_state_ohe, X_test_teacher_ohe, X_test_grade_ohe,X_test_categories_ohe,X_test_subcategories_ohe, np.transpose(X_test_price_norm),np.transpose(X_test_teacher_previous_projects_norm))).tocsr()\n",
        "\n",
        "print(\"Final Data matrix\")\n",
        "print(X_tr_tfidf.shape, y_train.shape)\n",
        "print(X_te_tfidf.shape, y_test.shape)\n",
        "print(\"=\"*100)"
      ],
      "execution_count": null,
      "outputs": [
        {
          "output_type": "stream",
          "text": [
            "Final Data matrix\n",
            "(73196, 5101) (73196,)\n",
            "(36052, 5101) (36052,)\n",
            "====================================================================================================\n"
          ],
          "name": "stdout"
        }
      ]
    },
    {
      "cell_type": "markdown",
      "metadata": {
        "id": "yYHPYadYb3dh"
      },
      "source": [
        "## 1.6 Appling NB on different kind of featurization as mentioned in the instructions\n",
        "<br>Apply NB on different kind of featurization as mentioned in the instructions\n",
        "<br> For Every model that you work on make sure you do the step 2 and step 3 of instrucations"
      ]
    },
    {
      "cell_type": "markdown",
      "metadata": {
        "id": "vVaWpZLyei5J"
      },
      "source": [
        "### NB on (Set 1: categorical, numerical features + preprocessed_eassay (BOW))"
      ]
    },
    {
      "cell_type": "markdown",
      "metadata": {
        "id": "LZFt65ZLfVUg"
      },
      "source": [
        "<h3>1.  hyperparameter tuning </h3>"
      ]
    },
    {
      "cell_type": "code",
      "metadata": {
        "id": "UZPzGeBkW7qc"
      },
      "source": [
        "# https://stackoverflow.com/questions/43374920/how-to-automatically-annotate-maximum-value-in-pyplot\n",
        "#annotating maximum value in plot\n",
        "def annot_max(x,y, ax=None):\n",
        "    xmax = x[np.argmax(y)]\n",
        "    ymax = y.max()\n",
        "    text= \"x={:.3f}, y={:.3f}\".format(xmax, ymax)\n",
        "    if not ax:\n",
        "        ax=plt.gca()\n",
        "    bbox_props = dict(boxstyle=\"square,pad=0.3\", fc=\"w\", ec=\"k\", lw=0.72)\n",
        "    arrowprops=dict(arrowstyle=\"->\",connectionstyle=\"angle,angleA=0,angleB=60\")\n",
        "    kw = dict(xycoords='data',textcoords=\"axes fraction\",\n",
        "              arrowprops=arrowprops, bbox=bbox_props, ha=\"right\", va=\"top\")\n",
        "    ax.annotate(text, xy=(xmax, ymax), xytext=(0.80,0.46), **kw)"
      ],
      "execution_count": null,
      "outputs": []
    },
    {
      "cell_type": "code",
      "metadata": {
        "colab": {
          "base_uri": "https://localhost:8080/",
          "height": 590
        },
        "id": "rpmkyDsBtGYS",
        "outputId": "92080725-a323-4381-c84b-1dcb91c50ce8"
      },
      "source": [
        "from sklearn.model_selection import RandomizedSearchCV\n",
        "# https://scikit-learn.org/stable/modules/generated/sklearn.model_selection.RandomizedSearchCV.html\n",
        "\n",
        "naive = MultinomialNB()\n",
        "# https://scikit-learn.org/stable/modules/generated/sklearn.naive_bayes.MultinomialNB.html\n",
        "\n",
        "parameters = {'alpha':[0.00001,0.0005, 0.0001,0.005,0.001,0.05,0.01,0.1,0.5,1,5,10,50,100] }\n",
        "# parameters = {'alpha':[0.00001,0.0005, 0.0001,0.005,0.001,0.05,0.01,0.1,0.5,1,5,10,50,100] , fit_prior =  False , 'class_prior' : [[0.5,0.5]]}\n",
        "#Whenever the training dataset is highly imbalanced, you can balance it either using any one of the \n",
        "          # techniques(like upsampling or undersampling) discussed in the course (or) you can make the \n",
        "          # initializations fit_prior = False, class_prior = [0.5, 0.5] in MultinomialNB()\n",
        "# You can try these initializations in both the cross-validation and the final model training phases and check if the model performance\n",
        "            #  at prediction on the test data is improved.\n",
        "\n",
        "\n",
        "\n",
        "# clf = RandomizedSearchCV(naive, parameters, cv=3, scoring='roc_auc' )\n",
        "clf = RandomizedSearchCV(naive, parameters, cv=4, scoring='roc_auc' , return_train_score=  True)  \n",
        "   #https://stackoverflow.com/questions/57136676/sklearn-model-selection-gridsearchcv-is-throwing-keyerror-mean-train-score\n",
        "\n",
        "clf.fit(X_tr_bow, y_train)     \n",
        "\n",
        "# https://scikit-learn.org/stable/modules/generated/sklearn.model_selection.RandomizedSearchCV.html\n",
        "results = pd.DataFrame.from_dict(clf.cv_results_)    #clf.cv_results_ -> dictionary\n",
        "results = results.sort_values(['param_alpha'])\n",
        "\n",
        "train_auc= results['mean_train_score']\n",
        "train_auc_std= results['std_train_score']\n",
        "cv_auc = results['mean_test_score'] \n",
        "cv_auc_std= results['std_test_score']\n",
        "alpha =  results['param_alpha']\n",
        "\n",
        "#for plotting\n",
        "alpha_list = list(alpha)\n",
        "alpha_log = np.log10(alpha_list)           #converting alpha values into log values\n",
        "\n",
        "plt.plot(alpha_log, train_auc, label='Train AUC')\n",
        "plt.plot(alpha_log, cv_auc, label='CV AUC')\n",
        "\n",
        "\n",
        "plt.scatter(alpha_log, train_auc, label='Train AUC points')\n",
        "plt.scatter(alpha_log, cv_auc, label='CV AUC points')\n",
        "\n",
        "\n",
        "plt.legend()\n",
        "plt.xlabel(\"log(alpha) : hyperparameter\")\n",
        "plt.ylabel(\"AUC\")\n",
        "plt.title(\"Hyper parameter Vs AUC plot\")\n",
        "plt.grid()\n",
        "\n",
        "#for annotating max value for cv_auc\n",
        "y = np.array(cv_auc)\n",
        "x=np.array(alpha_log)\n",
        "annot_max(x,y)\n",
        "\n",
        "plt.show()\n",
        "\n",
        "results.head()\n",
        "\n",
        "\n",
        "\n",
        "#choose k such that :\n",
        "# max value for CV AUC  and smaller dis bw Train AUC and CV AUC\n",
        "# 14 elements in alpha but only 10 values are plotted in below plot ; random search ; i think due to n_iter"
      ],
      "execution_count": null,
      "outputs": [
        {
          "output_type": "display_data",
          "data": {
            "image/png": "[encoded data removed]",
            "text/plain": [
              "<Figure size 432x288 with 1 Axes>"
            ]
          },
          "metadata": {
            "needs_background": "light"
          }
        },
        {
          "output_type": "execute_result",
          "data": {
            "text/html": [
              "<div>\n",
              "<style scoped>\n",
              "    .dataframe tbody tr th:only-of-type {\n",
              "        vertical-align: middle;\n",
              "    }\n",
              "\n",
              "    .dataframe tbody tr th {\n",
              "        vertical-align: top;\n",
              "    }\n",
              "\n",
              "    .dataframe thead th {\n",
              "        text-align: right;\n",
              "    }\n",
              "</style>\n",
              "<table border=\"1\" class=\"dataframe\">\n",
              "  <thead>\n",
              "    <tr style=\"text-align: right;\">\n",
              "      <th></th>\n",
              "      <th>mean_fit_time</th>\n",
              "      <th>std_fit_time</th>\n",
              "      <th>mean_score_time</th>\n",
              "      <th>std_score_time</th>\n",
              "      <th>param_alpha</th>\n",
              "      <th>params</th>\n",
              "      <th>split0_test_score</th>\n",
              "      <th>split1_test_score</th>\n",
              "      <th>split2_test_score</th>\n",
              "      <th>split3_test_score</th>\n",
              "      <th>mean_test_score</th>\n",
              "      <th>std_test_score</th>\n",
              "      <th>rank_test_score</th>\n",
              "      <th>split0_train_score</th>\n",
              "      <th>split1_train_score</th>\n",
              "      <th>split2_train_score</th>\n",
              "      <th>split3_train_score</th>\n",
              "      <th>mean_train_score</th>\n",
              "      <th>std_train_score</th>\n",
              "    </tr>\n",
              "  </thead>\n",
              "  <tbody>\n",
              "    <tr>\n",
              "      <th>3</th>\n",
              "      <td>0.096893</td>\n",
              "      <td>0.003776</td>\n",
              "      <td>0.023718</td>\n",
              "      <td>0.000984</td>\n",
              "      <td>1e-05</td>\n",
              "      <td>{'alpha': 1e-05}</td>\n",
              "      <td>0.680343</td>\n",
              "      <td>0.686149</td>\n",
              "      <td>0.695154</td>\n",
              "      <td>0.688332</td>\n",
              "      <td>0.687495</td>\n",
              "      <td>0.005299</td>\n",
              "      <td>1</td>\n",
              "      <td>0.719754</td>\n",
              "      <td>0.717389</td>\n",
              "      <td>0.717694</td>\n",
              "      <td>0.720289</td>\n",
              "      <td>0.718781</td>\n",
              "      <td>0.001259</td>\n",
              "    </tr>\n",
              "    <tr>\n",
              "      <th>6</th>\n",
              "      <td>0.097958</td>\n",
              "      <td>0.004032</td>\n",
              "      <td>0.025818</td>\n",
              "      <td>0.003263</td>\n",
              "      <td>0.0001</td>\n",
              "      <td>{'alpha': 0.0001}</td>\n",
              "      <td>0.680343</td>\n",
              "      <td>0.686148</td>\n",
              "      <td>0.695154</td>\n",
              "      <td>0.688332</td>\n",
              "      <td>0.687494</td>\n",
              "      <td>0.005299</td>\n",
              "      <td>2</td>\n",
              "      <td>0.719754</td>\n",
              "      <td>0.717389</td>\n",
              "      <td>0.717694</td>\n",
              "      <td>0.720289</td>\n",
              "      <td>0.718781</td>\n",
              "      <td>0.001259</td>\n",
              "    </tr>\n",
              "    <tr>\n",
              "      <th>9</th>\n",
              "      <td>0.096181</td>\n",
              "      <td>0.000380</td>\n",
              "      <td>0.023342</td>\n",
              "      <td>0.000287</td>\n",
              "      <td>0.001</td>\n",
              "      <td>{'alpha': 0.001}</td>\n",
              "      <td>0.680343</td>\n",
              "      <td>0.686148</td>\n",
              "      <td>0.695154</td>\n",
              "      <td>0.688332</td>\n",
              "      <td>0.687494</td>\n",
              "      <td>0.005299</td>\n",
              "      <td>3</td>\n",
              "      <td>0.719753</td>\n",
              "      <td>0.717388</td>\n",
              "      <td>0.717694</td>\n",
              "      <td>0.720289</td>\n",
              "      <td>0.718781</td>\n",
              "      <td>0.001259</td>\n",
              "    </tr>\n",
              "    <tr>\n",
              "      <th>0</th>\n",
              "      <td>0.099224</td>\n",
              "      <td>0.003763</td>\n",
              "      <td>0.024536</td>\n",
              "      <td>0.002117</td>\n",
              "      <td>0.005</td>\n",
              "      <td>{'alpha': 0.005}</td>\n",
              "      <td>0.680341</td>\n",
              "      <td>0.686147</td>\n",
              "      <td>0.695152</td>\n",
              "      <td>0.688330</td>\n",
              "      <td>0.687492</td>\n",
              "      <td>0.005299</td>\n",
              "      <td>4</td>\n",
              "      <td>0.719751</td>\n",
              "      <td>0.717385</td>\n",
              "      <td>0.717692</td>\n",
              "      <td>0.720286</td>\n",
              "      <td>0.718778</td>\n",
              "      <td>0.001259</td>\n",
              "    </tr>\n",
              "    <tr>\n",
              "      <th>4</th>\n",
              "      <td>0.095406</td>\n",
              "      <td>0.000746</td>\n",
              "      <td>0.023634</td>\n",
              "      <td>0.001028</td>\n",
              "      <td>0.01</td>\n",
              "      <td>{'alpha': 0.01}</td>\n",
              "      <td>0.680338</td>\n",
              "      <td>0.686145</td>\n",
              "      <td>0.695150</td>\n",
              "      <td>0.688327</td>\n",
              "      <td>0.687490</td>\n",
              "      <td>0.005299</td>\n",
              "      <td>5</td>\n",
              "      <td>0.719748</td>\n",
              "      <td>0.717382</td>\n",
              "      <td>0.717689</td>\n",
              "      <td>0.720283</td>\n",
              "      <td>0.718776</td>\n",
              "      <td>0.001259</td>\n",
              "    </tr>\n",
              "  </tbody>\n",
              "</table>\n",
              "</div>"
            ],
            "text/plain": [
              "   mean_fit_time  std_fit_time  ...  mean_train_score  std_train_score\n",
              "3       0.096893      0.003776  ...          0.718781         0.001259\n",
              "6       0.097958      0.004032  ...          0.718781         0.001259\n",
              "9       0.096181      0.000380  ...          0.718781         0.001259\n",
              "0       0.099224      0.003763  ...          0.718778         0.001259\n",
              "4       0.095406      0.000746  ...          0.718776         0.001259\n",
              "\n",
              "[5 rows x 19 columns]"
            ]
          },
          "metadata": {},
          "execution_count": 104
        }
      ]
    },
    {
      "cell_type": "code",
      "metadata": {
        "colab": {
          "base_uri": "https://localhost:8080/"
        },
        "id": "PpYWG24ujSWL",
        "outputId": "091b5a0a-54a4-45cb-fe9f-fdf4942dec8a"
      },
      "source": [
        "# getting best value for alpha\n",
        "cv_auc_max = max(cv_auc)\n",
        "i = np.where(np.isclose(cv_auc, cv_auc_max))    #https://stackoverflow.com/questions/18079029/index-of-element-in-numpy-array\n",
        "print(i)\n",
        "print(type(i))\n",
        "print(i[0][0])\n",
        "\n",
        "print(\"*\"*100)\n",
        "print(\"best value for alpha :  \" , alpha[i[0][0]])\n",
        "best_alpha_bow = alpha[i[0][0]]\n",
        "\n",
        "\n",
        "# np.argmax can be used "
      ],
      "execution_count": null,
      "outputs": [
        {
          "output_type": "stream",
          "text": [
            "(array([0, 1, 2, 3, 4]),)\n",
            "<class 'tuple'>\n",
            "0\n",
            "****************************************************************************************************\n",
            "best value for alpha :   0.005\n"
          ],
          "name": "stdout"
        }
      ]
    },
    {
      "cell_type": "markdown",
      "metadata": {
        "id": "mrbd98AtfopX"
      },
      "source": [
        "<h3> 2. Testing the performance of the model on test data, plotting ROC Curves </h3>"
      ]
    },
    {
      "cell_type": "code",
      "metadata": {
        "scrolled": true,
        "id": "fQNRGeeR7lIo",
        "colab": {
          "base_uri": "https://localhost:8080/",
          "height": 295
        },
        "outputId": "70924192-f94d-430c-95b6-ebbdd49db80c"
      },
      "source": [
        "\n",
        "naive = MultinomialNB( alpha=best_alpha_bow)\n",
        "naive.fit(X_tr_bow, y_train)\n",
        "\n",
        "# Empirical log probability of features given a class, P(x_i|y). ; will be used later in determining top features\n",
        "feature_log_prob = naive.feature_log_prob_         \n",
        "#https://scikit-learn.org/stable/modules/generated/sklearn.naive_bayes.MultinomialNB.html\n",
        "y_train_pred = naive.predict_proba(X_tr_bow)    \n",
        "y_test_pred = naive.predict_proba(X_te_bow)\n",
        "\n",
        "# roc_auc_score(y_true, y_score) the 2nd parameter should be probability estimates of the positive class\n",
        "# not the predicted outputs\n",
        "# https://scikit-learn.org/stable/modules/generated/sklearn.metrics.roc_curve.html\n",
        "train_fpr, train_tpr, tr_thresholds = roc_curve(y_train, y_train_pred[: , 1])    #1st column corresponds to class 0 and 2nd column to class 1\n",
        "test_fpr, test_tpr, te_thresholds = roc_curve(y_test, y_test_pred[: , 1])\n",
        "\n",
        "#compute AUC using trapezoidal rule - https://scikit-learn.org/stable/modules/generated/sklearn.metrics.auc.html#sklearn.metrics.auc\n",
        "plt.plot(train_fpr, train_tpr, label=\"train AUC =\"+str(auc(train_fpr, train_tpr)))\n",
        "plt.plot(test_fpr, test_tpr, label=\"test AUC =\"+str(auc(test_fpr, test_tpr)))\n",
        "plt.legend()\n",
        "plt.xlabel(\"FPR\")\n",
        "plt.ylabel(\"TPR\")\n",
        "plt.title(\"ROC curve\")\n",
        "plt.grid()\n",
        "plt.show()"
      ],
      "execution_count": null,
      "outputs": [
        {
          "output_type": "display_data",
          "data": {
            "image/png": "[encoded data removed]",
            "text/plain": [
              "<Figure size 432x288 with 1 Axes>"
            ]
          },
          "metadata": {
            "needs_background": "light"
          }
        }
      ]
    },
    {
      "cell_type": "code",
      "metadata": {
        "id": "QmYpQyVv8G4a"
      },
      "source": [
        "AUC_bow = auc(test_fpr, test_tpr)"
      ],
      "execution_count": null,
      "outputs": []
    },
    {
      "cell_type": "code",
      "metadata": {
        "id": "N2Ltk2WO7lIs"
      },
      "source": [
        "# we will pick a threshold that will give max value for tpr*(1-fpr)\n",
        "\n",
        "def find_best_threshold(threshold, fpr, tpr):\n",
        "    t = threshold[np.argmax(tpr*(1-fpr))]\n",
        "    # (tpr*(1-fpr)) will be maximum if your fpr is very low and tpr is very high\n",
        "    print(\"the maximum value of tpr*(1-fpr)\", max(tpr*(1-fpr)), \"for threshold\", np.round(t,3))\n",
        "    return t\n",
        "\n",
        "def predict_with_best_t(proba, threshold):\n",
        "    predictions = []\n",
        "    for i in proba:\n",
        "        if i>=threshold:\n",
        "            predictions.append(1)\n",
        "        else:\n",
        "            predictions.append(0)\n",
        "    return predictions\n",
        "\n",
        "\n",
        "# https://stackoverflow.com/questions/9535954/printing-lists-as-tabular-data\n",
        "from prettytable import PrettyTable\n",
        "def print_cm(confusion_matrix):\n",
        "  t = PrettyTable(['', 'Predicted : No' , 'Predicte : YES'])\n",
        "  t.add_row(['Actual : NO', confusion_matrix[0][0] , confusion_matrix[0][1]])\n",
        "  t.add_row(['Actual : YES', confusion_matrix[1][0] , confusion_matrix[1][1]])\n",
        "  print(t)\n",
        "\n",
        "\n",
        "#confusion matrix heatmap\n",
        "# https://medium.com/@dtuk81/confusion-matrix-visualization-fc31e3f30fea\n",
        "def cf_matrix_heatmap(cf_matrix):\n",
        "  group_names = [\"true Neg\",\"false Pos\",\"false Neg\",\"true Pos\"]\n",
        "  group_counts = ['{0:0.0f}'.format(value) for value in cf_matrix.flatten()]\n",
        "\n",
        "  labels = [f'{v1}\\n{v2} ' for v1, v2 in  zip(group_names,group_counts)]\n",
        "  labels = np.asarray(labels).reshape(2,2)\n",
        "  sns.heatmap(cf_matrix, annot=labels, fmt='', cmap='Blues')\n",
        "\n"
      ],
      "execution_count": null,
      "outputs": []
    },
    {
      "cell_type": "code",
      "metadata": {
        "id": "xs2OlxDQ7lIy",
        "colab": {
          "base_uri": "https://localhost:8080/"
        },
        "outputId": "09880767-2a01-4208-e63f-b921314121d5"
      },
      "source": [
        "# from sklearn.metrics import confusion_matrix\n",
        "best_t = find_best_threshold(tr_thresholds, train_fpr, train_tpr)\n",
        "\n",
        "# https://scikit-learn.org/stable/modules/generated/sklearn.metrics.confusion_matrix.html\n",
        "cm_train = confusion_matrix(y_train, predict_with_best_t(y_train_pred[: , 1], best_t))\n",
        "\n",
        "cm_test = confusion_matrix(y_test, predict_with_best_t(y_test_pred[: , 1], best_t))\n",
        "\n",
        "\n"
      ],
      "execution_count": null,
      "outputs": [
        {
          "output_type": "stream",
          "text": [
            "the maximum value of tpr*(1-fpr) 0.4390713273309437 for threshold 0.81\n"
          ],
          "name": "stdout"
        }
      ]
    },
    {
      "cell_type": "code",
      "metadata": {
        "colab": {
          "base_uri": "https://localhost:8080/",
          "height": 386
        },
        "id": "oAA9ACBa12IZ",
        "outputId": "276a9f3e-3f04-414b-e0c1-b9221d27bae4"
      },
      "source": [
        "print(\"Train confusion matrix\")\n",
        "print_cm(cm_train)\n",
        "cf_matrix_heatmap(cm_train)"
      ],
      "execution_count": null,
      "outputs": [
        {
          "output_type": "stream",
          "text": [
            "Train confusion matrix\n",
            "+--------------+----------------+----------------+\n",
            "|              | Predicted : No | Predicte : YES |\n",
            "+--------------+----------------+----------------+\n",
            "| Actual : NO  |      7382      |      3701      |\n",
            "| Actual : YES |     21168      |     40945      |\n",
            "+--------------+----------------+----------------+\n"
          ],
          "name": "stdout"
        },
        {
          "output_type": "display_data",
          "data": {
            "image/png": "[encoded data removed]",
            "text/plain": [
              "<Figure size 432x288 with 2 Axes>"
            ]
          },
          "metadata": {
            "needs_background": "light"
          }
        }
      ]
    },
    {
      "cell_type": "code",
      "metadata": {
        "colab": {
          "base_uri": "https://localhost:8080/",
          "height": 390
        },
        "id": "PQJEKx7h3D8f",
        "outputId": "377b329c-800e-4c2b-950d-81398b6ca977"
      },
      "source": [
        "\n",
        "print(\"Test confusion matrix\")\n",
        "print_cm(cm_test)\n",
        "cf_matrix_heatmap(cm_test)\n"
      ],
      "execution_count": null,
      "outputs": [
        {
          "output_type": "stream",
          "text": [
            "Test confusion matrix\n",
            "+--------------+----------------+----------------+\n",
            "|              | Predicted : No | Predicte : YES |\n",
            "+--------------+----------------+----------------+\n",
            "| Actual : NO  |      3553      |      1906      |\n",
            "| Actual : YES |     10550      |     20043      |\n",
            "+--------------+----------------+----------------+\n"
          ],
          "name": "stdout"
        },
        {
          "output_type": "display_data",
          "data": {
            "image/png": "[encoded data removed]",
            "text/plain": [
              "<Figure size 432x288 with 2 Axes>"
            ]
          },
          "metadata": {
            "needs_background": "light"
          }
        }
      ]
    },
    {
      "cell_type": "markdown",
      "metadata": {
        "id": "zM36z1ebf2e2"
      },
      "source": [
        "### NB on (Set 2: categorical, numerical features + preprocessed_eassay (TFIDF))"
      ]
    },
    {
      "cell_type": "markdown",
      "metadata": {
        "id": "xVqU8uJPCCtE"
      },
      "source": [
        "most of the code is same as above "
      ]
    },
    {
      "cell_type": "markdown",
      "metadata": {
        "id": "ycZD17YRgGcD"
      },
      "source": [
        "<h3>1.  hyperparameter tuning </h3>"
      ]
    },
    {
      "cell_type": "code",
      "metadata": {
        "colab": {
          "base_uri": "https://localhost:8080/",
          "height": 590
        },
        "id": "mJXMIDuegGcQ",
        "outputId": "71e0faa6-8a45-482a-ccdc-8efbfa75bda2"
      },
      "source": [
        "from sklearn.model_selection import RandomizedSearchCV\n",
        "\n",
        "\n",
        "naive = MultinomialNB()\n",
        "parameters = {'alpha':[0.00001,0.0005, 0.0001,0.005,0.001,0.05,0.01,0.1,0.5,1,5,10,50,100]}\n",
        "\n",
        "clf = RandomizedSearchCV(naive, parameters, cv=4, scoring='roc_auc' , return_train_score=  True)     #https://stackoverflow.com/questions/57136676/sklearn-model-selection-gridsearchcv-is-throwing-keyerror-mean-train-score\n",
        "\n",
        "clf.fit(X_tr_tfidf, y_train)     \n",
        "\n",
        "results = pd.DataFrame.from_dict(clf.cv_results_)    \n",
        "results = results.sort_values(['param_alpha'])\n",
        "\n",
        "train_auc= results['mean_train_score']\n",
        "train_auc_std= results['std_train_score']\n",
        "cv_auc = results['mean_test_score'] \n",
        "cv_auc_std= results['std_test_score']\n",
        "alpha =  results['param_alpha']\n",
        "\n",
        "#for plotting\n",
        "alpha_list = list(alpha)\n",
        "alpha_log = np.log10(alpha_list)          #converting alpha values into log values\n",
        "\n",
        "plt.plot(alpha_log, train_auc, label='Train AUC')\n",
        "plt.plot(alpha_log, cv_auc, label='CV AUC')\n",
        "\n",
        "plt.scatter(alpha_log, train_auc, label='Train AUC points')\n",
        "plt.scatter(alpha_log, cv_auc, label='CV AUC points')\n",
        "\n",
        "\n",
        "\n",
        "\n",
        "plt.legend()\n",
        "plt.xlabel(\"log(alpha) : hyperparameter\")\n",
        "plt.ylabel(\"AUC\")\n",
        "plt.title(\"Hyper parameter Vs AUC plot\")\n",
        "plt.grid()\n",
        "\n",
        "#for annotating max value for cv_auc\n",
        "y = np.array(cv_auc)\n",
        "x=np.array(alpha_log)\n",
        "annot_max(x,y)\n",
        "\n",
        "plt.show()\n",
        "\n",
        "results.head()\n",
        "\n",
        "\n"
      ],
      "execution_count": null,
      "outputs": [
        {
          "output_type": "display_data",
          "data": {
            "image/png": "[encoded data removed]",
            "text/plain": [
              "<Figure size 432x288 with 1 Axes>"
            ]
          },
          "metadata": {
            "needs_background": "light"
          }
        },
        {
          "output_type": "execute_result",
          "data": {
            "text/html": [
              "<div>\n",
              "<style scoped>\n",
              "    .dataframe tbody tr th:only-of-type {\n",
              "        vertical-align: middle;\n",
              "    }\n",
              "\n",
              "    .dataframe tbody tr th {\n",
              "        vertical-align: top;\n",
              "    }\n",
              "\n",
              "    .dataframe thead th {\n",
              "        text-align: right;\n",
              "    }\n",
              "</style>\n",
              "<table border=\"1\" class=\"dataframe\">\n",
              "  <thead>\n",
              "    <tr style=\"text-align: right;\">\n",
              "      <th></th>\n",
              "      <th>mean_fit_time</th>\n",
              "      <th>std_fit_time</th>\n",
              "      <th>mean_score_time</th>\n",
              "      <th>std_score_time</th>\n",
              "      <th>param_alpha</th>\n",
              "      <th>params</th>\n",
              "      <th>split0_test_score</th>\n",
              "      <th>split1_test_score</th>\n",
              "      <th>split2_test_score</th>\n",
              "      <th>split3_test_score</th>\n",
              "      <th>mean_test_score</th>\n",
              "      <th>std_test_score</th>\n",
              "      <th>rank_test_score</th>\n",
              "      <th>split0_train_score</th>\n",
              "      <th>split1_train_score</th>\n",
              "      <th>split2_train_score</th>\n",
              "      <th>split3_train_score</th>\n",
              "      <th>mean_train_score</th>\n",
              "      <th>std_train_score</th>\n",
              "    </tr>\n",
              "  </thead>\n",
              "  <tbody>\n",
              "    <tr>\n",
              "      <th>4</th>\n",
              "      <td>0.092290</td>\n",
              "      <td>0.000416</td>\n",
              "      <td>0.023459</td>\n",
              "      <td>0.000927</td>\n",
              "      <td>0.0005</td>\n",
              "      <td>{'alpha': 0.0005}</td>\n",
              "      <td>0.660516</td>\n",
              "      <td>0.665639</td>\n",
              "      <td>0.674350</td>\n",
              "      <td>0.667090</td>\n",
              "      <td>0.666899</td>\n",
              "      <td>0.004947</td>\n",
              "      <td>1</td>\n",
              "      <td>0.698431</td>\n",
              "      <td>0.697687</td>\n",
              "      <td>0.697770</td>\n",
              "      <td>0.701613</td>\n",
              "      <td>0.698875</td>\n",
              "      <td>0.001607</td>\n",
              "    </tr>\n",
              "    <tr>\n",
              "      <th>1</th>\n",
              "      <td>0.097034</td>\n",
              "      <td>0.004791</td>\n",
              "      <td>0.025065</td>\n",
              "      <td>0.003266</td>\n",
              "      <td>0.001</td>\n",
              "      <td>{'alpha': 0.001}</td>\n",
              "      <td>0.660513</td>\n",
              "      <td>0.665636</td>\n",
              "      <td>0.674346</td>\n",
              "      <td>0.667086</td>\n",
              "      <td>0.666895</td>\n",
              "      <td>0.004947</td>\n",
              "      <td>2</td>\n",
              "      <td>0.698427</td>\n",
              "      <td>0.697683</td>\n",
              "      <td>0.697766</td>\n",
              "      <td>0.701608</td>\n",
              "      <td>0.698871</td>\n",
              "      <td>0.001606</td>\n",
              "    </tr>\n",
              "    <tr>\n",
              "      <th>3</th>\n",
              "      <td>0.094097</td>\n",
              "      <td>0.000184</td>\n",
              "      <td>0.024385</td>\n",
              "      <td>0.002440</td>\n",
              "      <td>0.005</td>\n",
              "      <td>{'alpha': 0.005}</td>\n",
              "      <td>0.660488</td>\n",
              "      <td>0.665615</td>\n",
              "      <td>0.674317</td>\n",
              "      <td>0.667058</td>\n",
              "      <td>0.666870</td>\n",
              "      <td>0.004945</td>\n",
              "      <td>3</td>\n",
              "      <td>0.698395</td>\n",
              "      <td>0.697649</td>\n",
              "      <td>0.697733</td>\n",
              "      <td>0.701572</td>\n",
              "      <td>0.698837</td>\n",
              "      <td>0.001605</td>\n",
              "    </tr>\n",
              "    <tr>\n",
              "      <th>0</th>\n",
              "      <td>0.095355</td>\n",
              "      <td>0.006624</td>\n",
              "      <td>0.023493</td>\n",
              "      <td>0.000636</td>\n",
              "      <td>0.01</td>\n",
              "      <td>{'alpha': 0.01}</td>\n",
              "      <td>0.660455</td>\n",
              "      <td>0.665587</td>\n",
              "      <td>0.674282</td>\n",
              "      <td>0.667019</td>\n",
              "      <td>0.666836</td>\n",
              "      <td>0.004944</td>\n",
              "      <td>4</td>\n",
              "      <td>0.698354</td>\n",
              "      <td>0.697606</td>\n",
              "      <td>0.697693</td>\n",
              "      <td>0.701527</td>\n",
              "      <td>0.698795</td>\n",
              "      <td>0.001604</td>\n",
              "    </tr>\n",
              "    <tr>\n",
              "      <th>5</th>\n",
              "      <td>0.092021</td>\n",
              "      <td>0.000933</td>\n",
              "      <td>0.022955</td>\n",
              "      <td>0.000233</td>\n",
              "      <td>0.05</td>\n",
              "      <td>{'alpha': 0.05}</td>\n",
              "      <td>0.660202</td>\n",
              "      <td>0.665370</td>\n",
              "      <td>0.673982</td>\n",
              "      <td>0.666732</td>\n",
              "      <td>0.666572</td>\n",
              "      <td>0.004923</td>\n",
              "      <td>5</td>\n",
              "      <td>0.698035</td>\n",
              "      <td>0.697266</td>\n",
              "      <td>0.697354</td>\n",
              "      <td>0.701165</td>\n",
              "      <td>0.698455</td>\n",
              "      <td>0.001593</td>\n",
              "    </tr>\n",
              "  </tbody>\n",
              "</table>\n",
              "</div>"
            ],
            "text/plain": [
              "   mean_fit_time  std_fit_time  ...  mean_train_score  std_train_score\n",
              "4       0.092290      0.000416  ...          0.698875         0.001607\n",
              "1       0.097034      0.004791  ...          0.698871         0.001606\n",
              "3       0.094097      0.000184  ...          0.698837         0.001605\n",
              "0       0.095355      0.006624  ...          0.698795         0.001604\n",
              "5       0.092021      0.000933  ...          0.698455         0.001593\n",
              "\n",
              "[5 rows x 19 columns]"
            ]
          },
          "metadata": {},
          "execution_count": 112
        }
      ]
    },
    {
      "cell_type": "code",
      "metadata": {
        "colab": {
          "base_uri": "https://localhost:8080/"
        },
        "id": "Tql0U7nwgGcQ",
        "outputId": "bde2dba3-c292-4e35-d84a-7794512f4bed"
      },
      "source": [
        "# print(max(cv_auc))\n",
        "cv_auc_max = max(cv_auc)\n",
        "i = np.where(np.isclose(cv_auc, cv_auc_max))      #https://stackoverflow.com/questions/18079029/index-of-element-in-numpy-array\n",
        "print(i)\n",
        "print(type(i))\n",
        "print(i[0][0])\n",
        "\n",
        "print(\"*\"*100)\n",
        "print(\"best value for alpha :  \" , alpha[i[0][0]])\n",
        "best_alpha_tfidf = alpha[i[0][0]]"
      ],
      "execution_count": null,
      "outputs": [
        {
          "output_type": "stream",
          "text": [
            "(array([0, 1]),)\n",
            "<class 'tuple'>\n",
            "0\n",
            "****************************************************************************************************\n",
            "best value for alpha :   0.01\n"
          ],
          "name": "stdout"
        }
      ]
    },
    {
      "cell_type": "markdown",
      "metadata": {
        "id": "aVdqkRrSgGcQ"
      },
      "source": [
        "<h3> 2. Testing the performance of the model on test data, plotting ROC Curves </h3>"
      ]
    },
    {
      "cell_type": "code",
      "metadata": {
        "scrolled": true,
        "colab": {
          "base_uri": "https://localhost:8080/",
          "height": 295
        },
        "id": "ZnJS_zYhgGcQ",
        "outputId": "27b2fb00-b519-4b20-e94f-5d66ba3e09e0"
      },
      "source": [
        "\n",
        "naive = MultinomialNB( alpha=best_alpha_tfidf)\n",
        "naive.fit(X_tr_tfidf, y_train)\n",
        "\n",
        "\n",
        "y_train_pred = naive.predict_proba(X_tr_tfidf)    \n",
        "y_test_pred = naive.predict_proba(X_te_tfidf)\n",
        "\n",
        "train_fpr, train_tpr, tr_thresholds = roc_curve(y_train, y_train_pred[: , 1])\n",
        "test_fpr, test_tpr, te_thresholds = roc_curve(y_test, y_test_pred[: , 1])\n",
        "\n",
        "plt.plot(train_fpr, train_tpr, label=\"train AUC =\"+str(auc(train_fpr, train_tpr)))\n",
        "plt.plot(test_fpr, test_tpr, label=\"test AUC =\"+str(auc(test_fpr, test_tpr)))\n",
        "plt.legend()\n",
        "plt.xlabel(\"FPR\")\n",
        "plt.ylabel(\"TPR\")\n",
        "plt.title(\"ROC curve\")\n",
        "plt.grid()\n",
        "plt.show()"
      ],
      "execution_count": null,
      "outputs": [
        {
          "output_type": "display_data",
          "data": {
            "image/png": "[encoded data removed]",
            "text/plain": [
              "<Figure size 432x288 with 1 Axes>"
            ]
          },
          "metadata": {
            "needs_background": "light"
          }
        }
      ]
    },
    {
      "cell_type": "code",
      "metadata": {
        "id": "YUCVojLj8eTl"
      },
      "source": [
        "AUC_tfidf  =auc(test_fpr, test_tpr)"
      ],
      "execution_count": null,
      "outputs": []
    },
    {
      "cell_type": "code",
      "metadata": {
        "id": "E5QuQUbRgGcR"
      },
      "source": [
        "#functions already defined earlier\n",
        "\n",
        "# # we will pick a threshold that will give max value for tpr*(1-fpr)\n",
        "\n",
        "# def find_best_threshold(threshold, fpr, tpr):\n",
        "#     t = threshold[np.argmax(tpr*(1-fpr))]\n",
        "#     # (tpr*(1-fpr)) will be maximum if your fpr is very low and tpr is very high\n",
        "#     print(\"the maximum value of tpr*(1-fpr)\", max(tpr*(1-fpr)), \"for threshold\", np.round(t,3))\n",
        "#     return t\n",
        "\n",
        "# def predict_with_best_t(proba, threshold):\n",
        "#     predictions = []\n",
        "#     for i in proba:\n",
        "#         if i>=threshold:\n",
        "#             predictions.append(1)\n",
        "#         else:\n",
        "#             predictions.append(0)\n",
        "#     return predictions\n",
        "\n",
        "# #confusion matrix heatmap\n",
        "# # https://medium.com/@dtuk81/confusion-matrix-visualization-fc31e3f30fea\n",
        "# def cf_matrix_heatmap(cf_matrix):\n",
        "#   group_names = [\"true Neg\",\"false Pos\",\"false Neg\",\"true Pos\"]\n",
        "#   group_counts = ['{0:0.0f}'.format(value) for value in cf_matrix.flatten()]\n",
        "\n",
        "#   labels = [f'{v1}\\n{v2} ' for v1, v2 in  zip(group_names,group_counts)]\n",
        "#   labels = np.asarray(labels).reshape(2,2)\n",
        "#   sns.heatmap(cf_matrix, annot=labels, fmt='', cmap='Blues')"
      ],
      "execution_count": null,
      "outputs": []
    },
    {
      "cell_type": "code",
      "metadata": {
        "id": "NE0i62OFswX5"
      },
      "source": [
        "# from prettytable import PrettyTable\n",
        "# def print_cm(confusion_matrix):\n",
        "#   t = PrettyTable(['', 'Predicted : No' , 'Predicte : YES'])\n",
        "#   t.add_row(['Actual : NO', confusion_matrix[0][0] , confusion_matrix[0][1]])\n",
        "#   t.add_row(['Actual : YES', confusion_matrix[1][0] , confusion_matrix[1][1]])\n",
        "#   print(t)"
      ],
      "execution_count": null,
      "outputs": []
    },
    {
      "cell_type": "code",
      "metadata": {
        "colab": {
          "base_uri": "https://localhost:8080/"
        },
        "id": "-tfWVYcLgGcR",
        "outputId": "c9d46a4b-66ac-47e5-cc93-9da1fa6e0383"
      },
      "source": [
        "# from sklearn.metrics import confusion_matrix\n",
        "best_t = find_best_threshold(tr_thresholds, train_fpr, train_tpr)\n",
        "\n",
        "# https://scikit-learn.org/stable/modules/generated/sklearn.metrics.confusion_matrix.html\n",
        "cm_train = confusion_matrix(y_train, predict_with_best_t(y_train_pred[: , 1], best_t))\n",
        "\n",
        "cm_test = confusion_matrix(y_test, predict_with_best_t(y_test_pred[: , 1], best_t))\n",
        "\n",
        "\n"
      ],
      "execution_count": null,
      "outputs": [
        {
          "output_type": "stream",
          "text": [
            "the maximum value of tpr*(1-fpr) 0.41225126708208004 for threshold 0.849\n"
          ],
          "name": "stdout"
        }
      ]
    },
    {
      "cell_type": "code",
      "metadata": {
        "colab": {
          "base_uri": "https://localhost:8080/",
          "height": 386
        },
        "id": "Z1F7YBV-gGcR",
        "outputId": "425dfac1-4299-4faa-8c7c-81357cc052e1"
      },
      "source": [
        "print(\"Train confusion matrix\")\n",
        "print_cm(cm_train)\n",
        "cf_matrix_heatmap(cm_train)"
      ],
      "execution_count": null,
      "outputs": [
        {
          "output_type": "stream",
          "text": [
            "Train confusion matrix\n",
            "+--------------+----------------+----------------+\n",
            "|              | Predicted : No | Predicte : YES |\n",
            "+--------------+----------------+----------------+\n",
            "| Actual : NO  |      7276      |      3807      |\n",
            "| Actual : YES |     23109      |     39004      |\n",
            "+--------------+----------------+----------------+\n"
          ],
          "name": "stdout"
        },
        {
          "output_type": "display_data",
          "data": {
            "image/png": "[encoded data removed]",
            "text/plain": [
              "<Figure size 432x288 with 2 Axes>"
            ]
          },
          "metadata": {
            "needs_background": "light"
          }
        }
      ]
    },
    {
      "cell_type": "code",
      "metadata": {
        "colab": {
          "base_uri": "https://localhost:8080/",
          "height": 386
        },
        "id": "RugYHoEdgGcR",
        "outputId": "e2f5d3ed-1f10-4d25-d61c-38d8c87fbe43"
      },
      "source": [
        "\n",
        "print(\"Test confusion matrix\")\n",
        "print_cm(cm_test)\n",
        "cf_matrix_heatmap(cm_test)\n"
      ],
      "execution_count": null,
      "outputs": [
        {
          "output_type": "stream",
          "text": [
            "Test confusion matrix\n",
            "+--------------+----------------+----------------+\n",
            "|              | Predicted : No | Predicte : YES |\n",
            "+--------------+----------------+----------------+\n",
            "| Actual : NO  |      3506      |      1953      |\n",
            "| Actual : YES |     11543      |     19050      |\n",
            "+--------------+----------------+----------------+\n"
          ],
          "name": "stdout"
        },
        {
          "output_type": "display_data",
          "data": {
            "image/png": "[encoded data removed]",
            "text/plain": [
              "<Figure size 432x288 with 2 Axes>"
            ]
          },
          "metadata": {
            "needs_background": "light"
          }
        }
      ]
    },
    {
      "cell_type": "markdown",
      "metadata": {
        "id": "ZIzA9_kFv_8t"
      },
      "source": [
        "## 1.7 finding top featues"
      ]
    },
    {
      "cell_type": "markdown",
      "metadata": {
        "id": "Gpsadj_5vo0V"
      },
      "source": [
        "### finding top 20 features (for NB on set 1)"
      ]
    },
    {
      "cell_type": "code",
      "metadata": {
        "colab": {
          "base_uri": "https://localhost:8080/"
        },
        "id": "24sej-uVwR30",
        "outputId": "f2442a37-3793-4d1e-80d2-08f5ef82b328"
      },
      "source": [
        "# print(feature_log_prob)\n",
        "print(feature_log_prob.shape)\n",
        "print(feature_log_prob[1])   #all log probabilities belonging to positive class"
      ],
      "execution_count": null,
      "outputs": [
        {
          "output_type": "stream",
          "text": [
            "(2, 5101)\n",
            "[-10.01428207  -8.55622853  -7.95211041 ...  -9.49516166 -11.30286257\n",
            " -11.72809975]\n"
          ],
          "name": "stdout"
        }
      ]
    },
    {
      "cell_type": "code",
      "metadata": {
        "id": "DYtCixK8yyVI"
      },
      "source": [
        "indices_negative_class_prob= np.argsort(feature_log_prob[0])[::-1][:20]  # \n",
        "# https://numpy.org/doc/stable/reference/generated/numpy.argsort.html  ; considering only top 20 features\n",
        "indices_positive_class_prob= np.argsort(feature_log_prob[1])[::-1][:20]\n"
      ],
      "execution_count": null,
      "outputs": []
    },
    {
      "cell_type": "code",
      "metadata": {
        "colab": {
          "base_uri": "https://localhost:8080/"
        },
        "id": "3xreJjKazyda",
        "outputId": "bb242596-9e12-4477-9f4b-e0a166740bf5"
      },
      "source": [
        "#corresponding feature names \n",
        "\n",
        "print(type(features_list))\n",
        "features_list = np.array(features_list)\n",
        "print(type(features_list))\n"
      ],
      "execution_count": null,
      "outputs": [
        {
          "output_type": "stream",
          "text": [
            "<class 'list'>\n",
            "<class 'numpy.ndarray'>\n"
          ],
          "name": "stdout"
        }
      ]
    },
    {
      "cell_type": "code",
      "metadata": {
        "colab": {
          "base_uri": "https://localhost:8080/"
        },
        "id": "RlwHvkI_2R7U",
        "outputId": "c8cf03c6-65fc-4fe4-dc18-ddad84e07d56"
      },
      "source": [
        "#using fancy indexing\n",
        "\n",
        "print(\"top  20 featue for negative class: \")\n",
        "print(features_list[indices_negative_class_prob])\n",
        "\n",
        "print(\"*\"*100)\n",
        "\n",
        "print(\"top  20 featue for positive class: \")\n",
        "print(features_list[indices_positive_class_prob])\n"
      ],
      "execution_count": null,
      "outputs": [
        {
          "output_type": "stream",
          "text": [
            "top  20 featue for negative class: \n",
            "['students' 'school' 'learning' 'my' 'classroom' 'not' 'learn' 'they'\n",
            " 'help' 'the' 'my students' 'nannan' 'many' 'we' 'need' 'work' 'come'\n",
            " 'love' 'able' 'day']\n",
            "****************************************************************************************************\n",
            "top  20 featue for positive class: \n",
            "['students' 'school' 'my' 'learning' 'classroom' 'the' 'they' 'not'\n",
            " 'my students' 'learn' 'help' 'many' 'nannan' 'we' 'need' 'work' 'reading'\n",
            " 'use' 'love' 'day']\n"
          ],
          "name": "stdout"
        }
      ]
    },
    {
      "cell_type": "markdown",
      "metadata": {
        "id": "lS9hIHdib3dp"
      },
      "source": [
        "# 3.Summary\n",
        "\n",
        "<br> as mentioned in the step 5 of instructions"
      ]
    },
    {
      "cell_type": "code",
      "metadata": {
        "colab": {
          "base_uri": "https://localhost:8080/"
        },
        "id": "ANLC332j6vfm",
        "outputId": "72248597-602f-483e-cea8-05d89a77f9dd"
      },
      "source": [
        "# https://stackoverflow.com/questions/9535954/printing-lists-as-tabular-data\n",
        "from prettytable import PrettyTable\n",
        "t = PrettyTable(['Vectorizer', 'Model' , 'Hyper parameter' , 'AUC'])\n",
        "t.add_row(['BOW', 'Naive Bayes' ,best_alpha_bow , AUC_bow])\n",
        "t.add_row(['TFIDF', 'Naive Bayes',best_alpha_tfidf , AUC_tfidf])\n",
        "print(t)"
      ],
      "execution_count": null,
      "outputs": [
        {
          "output_type": "stream",
          "text": [
            "+------------+-------------+-----------------+--------------------+\n",
            "| Vectorizer |    Model    | Hyper parameter |        AUC         |\n",
            "+------------+-------------+-----------------+--------------------+\n",
            "|    BOW     | Naive Bayes |      0.005      | 0.7012618265344474 |\n",
            "|   TFIDF    | Naive Bayes |       0.01      | 0.6802269713099234 |\n",
            "+------------+-------------+-----------------+--------------------+\n"
          ],
          "name": "stdout"
        }
      ]
    }
  ]
}