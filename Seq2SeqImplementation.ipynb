{
  "nbformat": 4,
  "nbformat_minor": 0,
  "metadata": {
    "colab": {
      "provenance": [],
      "collapsed_sections": []
    },
    "kernelspec": {
      "display_name": "Python 3",
      "language": "python",
      "name": "python3"
    },
    "language_info": {
      "codemirror_mode": {
        "name": "ipython",
        "version": 3
      },
      "file_extension": ".py",
      "mimetype": "text/x-python",
      "name": "python",
      "nbconvert_exporter": "python",
      "pygments_lexer": "ipython3",
      "version": "3.7.4"
    },
    "gpuClass": "standard",
    "accelerator": "GPU"
  },
  "cells": [
    {
      "cell_type": "markdown",
      "metadata": {
        "id": "fwPL0hIlGKoA"
      },
      "source": [
        "\n",
        "\n",
        "\n",
        "# <font color='red'>**Sequence to sequence implementation**</font>"
      ]
    },
    {
      "cell_type": "markdown",
      "metadata": {
        "id": "QyfZo8fmLOec"
      },
      "source": [
        "## Task -1: Simple Encoder and Decoder\n",
        "Implement simple Encoder-Decoder model"
      ]
    },
    {
      "cell_type": "markdown",
      "metadata": {
        "id": "IvNSZXNkkOkO"
      },
      "source": [
        "1. Download the **Italian** to **English** translation dataset from <a href=\"http://www.manythings.org/anki/ita-eng.zip\">here</a>\n",
        "\n",
        "2. You will find **ita.txt** file in that ZIP, \n",
        "you can read that data using python and preprocess that data this way only: \n",
        "<img src='https://i.imgur.com/z0j79Jf.png'>    \n",
        "    \n",
        "3. You have to implement a simple Encoder and Decoder architecture  \n",
        "\n",
        "4. Use BLEU score as metric to evaluate your model. You can use any loss function you need.\n",
        "\n",
        "5. You have to use Tensorboard to plot the Graph, Scores and histograms of gradients. \n",
        "\n",
        "6.  a. Check the reference notebook <br>\n",
        "    b. <a href=\"https://medium.com/analytics-vidhya/understand-sequence-to-sequence-models-in-a-more-intuitive-way-1d517d8795bb\">Resource 2</a>\n",
        "    \n",
        "\n"
      ]
    },
    {
      "cell_type": "markdown",
      "metadata": {
        "id": "3k_AlAuKJqVA"
      },
      "source": [
        "<font color='blue'>**Load the data**</font>"
      ]
    },
    {
      "cell_type": "code",
      "metadata": {
        "id": "m_gldAAiO5e2",
        "colab": {
          "base_uri": "https://localhost:8080/"
        },
        "outputId": "cd6eda38-bf44-482f-ce8e-1d57ff273811"
      },
      "source": [
        "!wget --header=\"Host: www.manythings.org\" --header=\"User-Agent: Mozilla/5.0 (Windows NT 10.0; Win64; x64) AppleWebKit/537.36 (KHTML, like Gecko) Chrome/95.0.4638.54 Safari/537.36\" --header=\"Accept: text/html,application/xhtml+xml,application/xml;q=0.9,image/avif,image/webp,image/apng,*/*;q=0.8,application/signed-exchange;v=b3;q=0.9\" --header=\"Accept-Language: en-GB,en-US;q=0.9,en;q=0.8,hi;q=0.7\" --header=\"Cookie: __utma=3028652.1607358814.1634216631.1634216631.1634216631.1; __utmz=3028652.1634216631.1.1.utmcsr=(direct)|utmccn=(direct)|utmcmd=(none)\" --header=\"Connection: keep-alive\" \"http://www.manythings.org/anki/ita-eng.zip\" -c -O 'ita-eng.zip'"
      ],
      "execution_count": null,
      "outputs": [
        {
          "output_type": "stream",
          "name": "stdout",
          "text": [
            "--2022-08-27 14:14:49--  http://www.manythings.org/anki/ita-eng.zip\n",
            "Resolving www.manythings.org (www.manythings.org)... 173.254.30.110\n",
            "Connecting to www.manythings.org (www.manythings.org)|173.254.30.110|:80... connected.\n",
            "HTTP request sent, awaiting response... 200 OK\n",
            "Length: 7782544 (7.4M) [application/zip]\n",
            "Saving to: ‘ita-eng.zip’\n",
            "\n",
            "ita-eng.zip         100%[===================>]   7.42M  19.4MB/s    in 0.4s    \n",
            "\n",
            "2022-08-27 14:14:49 (19.4 MB/s) - ‘ita-eng.zip’ saved [7782544/7782544]\n",
            "\n"
          ]
        }
      ]
    },
    {
      "cell_type": "code",
      "metadata": {
        "id": "_e_2k8Q0PDb9",
        "colab": {
          "base_uri": "https://localhost:8080/"
        },
        "outputId": "f021e787-5e89-4cdb-9d4c-3d428ef30016"
      },
      "source": [
        "!unzip ita-eng.zip"
      ],
      "execution_count": null,
      "outputs": [
        {
          "output_type": "stream",
          "name": "stdout",
          "text": [
            "Archive:  ita-eng.zip\n",
            "  inflating: ita.txt                 \n",
            "  inflating: _about.txt              \n"
          ]
        }
      ]
    },
    {
      "cell_type": "code",
      "metadata": {
        "id": "6KHw1l6QREOD"
      },
      "source": [
        "import matplotlib.pyplot as plt\n",
        "%matplotlib inline\n",
        "# import seaborn as sns\n",
        "import pandas as pd\n",
        "import re\n",
        "import tensorflow as tf\n",
        "from tensorflow.keras.layers import Embedding, LSTM, Dense\n",
        "from tensorflow.keras.models import Model\n",
        "from tensorflow.keras.preprocessing.text import Tokenizer\n",
        "from tensorflow.keras.preprocessing.sequence import pad_sequences\n",
        "import numpy as np"
      ],
      "execution_count": null,
      "outputs": []
    },
    {
      "cell_type": "markdown",
      "metadata": {
        "id": "vmGWTdRmKRph"
      },
      "source": [
        "<font color='blue'>**Preprocess data**</font>"
      ]
    },
    {
      "cell_type": "code",
      "metadata": {
        "colab": {
          "base_uri": "https://localhost:8080/",
          "height": 223
        },
        "outputId": "d5f77e44-1eb0-4098-f4ae-4ad5ece81e59",
        "id": "TW1BV13OweHd"
      },
      "source": [
        "with open('ita.txt', 'r', encoding=\"utf8\") as f:\n",
        "    eng=[]\n",
        "    ita=[]\n",
        "    for i in f.readlines():\n",
        "        eng.append(i.split(\"\\t\")[0])\n",
        "        ita.append(i.split(\"\\t\")[1])\n",
        "data = pd.DataFrame(data=list(zip(eng, ita)), columns=['english','italian'])\n",
        "print(data.shape)\n",
        "data.head()"
      ],
      "execution_count": null,
      "outputs": [
        {
          "output_type": "stream",
          "name": "stdout",
          "text": [
            "(354238, 2)\n"
          ]
        },
        {
          "output_type": "execute_result",
          "data": {
            "text/plain": [
              "  english   italian\n",
              "0     Hi.     Ciao!\n",
              "1     Hi.     Ciao.\n",
              "2    Run!    Corri!\n",
              "3    Run!    Corra!\n",
              "4    Run!  Correte!"
            ],
            "text/html": [
              "\n",
              "  <div id=\"df-badb452b-b784-4a50-8c09-58c4f8155406\">\n",
              "    <div class=\"colab-df-container\">\n",
              "      <div>\n",
              "<style scoped>\n",
              "    .dataframe tbody tr th:only-of-type {\n",
              "        vertical-align: middle;\n",
              "    }\n",
              "\n",
              "    .dataframe tbody tr th {\n",
              "        vertical-align: top;\n",
              "    }\n",
              "\n",
              "    .dataframe thead th {\n",
              "        text-align: right;\n",
              "    }\n",
              "</style>\n",
              "<table border=\"1\" class=\"dataframe\">\n",
              "  <thead>\n",
              "    <tr style=\"text-align: right;\">\n",
              "      <th></th>\n",
              "      <th>english</th>\n",
              "      <th>italian</th>\n",
              "    </tr>\n",
              "  </thead>\n",
              "  <tbody>\n",
              "    <tr>\n",
              "      <th>0</th>\n",
              "      <td>Hi.</td>\n",
              "      <td>Ciao!</td>\n",
              "    </tr>\n",
              "    <tr>\n",
              "      <th>1</th>\n",
              "      <td>Hi.</td>\n",
              "      <td>Ciao.</td>\n",
              "    </tr>\n",
              "    <tr>\n",
              "      <th>2</th>\n",
              "      <td>Run!</td>\n",
              "      <td>Corri!</td>\n",
              "    </tr>\n",
              "    <tr>\n",
              "      <th>3</th>\n",
              "      <td>Run!</td>\n",
              "      <td>Corra!</td>\n",
              "    </tr>\n",
              "    <tr>\n",
              "      <th>4</th>\n",
              "      <td>Run!</td>\n",
              "      <td>Correte!</td>\n",
              "    </tr>\n",
              "  </tbody>\n",
              "</table>\n",
              "</div>\n",
              "      <button class=\"colab-df-convert\" onclick=\"convertToInteractive('df-badb452b-b784-4a50-8c09-58c4f8155406')\"\n",
              "              title=\"Convert this dataframe to an interactive table.\"\n",
              "              style=\"display:none;\">\n",
              "        \n",
              "  <svg xmlns=\"http://www.w3.org/2000/svg\" height=\"24px\"viewBox=\"0 0 24 24\"\n",
              "       width=\"24px\">\n",
              "    <path d=\"M0 0h24v24H0V0z\" fill=\"none\"/>\n",
              "    <path d=\"M18.56 5.44l.94 2.06.94-2.06 2.06-.94-2.06-.94-.94-2.06-.94 2.06-2.06.94zm-11 1L8.5 8.5l.94-2.06 2.06-.94-2.06-.94L8.5 2.5l-.94 2.06-2.06.94zm10 10l.94 2.06.94-2.06 2.06-.94-2.06-.94-.94-2.06-.94 2.06-2.06.94z\"/><path d=\"M17.41 7.96l-1.37-1.37c-.4-.4-.92-.59-1.43-.59-.52 0-1.04.2-1.43.59L10.3 9.45l-7.72 7.72c-.78.78-.78 2.05 0 2.83L4 21.41c.39.39.9.59 1.41.59.51 0 1.02-.2 1.41-.59l7.78-7.78 2.81-2.81c.8-.78.8-2.07 0-2.86zM5.41 20L4 18.59l7.72-7.72 1.47 1.35L5.41 20z\"/>\n",
              "  </svg>\n",
              "      </button>\n",
              "      \n",
              "  <style>\n",
              "    .colab-df-container {\n",
              "      display:flex;\n",
              "      flex-wrap:wrap;\n",
              "      gap: 12px;\n",
              "    }\n",
              "\n",
              "    .colab-df-convert {\n",
              "      background-color: #E8F0FE;\n",
              "      border: none;\n",
              "      border-radius: 50%;\n",
              "      cursor: pointer;\n",
              "      display: none;\n",
              "      fill: #1967D2;\n",
              "      height: 32px;\n",
              "      padding: 0 0 0 0;\n",
              "      width: 32px;\n",
              "    }\n",
              "\n",
              "    .colab-df-convert:hover {\n",
              "      background-color: #E2EBFA;\n",
              "      box-shadow: 0px 1px 2px rgba(60, 64, 67, 0.3), 0px 1px 3px 1px rgba(60, 64, 67, 0.15);\n",
              "      fill: #174EA6;\n",
              "    }\n",
              "\n",
              "    [theme=dark] .colab-df-convert {\n",
              "      background-color: #3B4455;\n",
              "      fill: #D2E3FC;\n",
              "    }\n",
              "\n",
              "    [theme=dark] .colab-df-convert:hover {\n",
              "      background-color: #434B5C;\n",
              "      box-shadow: 0px 1px 3px 1px rgba(0, 0, 0, 0.15);\n",
              "      filter: drop-shadow(0px 1px 2px rgba(0, 0, 0, 0.3));\n",
              "      fill: #FFFFFF;\n",
              "    }\n",
              "  </style>\n",
              "\n",
              "      <script>\n",
              "        const buttonEl =\n",
              "          document.querySelector('#df-badb452b-b784-4a50-8c09-58c4f8155406 button.colab-df-convert');\n",
              "        buttonEl.style.display =\n",
              "          google.colab.kernel.accessAllowed ? 'block' : 'none';\n",
              "\n",
              "        async function convertToInteractive(key) {\n",
              "          const element = document.querySelector('#df-badb452b-b784-4a50-8c09-58c4f8155406');\n",
              "          const dataTable =\n",
              "            await google.colab.kernel.invokeFunction('convertToInteractive',\n",
              "                                                     [key], {});\n",
              "          if (!dataTable) return;\n",
              "\n",
              "          const docLinkHtml = 'Like what you see? Visit the ' +\n",
              "            '<a target=\"_blank\" href=https://colab.research.google.com/notebooks/data_table.ipynb>data table notebook</a>'\n",
              "            + ' to learn more about interactive tables.';\n",
              "          element.innerHTML = '';\n",
              "          dataTable['output_type'] = 'display_data';\n",
              "          await google.colab.output.renderOutput(dataTable, element);\n",
              "          const docLink = document.createElement('div');\n",
              "          docLink.innerHTML = docLinkHtml;\n",
              "          element.appendChild(docLink);\n",
              "        }\n",
              "      </script>\n",
              "    </div>\n",
              "  </div>\n",
              "  "
            ]
          },
          "metadata": {},
          "execution_count": 4
        }
      ]
    },
    {
      "cell_type": "code",
      "metadata": {
        "id": "XnDyE0ljbYor",
        "colab": {
          "base_uri": "https://localhost:8080/",
          "height": 206
        },
        "outputId": "777477dc-d159-4204-94a7-9f616bac7202"
      },
      "source": [
        "def decontractions(phrase):\n",
        "    \"\"\"decontracted takes text and convert contractions into natural form.\n",
        "     ref: https://stackoverflow.com/questions/19790188/expanding-english-language-contractions-in-python/47091490#47091490\"\"\"\n",
        "    # specific\n",
        "    phrase = re.sub(r\"won\\'t\", \"will not\", phrase)\n",
        "    phrase = re.sub(r\"can\\'t\", \"can not\", phrase)\n",
        "    phrase = re.sub(r\"won\\’t\", \"will not\", phrase)\n",
        "    phrase = re.sub(r\"can\\’t\", \"can not\", phrase)\n",
        "\n",
        "    # general\n",
        "    phrase = re.sub(r\"n\\'t\", \" not\", phrase)\n",
        "    phrase = re.sub(r\"\\'re\", \" are\", phrase)\n",
        "    phrase = re.sub(r\"\\'s\", \" is\", phrase)\n",
        "    phrase = re.sub(r\"\\'d\", \" would\", phrase)\n",
        "    phrase = re.sub(r\"\\'ll\", \" will\", phrase)\n",
        "    phrase = re.sub(r\"\\'t\", \" not\", phrase)\n",
        "    phrase = re.sub(r\"\\'ve\", \" have\", phrase)\n",
        "    phrase = re.sub(r\"\\'m\", \" am\", phrase)\n",
        "\n",
        "    phrase = re.sub(r\"n\\’t\", \" not\", phrase)\n",
        "    phrase = re.sub(r\"\\’re\", \" are\", phrase)\n",
        "    phrase = re.sub(r\"\\’s\", \" is\", phrase)\n",
        "    phrase = re.sub(r\"\\’d\", \" would\", phrase)\n",
        "    phrase = re.sub(r\"\\’ll\", \" will\", phrase)\n",
        "    phrase = re.sub(r\"\\’t\", \" not\", phrase)\n",
        "    phrase = re.sub(r\"\\’ve\", \" have\", phrase)\n",
        "    phrase = re.sub(r\"\\’m\", \" am\", phrase)\n",
        "\n",
        "    return phrase\n",
        "\n",
        "def preprocess(text):\n",
        "    # convert all the text into lower letters\n",
        "    # use this function to remove the contractions: https://gist.github.com/anandborad/d410a49a493b56dace4f814ab5325bbd\n",
        "    # remove all the spacial characters: except space ' '\n",
        "    text = text.lower()\n",
        "    text = decontractions(text)\n",
        "    text = re.sub('[^A-Za-z0-9 ]+', '', text)\n",
        "    return text\n",
        "\n",
        "def preprocess_ita(text):\n",
        "    # convert all the text into lower letters\n",
        "    # remove the words betweent brakets ()\n",
        "    # remove these characters: {'$', ')', '?', '\"', '’', '.',  '°', '!', ';', '/', \"'\", '€', '%', ':', ',', '('}\n",
        "    # replace these spl characters with space: '\\u200b', '\\xa0', '-', '/'\n",
        "    # we have found these characters after observing the data points, feel free to explore more and see if you can do find more\n",
        "    # you are free to do more proprocessing\n",
        "    # note that the model will learn better with better preprocessed data \n",
        "    \n",
        "    text = text.lower()\n",
        "    text = decontractions(text)\n",
        "    text = re.sub('[$)\\?\"’.°!;\\'€%:,(/]', '', text)\n",
        "    text = re.sub('\\u200b', ' ', text)\n",
        "    text = re.sub('\\xa0', ' ', text)\n",
        "    text = re.sub('-', ' ', text)\n",
        "    return text\n",
        "\n",
        "\n",
        "data['english'] = data['english'].apply(preprocess)\n",
        "data['italian'] = data['italian'].apply(preprocess_ita)\n",
        "data.head()"
      ],
      "execution_count": null,
      "outputs": [
        {
          "output_type": "execute_result",
          "data": {
            "text/plain": [
              "  english  italian\n",
              "0      hi     ciao\n",
              "1      hi     ciao\n",
              "2     run    corri\n",
              "3     run    corra\n",
              "4     run  correte"
            ],
            "text/html": [
              "\n",
              "  <div id=\"df-c6af47a6-1daf-4390-8fd1-cf2b4f1e90aa\">\n",
              "    <div class=\"colab-df-container\">\n",
              "      <div>\n",
              "<style scoped>\n",
              "    .dataframe tbody tr th:only-of-type {\n",
              "        vertical-align: middle;\n",
              "    }\n",
              "\n",
              "    .dataframe tbody tr th {\n",
              "        vertical-align: top;\n",
              "    }\n",
              "\n",
              "    .dataframe thead th {\n",
              "        text-align: right;\n",
              "    }\n",
              "</style>\n",
              "<table border=\"1\" class=\"dataframe\">\n",
              "  <thead>\n",
              "    <tr style=\"text-align: right;\">\n",
              "      <th></th>\n",
              "      <th>english</th>\n",
              "      <th>italian</th>\n",
              "    </tr>\n",
              "  </thead>\n",
              "  <tbody>\n",
              "    <tr>\n",
              "      <th>0</th>\n",
              "      <td>hi</td>\n",
              "      <td>ciao</td>\n",
              "    </tr>\n",
              "    <tr>\n",
              "      <th>1</th>\n",
              "      <td>hi</td>\n",
              "      <td>ciao</td>\n",
              "    </tr>\n",
              "    <tr>\n",
              "      <th>2</th>\n",
              "      <td>run</td>\n",
              "      <td>corri</td>\n",
              "    </tr>\n",
              "    <tr>\n",
              "      <th>3</th>\n",
              "      <td>run</td>\n",
              "      <td>corra</td>\n",
              "    </tr>\n",
              "    <tr>\n",
              "      <th>4</th>\n",
              "      <td>run</td>\n",
              "      <td>correte</td>\n",
              "    </tr>\n",
              "  </tbody>\n",
              "</table>\n",
              "</div>\n",
              "      <button class=\"colab-df-convert\" onclick=\"convertToInteractive('df-c6af47a6-1daf-4390-8fd1-cf2b4f1e90aa')\"\n",
              "              title=\"Convert this dataframe to an interactive table.\"\n",
              "              style=\"display:none;\">\n",
              "        \n",
              "  <svg xmlns=\"http://www.w3.org/2000/svg\" height=\"24px\"viewBox=\"0 0 24 24\"\n",
              "       width=\"24px\">\n",
              "    <path d=\"M0 0h24v24H0V0z\" fill=\"none\"/>\n",
              "    <path d=\"M18.56 5.44l.94 2.06.94-2.06 2.06-.94-2.06-.94-.94-2.06-.94 2.06-2.06.94zm-11 1L8.5 8.5l.94-2.06 2.06-.94-2.06-.94L8.5 2.5l-.94 2.06-2.06.94zm10 10l.94 2.06.94-2.06 2.06-.94-2.06-.94-.94-2.06-.94 2.06-2.06.94z\"/><path d=\"M17.41 7.96l-1.37-1.37c-.4-.4-.92-.59-1.43-.59-.52 0-1.04.2-1.43.59L10.3 9.45l-7.72 7.72c-.78.78-.78 2.05 0 2.83L4 21.41c.39.39.9.59 1.41.59.51 0 1.02-.2 1.41-.59l7.78-7.78 2.81-2.81c.8-.78.8-2.07 0-2.86zM5.41 20L4 18.59l7.72-7.72 1.47 1.35L5.41 20z\"/>\n",
              "  </svg>\n",
              "      </button>\n",
              "      \n",
              "  <style>\n",
              "    .colab-df-container {\n",
              "      display:flex;\n",
              "      flex-wrap:wrap;\n",
              "      gap: 12px;\n",
              "    }\n",
              "\n",
              "    .colab-df-convert {\n",
              "      background-color: #E8F0FE;\n",
              "      border: none;\n",
              "      border-radius: 50%;\n",
              "      cursor: pointer;\n",
              "      display: none;\n",
              "      fill: #1967D2;\n",
              "      height: 32px;\n",
              "      padding: 0 0 0 0;\n",
              "      width: 32px;\n",
              "    }\n",
              "\n",
              "    .colab-df-convert:hover {\n",
              "      background-color: #E2EBFA;\n",
              "      box-shadow: 0px 1px 2px rgba(60, 64, 67, 0.3), 0px 1px 3px 1px rgba(60, 64, 67, 0.15);\n",
              "      fill: #174EA6;\n",
              "    }\n",
              "\n",
              "    [theme=dark] .colab-df-convert {\n",
              "      background-color: #3B4455;\n",
              "      fill: #D2E3FC;\n",
              "    }\n",
              "\n",
              "    [theme=dark] .colab-df-convert:hover {\n",
              "      background-color: #434B5C;\n",
              "      box-shadow: 0px 1px 3px 1px rgba(0, 0, 0, 0.15);\n",
              "      filter: drop-shadow(0px 1px 2px rgba(0, 0, 0, 0.3));\n",
              "      fill: #FFFFFF;\n",
              "    }\n",
              "  </style>\n",
              "\n",
              "      <script>\n",
              "        const buttonEl =\n",
              "          document.querySelector('#df-c6af47a6-1daf-4390-8fd1-cf2b4f1e90aa button.colab-df-convert');\n",
              "        buttonEl.style.display =\n",
              "          google.colab.kernel.accessAllowed ? 'block' : 'none';\n",
              "\n",
              "        async function convertToInteractive(key) {\n",
              "          const element = document.querySelector('#df-c6af47a6-1daf-4390-8fd1-cf2b4f1e90aa');\n",
              "          const dataTable =\n",
              "            await google.colab.kernel.invokeFunction('convertToInteractive',\n",
              "                                                     [key], {});\n",
              "          if (!dataTable) return;\n",
              "\n",
              "          const docLinkHtml = 'Like what you see? Visit the ' +\n",
              "            '<a target=\"_blank\" href=https://colab.research.google.com/notebooks/data_table.ipynb>data table notebook</a>'\n",
              "            + ' to learn more about interactive tables.';\n",
              "          element.innerHTML = '';\n",
              "          dataTable['output_type'] = 'display_data';\n",
              "          await google.colab.output.renderOutput(dataTable, element);\n",
              "          const docLink = document.createElement('div');\n",
              "          docLink.innerHTML = docLinkHtml;\n",
              "          element.appendChild(docLink);\n",
              "        }\n",
              "      </script>\n",
              "    </div>\n",
              "  </div>\n",
              "  "
            ]
          },
          "metadata": {},
          "execution_count": 5
        }
      ]
    },
    {
      "cell_type": "code",
      "metadata": {
        "scrolled": true,
        "id": "IypVGvYKREOL"
      },
      "source": [
        "ita_lengths = data['italian'].str.split().apply(len)\n",
        "eng_lengths = data['english'].str.split().apply(len)"
      ],
      "execution_count": null,
      "outputs": []
    },
    {
      "cell_type": "code",
      "metadata": {
        "id": "YOWJ9c5jREON",
        "colab": {
          "base_uri": "https://localhost:8080/"
        },
        "outputId": "3c8ead81-7b83-440a-a7ac-01796507b6c7"
      },
      "source": [
        "for i in range(0,101,10):\n",
        "    print(i,np.percentile(ita_lengths, i))\n",
        "for i in range(90,101):\n",
        "    print(i,np.percentile(ita_lengths, i))\n",
        "for i in [99.1,99.2,99.3,99.4,99.5,99.6,99.7,99.8,99.9,100]:\n",
        "    print(i,np.percentile(ita_lengths, i))"
      ],
      "execution_count": null,
      "outputs": [
        {
          "output_type": "stream",
          "name": "stdout",
          "text": [
            "0 1.0\n",
            "10 3.0\n",
            "20 4.0\n",
            "30 4.0\n",
            "40 5.0\n",
            "50 5.0\n",
            "60 6.0\n",
            "70 6.0\n",
            "80 7.0\n",
            "90 8.0\n",
            "100 92.0\n",
            "90 8.0\n",
            "91 8.0\n",
            "92 8.0\n",
            "93 9.0\n",
            "94 9.0\n",
            "95 9.0\n",
            "96 9.0\n",
            "97 10.0\n",
            "98 11.0\n",
            "99 12.0\n",
            "100 92.0\n",
            "99.1 12.0\n",
            "99.2 12.0\n",
            "99.3 13.0\n",
            "99.4 13.0\n",
            "99.5 13.0\n",
            "99.6 14.0\n",
            "99.7 15.0\n",
            "99.8 16.0\n",
            "99.9 22.0\n",
            "100 92.0\n"
          ]
        }
      ]
    },
    {
      "cell_type": "code",
      "metadata": {
        "id": "pGCOWtN1REOP",
        "colab": {
          "base_uri": "https://localhost:8080/"
        },
        "outputId": "bf9078a2-05aa-4418-cddc-569cc2e9ca25"
      },
      "source": [
        "for i in range(0,101,10):\n",
        "    print(i,np.percentile(eng_lengths, i))\n",
        "for i in range(90,101):\n",
        "    print(i,np.percentile(eng_lengths, i))\n",
        "for i in [99.1,99.2,99.3,99.4,99.5,99.6,99.7,99.8,99.9,100]:\n",
        "    print(i,np.percentile(eng_lengths, i))"
      ],
      "execution_count": null,
      "outputs": [
        {
          "output_type": "stream",
          "name": "stdout",
          "text": [
            "0 1.0\n",
            "10 4.0\n",
            "20 4.0\n",
            "30 5.0\n",
            "40 5.0\n",
            "50 6.0\n",
            "60 6.0\n",
            "70 7.0\n",
            "80 7.0\n",
            "90 8.0\n",
            "100 101.0\n",
            "90 8.0\n",
            "91 9.0\n",
            "92 9.0\n",
            "93 9.0\n",
            "94 9.0\n",
            "95 9.0\n",
            "96 10.0\n",
            "97 10.0\n",
            "98 11.0\n",
            "99 12.0\n",
            "100 101.0\n",
            "99.1 12.0\n",
            "99.2 13.0\n",
            "99.3 13.0\n",
            "99.4 13.0\n",
            "99.5 14.0\n",
            "99.6 14.0\n",
            "99.7 15.0\n",
            "99.8 16.0\n",
            "99.9 25.0\n",
            "100 101.0\n"
          ]
        }
      ]
    },
    {
      "cell_type": "markdown",
      "metadata": {
        "id": "u-6pcMyuREOR"
      },
      "source": [
        "> <font color=\"blue\"><b>If you observe the values, 99.9% of the data points are having length &lt; 22 for italian sentences and  &lt; 25 for english sentences  </b> </font>\n",
        "<br>\n",
        "<br>\n",
        "> <font color=\"green\"><b>Inorder to do the teacher forcing while training of seq-seq models, lets create two new columns, one with  &lt;start&gt; token at begining of the sentence and other column with &lt;end&gt; token at the end of the sequence</b></font>"
      ]
    },
    {
      "cell_type": "code",
      "metadata": {
        "id": "frL1wvLwSz7_",
        "colab": {
          "base_uri": "https://localhost:8080/",
          "height": 414
        },
        "outputId": "1158e2ec-f03f-42bf-e8b5-674ef106f564"
      },
      "source": [
        "data['italian_len'] = data['italian'].str.split().apply(len)\n",
        "data = data[data['italian_len'] < 22]\n",
        "\n",
        "data['english_len'] = data['english'].str.split().apply(len)\n",
        "data = data[data['english_len'] < 25]\n",
        "\n",
        "data['english_inp'] = '<start> ' + data['english'].astype(str)\n",
        "data['english_out'] = data['english'].astype(str) + ' <end>'\n",
        "\n",
        "data = data.drop(['english','italian_len','english_len'], axis=1)\n",
        "data.head()"
      ],
      "execution_count": null,
      "outputs": [
        {
          "output_type": "stream",
          "name": "stderr",
          "text": [
            "/usr/local/lib/python3.7/dist-packages/ipykernel_launcher.py:7: SettingWithCopyWarning: \n",
            "A value is trying to be set on a copy of a slice from a DataFrame.\n",
            "Try using .loc[row_indexer,col_indexer] = value instead\n",
            "\n",
            "See the caveats in the documentation: https://pandas.pydata.org/pandas-docs/stable/user_guide/indexing.html#returning-a-view-versus-a-copy\n",
            "  import sys\n",
            "/usr/local/lib/python3.7/dist-packages/ipykernel_launcher.py:8: SettingWithCopyWarning: \n",
            "A value is trying to be set on a copy of a slice from a DataFrame.\n",
            "Try using .loc[row_indexer,col_indexer] = value instead\n",
            "\n",
            "See the caveats in the documentation: https://pandas.pydata.org/pandas-docs/stable/user_guide/indexing.html#returning-a-view-versus-a-copy\n",
            "  \n"
          ]
        },
        {
          "output_type": "execute_result",
          "data": {
            "text/plain": [
              "   italian  english_inp english_out\n",
              "0     ciao   <start> hi    hi <end>\n",
              "1     ciao   <start> hi    hi <end>\n",
              "2    corri  <start> run   run <end>\n",
              "3    corra  <start> run   run <end>\n",
              "4  correte  <start> run   run <end>"
            ],
            "text/html": [
              "\n",
              "  <div id=\"df-0ec985ff-3f10-4b20-9309-0fca4eea8b6b\">\n",
              "    <div class=\"colab-df-container\">\n",
              "      <div>\n",
              "<style scoped>\n",
              "    .dataframe tbody tr th:only-of-type {\n",
              "        vertical-align: middle;\n",
              "    }\n",
              "\n",
              "    .dataframe tbody tr th {\n",
              "        vertical-align: top;\n",
              "    }\n",
              "\n",
              "    .dataframe thead th {\n",
              "        text-align: right;\n",
              "    }\n",
              "</style>\n",
              "<table border=\"1\" class=\"dataframe\">\n",
              "  <thead>\n",
              "    <tr style=\"text-align: right;\">\n",
              "      <th></th>\n",
              "      <th>italian</th>\n",
              "      <th>english_inp</th>\n",
              "      <th>english_out</th>\n",
              "    </tr>\n",
              "  </thead>\n",
              "  <tbody>\n",
              "    <tr>\n",
              "      <th>0</th>\n",
              "      <td>ciao</td>\n",
              "      <td>&lt;start&gt; hi</td>\n",
              "      <td>hi &lt;end&gt;</td>\n",
              "    </tr>\n",
              "    <tr>\n",
              "      <th>1</th>\n",
              "      <td>ciao</td>\n",
              "      <td>&lt;start&gt; hi</td>\n",
              "      <td>hi &lt;end&gt;</td>\n",
              "    </tr>\n",
              "    <tr>\n",
              "      <th>2</th>\n",
              "      <td>corri</td>\n",
              "      <td>&lt;start&gt; run</td>\n",
              "      <td>run &lt;end&gt;</td>\n",
              "    </tr>\n",
              "    <tr>\n",
              "      <th>3</th>\n",
              "      <td>corra</td>\n",
              "      <td>&lt;start&gt; run</td>\n",
              "      <td>run &lt;end&gt;</td>\n",
              "    </tr>\n",
              "    <tr>\n",
              "      <th>4</th>\n",
              "      <td>correte</td>\n",
              "      <td>&lt;start&gt; run</td>\n",
              "      <td>run &lt;end&gt;</td>\n",
              "    </tr>\n",
              "  </tbody>\n",
              "</table>\n",
              "</div>\n",
              "      <button class=\"colab-df-convert\" onclick=\"convertToInteractive('df-0ec985ff-3f10-4b20-9309-0fca4eea8b6b')\"\n",
              "              title=\"Convert this dataframe to an interactive table.\"\n",
              "              style=\"display:none;\">\n",
              "        \n",
              "  <svg xmlns=\"http://www.w3.org/2000/svg\" height=\"24px\"viewBox=\"0 0 24 24\"\n",
              "       width=\"24px\">\n",
              "    <path d=\"M0 0h24v24H0V0z\" fill=\"none\"/>\n",
              "    <path d=\"M18.56 5.44l.94 2.06.94-2.06 2.06-.94-2.06-.94-.94-2.06-.94 2.06-2.06.94zm-11 1L8.5 8.5l.94-2.06 2.06-.94-2.06-.94L8.5 2.5l-.94 2.06-2.06.94zm10 10l.94 2.06.94-2.06 2.06-.94-2.06-.94-.94-2.06-.94 2.06-2.06.94z\"/><path d=\"M17.41 7.96l-1.37-1.37c-.4-.4-.92-.59-1.43-.59-.52 0-1.04.2-1.43.59L10.3 9.45l-7.72 7.72c-.78.78-.78 2.05 0 2.83L4 21.41c.39.39.9.59 1.41.59.51 0 1.02-.2 1.41-.59l7.78-7.78 2.81-2.81c.8-.78.8-2.07 0-2.86zM5.41 20L4 18.59l7.72-7.72 1.47 1.35L5.41 20z\"/>\n",
              "  </svg>\n",
              "      </button>\n",
              "      \n",
              "  <style>\n",
              "    .colab-df-container {\n",
              "      display:flex;\n",
              "      flex-wrap:wrap;\n",
              "      gap: 12px;\n",
              "    }\n",
              "\n",
              "    .colab-df-convert {\n",
              "      background-color: #E8F0FE;\n",
              "      border: none;\n",
              "      border-radius: 50%;\n",
              "      cursor: pointer;\n",
              "      display: none;\n",
              "      fill: #1967D2;\n",
              "      height: 32px;\n",
              "      padding: 0 0 0 0;\n",
              "      width: 32px;\n",
              "    }\n",
              "\n",
              "    .colab-df-convert:hover {\n",
              "      background-color: #E2EBFA;\n",
              "      box-shadow: 0px 1px 2px rgba(60, 64, 67, 0.3), 0px 1px 3px 1px rgba(60, 64, 67, 0.15);\n",
              "      fill: #174EA6;\n",
              "    }\n",
              "\n",
              "    [theme=dark] .colab-df-convert {\n",
              "      background-color: #3B4455;\n",
              "      fill: #D2E3FC;\n",
              "    }\n",
              "\n",
              "    [theme=dark] .colab-df-convert:hover {\n",
              "      background-color: #434B5C;\n",
              "      box-shadow: 0px 1px 3px 1px rgba(0, 0, 0, 0.15);\n",
              "      filter: drop-shadow(0px 1px 2px rgba(0, 0, 0, 0.3));\n",
              "      fill: #FFFFFF;\n",
              "    }\n",
              "  </style>\n",
              "\n",
              "      <script>\n",
              "        const buttonEl =\n",
              "          document.querySelector('#df-0ec985ff-3f10-4b20-9309-0fca4eea8b6b button.colab-df-convert');\n",
              "        buttonEl.style.display =\n",
              "          google.colab.kernel.accessAllowed ? 'block' : 'none';\n",
              "\n",
              "        async function convertToInteractive(key) {\n",
              "          const element = document.querySelector('#df-0ec985ff-3f10-4b20-9309-0fca4eea8b6b');\n",
              "          const dataTable =\n",
              "            await google.colab.kernel.invokeFunction('convertToInteractive',\n",
              "                                                     [key], {});\n",
              "          if (!dataTable) return;\n",
              "\n",
              "          const docLinkHtml = 'Like what you see? Visit the ' +\n",
              "            '<a target=\"_blank\" href=https://colab.research.google.com/notebooks/data_table.ipynb>data table notebook</a>'\n",
              "            + ' to learn more about interactive tables.';\n",
              "          element.innerHTML = '';\n",
              "          dataTable['output_type'] = 'display_data';\n",
              "          await google.colab.output.renderOutput(dataTable, element);\n",
              "          const docLink = document.createElement('div');\n",
              "          docLink.innerHTML = docLinkHtml;\n",
              "          element.appendChild(docLink);\n",
              "        }\n",
              "      </script>\n",
              "    </div>\n",
              "  </div>\n",
              "  "
            ]
          },
          "metadata": {},
          "execution_count": 9
        }
      ]
    },
    {
      "cell_type": "code",
      "metadata": {
        "id": "xZX5xAcmxqPo",
        "colab": {
          "base_uri": "https://localhost:8080/",
          "height": 363
        },
        "outputId": "6ee907d8-54bb-41ae-82d4-b9ff8316876e"
      },
      "source": [
        "data.sample(10)"
      ],
      "execution_count": null,
      "outputs": [
        {
          "output_type": "execute_result",
          "data": {
            "text/plain": [
              "                                                  italian  \\\n",
              "306085   non cè nessuna possibilità che lui si riprenderà   \n",
              "279836                          cercai il libro per unora   \n",
              "13943                                      io sono devota   \n",
              "127274                                    tom è vivo vero   \n",
              "245448           pensavo che noi fossimo le benvenute qui   \n",
              "353318  in questo corso passeremo del tempo aiutandola...   \n",
              "228681                         siete mai stati in america   \n",
              "338075  tom non lo sapeva che mary si stava vedendo co...   \n",
              "235757             tom ha consigliato a mary di non farla   \n",
              "273349                      tom non vuole lasciare boston   \n",
              "\n",
              "                                              english_inp  \\\n",
              "306085    <start> there is no chance that he will recover   \n",
              "279836          <start> i looked for the book for an hour   \n",
              "13943                              <start> i am committed   \n",
              "127274                     <start> tom is alive is not he   \n",
              "245448             <start> i thought we were welcome here   \n",
              "353318  <start> in this course we will spend time help...   \n",
              "228681              <start> have you ever been to america   \n",
              "338075  <start> tom did not know mary was seeing someo...   \n",
              "235757              <start> tom advised mary not to do it   \n",
              "273349          <start> tom does not want to leave boston   \n",
              "\n",
              "                                              english_out  \n",
              "306085      there is no chance that he will recover <end>  \n",
              "279836            i looked for the book for an hour <end>  \n",
              "13943                                i am committed <end>  \n",
              "127274                       tom is alive is not he <end>  \n",
              "245448               i thought we were welcome here <end>  \n",
              "353318  in this course we will spend time helping you ...  \n",
              "228681                have you ever been to america <end>  \n",
              "338075  tom did not know mary was seeing someone else ...  \n",
              "235757                tom advised mary not to do it <end>  \n",
              "273349            tom does not want to leave boston <end>  "
            ],
            "text/html": [
              "\n",
              "  <div id=\"df-8cf8f467-ef4a-4cd4-8f2d-622625f0a506\">\n",
              "    <div class=\"colab-df-container\">\n",
              "      <div>\n",
              "<style scoped>\n",
              "    .dataframe tbody tr th:only-of-type {\n",
              "        vertical-align: middle;\n",
              "    }\n",
              "\n",
              "    .dataframe tbody tr th {\n",
              "        vertical-align: top;\n",
              "    }\n",
              "\n",
              "    .dataframe thead th {\n",
              "        text-align: right;\n",
              "    }\n",
              "</style>\n",
              "<table border=\"1\" class=\"dataframe\">\n",
              "  <thead>\n",
              "    <tr style=\"text-align: right;\">\n",
              "      <th></th>\n",
              "      <th>italian</th>\n",
              "      <th>english_inp</th>\n",
              "      <th>english_out</th>\n",
              "    </tr>\n",
              "  </thead>\n",
              "  <tbody>\n",
              "    <tr>\n",
              "      <th>306085</th>\n",
              "      <td>non cè nessuna possibilità che lui si riprenderà</td>\n",
              "      <td>&lt;start&gt; there is no chance that he will recover</td>\n",
              "      <td>there is no chance that he will recover &lt;end&gt;</td>\n",
              "    </tr>\n",
              "    <tr>\n",
              "      <th>279836</th>\n",
              "      <td>cercai il libro per unora</td>\n",
              "      <td>&lt;start&gt; i looked for the book for an hour</td>\n",
              "      <td>i looked for the book for an hour &lt;end&gt;</td>\n",
              "    </tr>\n",
              "    <tr>\n",
              "      <th>13943</th>\n",
              "      <td>io sono devota</td>\n",
              "      <td>&lt;start&gt; i am committed</td>\n",
              "      <td>i am committed &lt;end&gt;</td>\n",
              "    </tr>\n",
              "    <tr>\n",
              "      <th>127274</th>\n",
              "      <td>tom è vivo vero</td>\n",
              "      <td>&lt;start&gt; tom is alive is not he</td>\n",
              "      <td>tom is alive is not he &lt;end&gt;</td>\n",
              "    </tr>\n",
              "    <tr>\n",
              "      <th>245448</th>\n",
              "      <td>pensavo che noi fossimo le benvenute qui</td>\n",
              "      <td>&lt;start&gt; i thought we were welcome here</td>\n",
              "      <td>i thought we were welcome here &lt;end&gt;</td>\n",
              "    </tr>\n",
              "    <tr>\n",
              "      <th>353318</th>\n",
              "      <td>in questo corso passeremo del tempo aiutandola...</td>\n",
              "      <td>&lt;start&gt; in this course we will spend time help...</td>\n",
              "      <td>in this course we will spend time helping you ...</td>\n",
              "    </tr>\n",
              "    <tr>\n",
              "      <th>228681</th>\n",
              "      <td>siete mai stati in america</td>\n",
              "      <td>&lt;start&gt; have you ever been to america</td>\n",
              "      <td>have you ever been to america &lt;end&gt;</td>\n",
              "    </tr>\n",
              "    <tr>\n",
              "      <th>338075</th>\n",
              "      <td>tom non lo sapeva che mary si stava vedendo co...</td>\n",
              "      <td>&lt;start&gt; tom did not know mary was seeing someo...</td>\n",
              "      <td>tom did not know mary was seeing someone else ...</td>\n",
              "    </tr>\n",
              "    <tr>\n",
              "      <th>235757</th>\n",
              "      <td>tom ha consigliato a mary di non farla</td>\n",
              "      <td>&lt;start&gt; tom advised mary not to do it</td>\n",
              "      <td>tom advised mary not to do it &lt;end&gt;</td>\n",
              "    </tr>\n",
              "    <tr>\n",
              "      <th>273349</th>\n",
              "      <td>tom non vuole lasciare boston</td>\n",
              "      <td>&lt;start&gt; tom does not want to leave boston</td>\n",
              "      <td>tom does not want to leave boston &lt;end&gt;</td>\n",
              "    </tr>\n",
              "  </tbody>\n",
              "</table>\n",
              "</div>\n",
              "      <button class=\"colab-df-convert\" onclick=\"convertToInteractive('df-8cf8f467-ef4a-4cd4-8f2d-622625f0a506')\"\n",
              "              title=\"Convert this dataframe to an interactive table.\"\n",
              "              style=\"display:none;\">\n",
              "        \n",
              "  <svg xmlns=\"http://www.w3.org/2000/svg\" height=\"24px\"viewBox=\"0 0 24 24\"\n",
              "       width=\"24px\">\n",
              "    <path d=\"M0 0h24v24H0V0z\" fill=\"none\"/>\n",
              "    <path d=\"M18.56 5.44l.94 2.06.94-2.06 2.06-.94-2.06-.94-.94-2.06-.94 2.06-2.06.94zm-11 1L8.5 8.5l.94-2.06 2.06-.94-2.06-.94L8.5 2.5l-.94 2.06-2.06.94zm10 10l.94 2.06.94-2.06 2.06-.94-2.06-.94-.94-2.06-.94 2.06-2.06.94z\"/><path d=\"M17.41 7.96l-1.37-1.37c-.4-.4-.92-.59-1.43-.59-.52 0-1.04.2-1.43.59L10.3 9.45l-7.72 7.72c-.78.78-.78 2.05 0 2.83L4 21.41c.39.39.9.59 1.41.59.51 0 1.02-.2 1.41-.59l7.78-7.78 2.81-2.81c.8-.78.8-2.07 0-2.86zM5.41 20L4 18.59l7.72-7.72 1.47 1.35L5.41 20z\"/>\n",
              "  </svg>\n",
              "      </button>\n",
              "      \n",
              "  <style>\n",
              "    .colab-df-container {\n",
              "      display:flex;\n",
              "      flex-wrap:wrap;\n",
              "      gap: 12px;\n",
              "    }\n",
              "\n",
              "    .colab-df-convert {\n",
              "      background-color: #E8F0FE;\n",
              "      border: none;\n",
              "      border-radius: 50%;\n",
              "      cursor: pointer;\n",
              "      display: none;\n",
              "      fill: #1967D2;\n",
              "      height: 32px;\n",
              "      padding: 0 0 0 0;\n",
              "      width: 32px;\n",
              "    }\n",
              "\n",
              "    .colab-df-convert:hover {\n",
              "      background-color: #E2EBFA;\n",
              "      box-shadow: 0px 1px 2px rgba(60, 64, 67, 0.3), 0px 1px 3px 1px rgba(60, 64, 67, 0.15);\n",
              "      fill: #174EA6;\n",
              "    }\n",
              "\n",
              "    [theme=dark] .colab-df-convert {\n",
              "      background-color: #3B4455;\n",
              "      fill: #D2E3FC;\n",
              "    }\n",
              "\n",
              "    [theme=dark] .colab-df-convert:hover {\n",
              "      background-color: #434B5C;\n",
              "      box-shadow: 0px 1px 3px 1px rgba(0, 0, 0, 0.15);\n",
              "      filter: drop-shadow(0px 1px 2px rgba(0, 0, 0, 0.3));\n",
              "      fill: #FFFFFF;\n",
              "    }\n",
              "  </style>\n",
              "\n",
              "      <script>\n",
              "        const buttonEl =\n",
              "          document.querySelector('#df-8cf8f467-ef4a-4cd4-8f2d-622625f0a506 button.colab-df-convert');\n",
              "        buttonEl.style.display =\n",
              "          google.colab.kernel.accessAllowed ? 'block' : 'none';\n",
              "\n",
              "        async function convertToInteractive(key) {\n",
              "          const element = document.querySelector('#df-8cf8f467-ef4a-4cd4-8f2d-622625f0a506');\n",
              "          const dataTable =\n",
              "            await google.colab.kernel.invokeFunction('convertToInteractive',\n",
              "                                                     [key], {});\n",
              "          if (!dataTable) return;\n",
              "\n",
              "          const docLinkHtml = 'Like what you see? Visit the ' +\n",
              "            '<a target=\"_blank\" href=https://colab.research.google.com/notebooks/data_table.ipynb>data table notebook</a>'\n",
              "            + ' to learn more about interactive tables.';\n",
              "          element.innerHTML = '';\n",
              "          dataTable['output_type'] = 'display_data';\n",
              "          await google.colab.output.renderOutput(dataTable, element);\n",
              "          const docLink = document.createElement('div');\n",
              "          docLink.innerHTML = docLinkHtml;\n",
              "          element.appendChild(docLink);\n",
              "        }\n",
              "      </script>\n",
              "    </div>\n",
              "  </div>\n",
              "  "
            ]
          },
          "metadata": {},
          "execution_count": 10
        }
      ]
    },
    {
      "cell_type": "markdown",
      "source": [
        "### Getting train and test \n"
      ],
      "metadata": {
        "id": "YDKhHB7Ex_uu"
      }
    },
    {
      "cell_type": "code",
      "metadata": {
        "id": "UG50P52vhMu8"
      },
      "source": [
        "from sklearn.model_selection import train_test_split\n",
        "train, validation = train_test_split(data, test_size=0.2 , random_state = 1)"
      ],
      "execution_count": null,
      "outputs": []
    },
    {
      "cell_type": "code",
      "source": [
        "print(train.shape, validation.shape)\n",
        "# for one sentence we will be adding <end> token so that the tokanizer learns the word <end>\n",
        "# with this we can use only one tokenizer for both encoder output and decoder output\n",
        "train.iloc[0]['english_inp']= str(train.iloc[0]['english_inp'])+' <end>'\n",
        "train.iloc[0]['english_out']= str(train.iloc[0]['english_out'])+' <end>'"
      ],
      "metadata": {
        "colab": {
          "base_uri": "https://localhost:8080/"
        },
        "id": "tzKdeCl8DigJ",
        "outputId": "c187a4c5-3db5-4124-f662-c766745165c4"
      },
      "execution_count": null,
      "outputs": [
        {
          "output_type": "stream",
          "name": "stdout",
          "text": [
            "(283068, 3) (70767, 3)\n"
          ]
        }
      ]
    },
    {
      "cell_type": "code",
      "metadata": {
        "id": "Su69ZPzTsxmn",
        "colab": {
          "base_uri": "https://localhost:8080/",
          "height": 206
        },
        "outputId": "1734afdb-839a-4407-8692-9f1930da8e95"
      },
      "source": [
        "train.head()"
      ],
      "execution_count": null,
      "outputs": [
        {
          "output_type": "execute_result",
          "data": {
            "text/plain": [
              "                                   italian  \\\n",
              "122627    ci vedremo la settimana prossima   \n",
              "130538        chi le ha dato questo elenco   \n",
              "161415  dobbiamo andarcene da questo posto   \n",
              "207536       tom sta guardando un film ora   \n",
              "102547              non si scordi la borsa   \n",
              "\n",
              "                                   english_inp  \\\n",
              "122627  <start> i will see you next week <end>   \n",
              "130538          <start> who gave you this list   \n",
              "161415        <start> we must leave this place   \n",
              "207536     <start> tom is watching a movie now   \n",
              "102547          <start> do not forget your bag   \n",
              "\n",
              "                                 english_out  \n",
              "122627  i will see you next week <end> <end>  \n",
              "130538          who gave you this list <end>  \n",
              "161415        we must leave this place <end>  \n",
              "207536     tom is watching a movie now <end>  \n",
              "102547          do not forget your bag <end>  "
            ],
            "text/html": [
              "\n",
              "  <div id=\"df-1e18c177-c4ef-4903-a628-b71586a5a265\">\n",
              "    <div class=\"colab-df-container\">\n",
              "      <div>\n",
              "<style scoped>\n",
              "    .dataframe tbody tr th:only-of-type {\n",
              "        vertical-align: middle;\n",
              "    }\n",
              "\n",
              "    .dataframe tbody tr th {\n",
              "        vertical-align: top;\n",
              "    }\n",
              "\n",
              "    .dataframe thead th {\n",
              "        text-align: right;\n",
              "    }\n",
              "</style>\n",
              "<table border=\"1\" class=\"dataframe\">\n",
              "  <thead>\n",
              "    <tr style=\"text-align: right;\">\n",
              "      <th></th>\n",
              "      <th>italian</th>\n",
              "      <th>english_inp</th>\n",
              "      <th>english_out</th>\n",
              "    </tr>\n",
              "  </thead>\n",
              "  <tbody>\n",
              "    <tr>\n",
              "      <th>122627</th>\n",
              "      <td>ci vedremo la settimana prossima</td>\n",
              "      <td>&lt;start&gt; i will see you next week &lt;end&gt;</td>\n",
              "      <td>i will see you next week &lt;end&gt; &lt;end&gt;</td>\n",
              "    </tr>\n",
              "    <tr>\n",
              "      <th>130538</th>\n",
              "      <td>chi le ha dato questo elenco</td>\n",
              "      <td>&lt;start&gt; who gave you this list</td>\n",
              "      <td>who gave you this list &lt;end&gt;</td>\n",
              "    </tr>\n",
              "    <tr>\n",
              "      <th>161415</th>\n",
              "      <td>dobbiamo andarcene da questo posto</td>\n",
              "      <td>&lt;start&gt; we must leave this place</td>\n",
              "      <td>we must leave this place &lt;end&gt;</td>\n",
              "    </tr>\n",
              "    <tr>\n",
              "      <th>207536</th>\n",
              "      <td>tom sta guardando un film ora</td>\n",
              "      <td>&lt;start&gt; tom is watching a movie now</td>\n",
              "      <td>tom is watching a movie now &lt;end&gt;</td>\n",
              "    </tr>\n",
              "    <tr>\n",
              "      <th>102547</th>\n",
              "      <td>non si scordi la borsa</td>\n",
              "      <td>&lt;start&gt; do not forget your bag</td>\n",
              "      <td>do not forget your bag &lt;end&gt;</td>\n",
              "    </tr>\n",
              "  </tbody>\n",
              "</table>\n",
              "</div>\n",
              "      <button class=\"colab-df-convert\" onclick=\"convertToInteractive('df-1e18c177-c4ef-4903-a628-b71586a5a265')\"\n",
              "              title=\"Convert this dataframe to an interactive table.\"\n",
              "              style=\"display:none;\">\n",
              "        \n",
              "  <svg xmlns=\"http://www.w3.org/2000/svg\" height=\"24px\"viewBox=\"0 0 24 24\"\n",
              "       width=\"24px\">\n",
              "    <path d=\"M0 0h24v24H0V0z\" fill=\"none\"/>\n",
              "    <path d=\"M18.56 5.44l.94 2.06.94-2.06 2.06-.94-2.06-.94-.94-2.06-.94 2.06-2.06.94zm-11 1L8.5 8.5l.94-2.06 2.06-.94-2.06-.94L8.5 2.5l-.94 2.06-2.06.94zm10 10l.94 2.06.94-2.06 2.06-.94-2.06-.94-.94-2.06-.94 2.06-2.06.94z\"/><path d=\"M17.41 7.96l-1.37-1.37c-.4-.4-.92-.59-1.43-.59-.52 0-1.04.2-1.43.59L10.3 9.45l-7.72 7.72c-.78.78-.78 2.05 0 2.83L4 21.41c.39.39.9.59 1.41.59.51 0 1.02-.2 1.41-.59l7.78-7.78 2.81-2.81c.8-.78.8-2.07 0-2.86zM5.41 20L4 18.59l7.72-7.72 1.47 1.35L5.41 20z\"/>\n",
              "  </svg>\n",
              "      </button>\n",
              "      \n",
              "  <style>\n",
              "    .colab-df-container {\n",
              "      display:flex;\n",
              "      flex-wrap:wrap;\n",
              "      gap: 12px;\n",
              "    }\n",
              "\n",
              "    .colab-df-convert {\n",
              "      background-color: #E8F0FE;\n",
              "      border: none;\n",
              "      border-radius: 50%;\n",
              "      cursor: pointer;\n",
              "      display: none;\n",
              "      fill: #1967D2;\n",
              "      height: 32px;\n",
              "      padding: 0 0 0 0;\n",
              "      width: 32px;\n",
              "    }\n",
              "\n",
              "    .colab-df-convert:hover {\n",
              "      background-color: #E2EBFA;\n",
              "      box-shadow: 0px 1px 2px rgba(60, 64, 67, 0.3), 0px 1px 3px 1px rgba(60, 64, 67, 0.15);\n",
              "      fill: #174EA6;\n",
              "    }\n",
              "\n",
              "    [theme=dark] .colab-df-convert {\n",
              "      background-color: #3B4455;\n",
              "      fill: #D2E3FC;\n",
              "    }\n",
              "\n",
              "    [theme=dark] .colab-df-convert:hover {\n",
              "      background-color: #434B5C;\n",
              "      box-shadow: 0px 1px 3px 1px rgba(0, 0, 0, 0.15);\n",
              "      filter: drop-shadow(0px 1px 2px rgba(0, 0, 0, 0.3));\n",
              "      fill: #FFFFFF;\n",
              "    }\n",
              "  </style>\n",
              "\n",
              "      <script>\n",
              "        const buttonEl =\n",
              "          document.querySelector('#df-1e18c177-c4ef-4903-a628-b71586a5a265 button.colab-df-convert');\n",
              "        buttonEl.style.display =\n",
              "          google.colab.kernel.accessAllowed ? 'block' : 'none';\n",
              "\n",
              "        async function convertToInteractive(key) {\n",
              "          const element = document.querySelector('#df-1e18c177-c4ef-4903-a628-b71586a5a265');\n",
              "          const dataTable =\n",
              "            await google.colab.kernel.invokeFunction('convertToInteractive',\n",
              "                                                     [key], {});\n",
              "          if (!dataTable) return;\n",
              "\n",
              "          const docLinkHtml = 'Like what you see? Visit the ' +\n",
              "            '<a target=\"_blank\" href=https://colab.research.google.com/notebooks/data_table.ipynb>data table notebook</a>'\n",
              "            + ' to learn more about interactive tables.';\n",
              "          element.innerHTML = '';\n",
              "          dataTable['output_type'] = 'display_data';\n",
              "          await google.colab.output.renderOutput(dataTable, element);\n",
              "          const docLink = document.createElement('div');\n",
              "          docLink.innerHTML = docLinkHtml;\n",
              "          element.appendChild(docLink);\n",
              "        }\n",
              "      </script>\n",
              "    </div>\n",
              "  </div>\n",
              "  "
            ]
          },
          "metadata": {},
          "execution_count": 13
        }
      ]
    },
    {
      "cell_type": "code",
      "metadata": {
        "id": "CGqQDR8FWV3D",
        "colab": {
          "base_uri": "https://localhost:8080/",
          "height": 206
        },
        "outputId": "35d42e82-66d6-4fd0-8363-3a079edb5d6f"
      },
      "source": [
        "validation.head()"
      ],
      "execution_count": null,
      "outputs": [
        {
          "output_type": "execute_result",
          "data": {
            "text/plain": [
              "                                          italian  \\\n",
              "144180      tom rimase a casa per tutto il giorno   \n",
              "120500                    io dovevo dire qualcosa   \n",
              "137797                       voglio sbarazzarmene   \n",
              "78480                         oggi cè molto caldo   \n",
              "320129  disse al suo assistente che avrebbe vinto   \n",
              "\n",
              "                                            english_inp  \\\n",
              "144180                  <start> tom stayed home all day   \n",
              "120500                   <start> i had to say something   \n",
              "137797                  <start> i want to get rid of it   \n",
              "78480                      <start> it is very hot today   \n",
              "320129  <start> he told his assistant that he would win   \n",
              "\n",
              "                                          english_out  \n",
              "144180                  tom stayed home all day <end>  \n",
              "120500                   i had to say something <end>  \n",
              "137797                  i want to get rid of it <end>  \n",
              "78480                      it is very hot today <end>  \n",
              "320129  he told his assistant that he would win <end>  "
            ],
            "text/html": [
              "\n",
              "  <div id=\"df-f1e86175-9a92-4d32-b5f1-1506a8069d76\">\n",
              "    <div class=\"colab-df-container\">\n",
              "      <div>\n",
              "<style scoped>\n",
              "    .dataframe tbody tr th:only-of-type {\n",
              "        vertical-align: middle;\n",
              "    }\n",
              "\n",
              "    .dataframe tbody tr th {\n",
              "        vertical-align: top;\n",
              "    }\n",
              "\n",
              "    .dataframe thead th {\n",
              "        text-align: right;\n",
              "    }\n",
              "</style>\n",
              "<table border=\"1\" class=\"dataframe\">\n",
              "  <thead>\n",
              "    <tr style=\"text-align: right;\">\n",
              "      <th></th>\n",
              "      <th>italian</th>\n",
              "      <th>english_inp</th>\n",
              "      <th>english_out</th>\n",
              "    </tr>\n",
              "  </thead>\n",
              "  <tbody>\n",
              "    <tr>\n",
              "      <th>144180</th>\n",
              "      <td>tom rimase a casa per tutto il giorno</td>\n",
              "      <td>&lt;start&gt; tom stayed home all day</td>\n",
              "      <td>tom stayed home all day &lt;end&gt;</td>\n",
              "    </tr>\n",
              "    <tr>\n",
              "      <th>120500</th>\n",
              "      <td>io dovevo dire qualcosa</td>\n",
              "      <td>&lt;start&gt; i had to say something</td>\n",
              "      <td>i had to say something &lt;end&gt;</td>\n",
              "    </tr>\n",
              "    <tr>\n",
              "      <th>137797</th>\n",
              "      <td>voglio sbarazzarmene</td>\n",
              "      <td>&lt;start&gt; i want to get rid of it</td>\n",
              "      <td>i want to get rid of it &lt;end&gt;</td>\n",
              "    </tr>\n",
              "    <tr>\n",
              "      <th>78480</th>\n",
              "      <td>oggi cè molto caldo</td>\n",
              "      <td>&lt;start&gt; it is very hot today</td>\n",
              "      <td>it is very hot today &lt;end&gt;</td>\n",
              "    </tr>\n",
              "    <tr>\n",
              "      <th>320129</th>\n",
              "      <td>disse al suo assistente che avrebbe vinto</td>\n",
              "      <td>&lt;start&gt; he told his assistant that he would win</td>\n",
              "      <td>he told his assistant that he would win &lt;end&gt;</td>\n",
              "    </tr>\n",
              "  </tbody>\n",
              "</table>\n",
              "</div>\n",
              "      <button class=\"colab-df-convert\" onclick=\"convertToInteractive('df-f1e86175-9a92-4d32-b5f1-1506a8069d76')\"\n",
              "              title=\"Convert this dataframe to an interactive table.\"\n",
              "              style=\"display:none;\">\n",
              "        \n",
              "  <svg xmlns=\"http://www.w3.org/2000/svg\" height=\"24px\"viewBox=\"0 0 24 24\"\n",
              "       width=\"24px\">\n",
              "    <path d=\"M0 0h24v24H0V0z\" fill=\"none\"/>\n",
              "    <path d=\"M18.56 5.44l.94 2.06.94-2.06 2.06-.94-2.06-.94-.94-2.06-.94 2.06-2.06.94zm-11 1L8.5 8.5l.94-2.06 2.06-.94-2.06-.94L8.5 2.5l-.94 2.06-2.06.94zm10 10l.94 2.06.94-2.06 2.06-.94-2.06-.94-.94-2.06-.94 2.06-2.06.94z\"/><path d=\"M17.41 7.96l-1.37-1.37c-.4-.4-.92-.59-1.43-.59-.52 0-1.04.2-1.43.59L10.3 9.45l-7.72 7.72c-.78.78-.78 2.05 0 2.83L4 21.41c.39.39.9.59 1.41.59.51 0 1.02-.2 1.41-.59l7.78-7.78 2.81-2.81c.8-.78.8-2.07 0-2.86zM5.41 20L4 18.59l7.72-7.72 1.47 1.35L5.41 20z\"/>\n",
              "  </svg>\n",
              "      </button>\n",
              "      \n",
              "  <style>\n",
              "    .colab-df-container {\n",
              "      display:flex;\n",
              "      flex-wrap:wrap;\n",
              "      gap: 12px;\n",
              "    }\n",
              "\n",
              "    .colab-df-convert {\n",
              "      background-color: #E8F0FE;\n",
              "      border: none;\n",
              "      border-radius: 50%;\n",
              "      cursor: pointer;\n",
              "      display: none;\n",
              "      fill: #1967D2;\n",
              "      height: 32px;\n",
              "      padding: 0 0 0 0;\n",
              "      width: 32px;\n",
              "    }\n",
              "\n",
              "    .colab-df-convert:hover {\n",
              "      background-color: #E2EBFA;\n",
              "      box-shadow: 0px 1px 2px rgba(60, 64, 67, 0.3), 0px 1px 3px 1px rgba(60, 64, 67, 0.15);\n",
              "      fill: #174EA6;\n",
              "    }\n",
              "\n",
              "    [theme=dark] .colab-df-convert {\n",
              "      background-color: #3B4455;\n",
              "      fill: #D2E3FC;\n",
              "    }\n",
              "\n",
              "    [theme=dark] .colab-df-convert:hover {\n",
              "      background-color: #434B5C;\n",
              "      box-shadow: 0px 1px 3px 1px rgba(0, 0, 0, 0.15);\n",
              "      filter: drop-shadow(0px 1px 2px rgba(0, 0, 0, 0.3));\n",
              "      fill: #FFFFFF;\n",
              "    }\n",
              "  </style>\n",
              "\n",
              "      <script>\n",
              "        const buttonEl =\n",
              "          document.querySelector('#df-f1e86175-9a92-4d32-b5f1-1506a8069d76 button.colab-df-convert');\n",
              "        buttonEl.style.display =\n",
              "          google.colab.kernel.accessAllowed ? 'block' : 'none';\n",
              "\n",
              "        async function convertToInteractive(key) {\n",
              "          const element = document.querySelector('#df-f1e86175-9a92-4d32-b5f1-1506a8069d76');\n",
              "          const dataTable =\n",
              "            await google.colab.kernel.invokeFunction('convertToInteractive',\n",
              "                                                     [key], {});\n",
              "          if (!dataTable) return;\n",
              "\n",
              "          const docLinkHtml = 'Like what you see? Visit the ' +\n",
              "            '<a target=\"_blank\" href=https://colab.research.google.com/notebooks/data_table.ipynb>data table notebook</a>'\n",
              "            + ' to learn more about interactive tables.';\n",
              "          element.innerHTML = '';\n",
              "          dataTable['output_type'] = 'display_data';\n",
              "          await google.colab.output.renderOutput(dataTable, element);\n",
              "          const docLink = document.createElement('div');\n",
              "          docLink.innerHTML = docLinkHtml;\n",
              "          element.appendChild(docLink);\n",
              "        }\n",
              "      </script>\n",
              "    </div>\n",
              "  </div>\n",
              "  "
            ]
          },
          "metadata": {},
          "execution_count": 14
        }
      ]
    },
    {
      "cell_type": "code",
      "metadata": {
        "id": "cpuPONunjYKj",
        "colab": {
          "base_uri": "https://localhost:8080/",
          "height": 546
        },
        "outputId": "75a1d288-2005-4784-89e3-5828575f4ee0"
      },
      "source": [
        "ita_lengths = train['italian'].str.split().apply(len)\n",
        "eng_lengths = train['english_inp'].str.split().apply(len)\n",
        "import seaborn as sns\n",
        "sns.kdeplot(ita_lengths)\n",
        "plt.show()\n",
        "sns.kdeplot(eng_lengths)\n",
        "plt.show()"
      ],
      "execution_count": null,
      "outputs": [
        {
          "output_type": "display_data",
          "data": {
            "text/plain": [
              "<Figure size 432x288 with 1 Axes>"
            ],
            "image/png": "[encoded data removed]"
          },
          "metadata": {
            "needs_background": "light"
          }
        },
        {
          "output_type": "display_data",
          "data": {
            "text/plain": [
              "<Figure size 432x288 with 1 Axes>"
            ],
            "image/png": "[encoded data removed]"
          },
          "metadata": {
            "needs_background": "light"
          }
        }
      ]
    },
    {
      "cell_type": "markdown",
      "metadata": {
        "id": "msOiI69-REOi"
      },
      "source": [
        "### Creating Tokenizer on the train data and learning vocabulary"
      ]
    },
    {
      "cell_type": "markdown",
      "metadata": {
        "id": "T7xUCLf6REOi"
      },
      "source": [
        "> Note that we are fitting the tokenizer only on train data and check the filters for english, we need to remove symbols &lt; and &gt;"
      ]
    },
    {
      "cell_type": "code",
      "metadata": {
        "id": "GPa0ldDWkav8"
      },
      "source": [
        "tknizer_ita = Tokenizer()\n",
        "tknizer_ita.fit_on_texts(train['italian'].values)\n",
        "tknizer_eng = Tokenizer(filters='!\"#$%&()*+,-./:;=?@[\\\\]^_`{|}~\\t\\n')\n",
        "tknizer_eng.fit_on_texts(train['english_inp'].values)"
      ],
      "execution_count": null,
      "outputs": []
    },
    {
      "cell_type": "code",
      "metadata": {
        "id": "hBb0yEYlCynz",
        "colab": {
          "base_uri": "https://localhost:8080/"
        },
        "outputId": "fc08a40d-ee54-4f3a-910e-6bf3f2ab4723"
      },
      "source": [
        "vocab_size_eng=len(tknizer_eng.word_index.keys())\n",
        "print(vocab_size_eng)\n",
        "vocab_size_ita=len(tknizer_ita.word_index.keys())\n",
        "print(vocab_size_ita)"
      ],
      "execution_count": null,
      "outputs": [
        {
          "output_type": "stream",
          "name": "stdout",
          "text": [
            "13086\n",
            "26775\n"
          ]
        }
      ]
    },
    {
      "cell_type": "code",
      "metadata": {
        "id": "nm1uoAC-Nwuk",
        "colab": {
          "base_uri": "https://localhost:8080/"
        },
        "outputId": "567a4ba0-73a0-416f-cd8f-19ddaec2e478"
      },
      "source": [
        "tknizer_eng.word_index['<start>'], tknizer_eng.word_index['<end>']"
      ],
      "execution_count": null,
      "outputs": [
        {
          "output_type": "execute_result",
          "data": {
            "text/plain": [
              "(1, 10327)"
            ]
          },
          "metadata": {},
          "execution_count": 18
        }
      ]
    },
    {
      "cell_type": "code",
      "source": [
        "tknizer_eng.index_word[2]\n",
        "# tknizer_eng.index_word[0]                         # key error"
      ],
      "metadata": {
        "colab": {
          "base_uri": "https://localhost:8080/",
          "height": 35
        },
        "id": "xmLJIYezzIf2",
        "outputId": "dd19a5db-87b6-43a8-8c69-734a37c34b9c"
      },
      "execution_count": null,
      "outputs": [
        {
          "output_type": "execute_result",
          "data": {
            "text/plain": [
              "'i'"
            ],
            "application/vnd.google.colaboratory.intrinsic+json": {
              "type": "string"
            }
          },
          "metadata": {},
          "execution_count": 19
        }
      ]
    },
    {
      "cell_type": "markdown",
      "metadata": {
        "id": "xT2R3D6MREOp"
      },
      "source": [
        "### Creating embeddings for english sentences"
      ]
    },
    {
      "cell_type": "code",
      "source": [
        "!wget https://www.dropbox.com/s/ddkmtqz01jc024u/glove.6B.100d.txt\n"
      ],
      "metadata": {
        "id": "mixHkLFBywaB",
        "colab": {
          "base_uri": "https://localhost:8080/"
        },
        "outputId": "b9705a52-ea9d-4eb6-d4e2-26edaf6989f0"
      },
      "execution_count": null,
      "outputs": [
        {
          "output_type": "stream",
          "name": "stdout",
          "text": [
            "--2022-08-27 14:15:25--  https://www.dropbox.com/s/ddkmtqz01jc024u/glove.6B.100d.txt\n",
            "Resolving www.dropbox.com (www.dropbox.com)... 162.125.3.18, 2620:100:6018:18::a27d:312\n",
            "Connecting to www.dropbox.com (www.dropbox.com)|162.125.3.18|:443... connected.\n",
            "HTTP request sent, awaiting response... 301 Moved Permanently\n",
            "Location: /s/raw/ddkmtqz01jc024u/glove.6B.100d.txt [following]\n",
            "--2022-08-27 14:15:25--  https://www.dropbox.com/s/raw/ddkmtqz01jc024u/glove.6B.100d.txt\n",
            "Reusing existing connection to www.dropbox.com:443.\n",
            "HTTP request sent, awaiting response... 302 Found\n",
            "Location: https://ucfd3a094e8b680a2539779619f3.dl.dropboxusercontent.com/cd/0/inline/Bry8dzxtqE4BdgZVJgE1BEFsw0k03WJraVArucdQ57mOt6rrHZHuABIfIGp0EvHh8hZXAxzL_6iyLW66yDgFLW_zzFHZWO2CMqwQKC5YCWDPirpCOpOsH98YlwP3_ATO83EQZhGyhEmcGiAxic6CimJ4gcCCYDOb63qxDNmpzjcENg/file# [following]\n",
            "--2022-08-27 14:15:25--  https://ucfd3a094e8b680a2539779619f3.dl.dropboxusercontent.com/cd/0/inline/Bry8dzxtqE4BdgZVJgE1BEFsw0k03WJraVArucdQ57mOt6rrHZHuABIfIGp0EvHh8hZXAxzL_6iyLW66yDgFLW_zzFHZWO2CMqwQKC5YCWDPirpCOpOsH98YlwP3_ATO83EQZhGyhEmcGiAxic6CimJ4gcCCYDOb63qxDNmpzjcENg/file\n",
            "Resolving ucfd3a094e8b680a2539779619f3.dl.dropboxusercontent.com (ucfd3a094e8b680a2539779619f3.dl.dropboxusercontent.com)... 162.125.3.15, 2620:100:6019:15::a27d:40f\n",
            "Connecting to ucfd3a094e8b680a2539779619f3.dl.dropboxusercontent.com (ucfd3a094e8b680a2539779619f3.dl.dropboxusercontent.com)|162.125.3.15|:443... connected.\n",
            "HTTP request sent, awaiting response... 200 OK\n",
            "Length: 347116733 (331M) [text/plain]\n",
            "Saving to: ‘glove.6B.100d.txt’\n",
            "\n",
            "glove.6B.100d.txt   100%[===================>] 331.04M   117MB/s    in 2.8s    \n",
            "\n",
            "2022-08-27 14:15:28 (117 MB/s) - ‘glove.6B.100d.txt’ saved [347116733/347116733]\n",
            "\n"
          ]
        }
      ]
    },
    {
      "cell_type": "code",
      "metadata": {
        "id": "olaKF9rb_zz1"
      },
      "source": [
        "embeddings_index = dict()\n",
        "f = open('glove.6B.100d.txt')\n",
        "for line in f:\n",
        "    values = line.split()\n",
        "    word = values[0]\n",
        "    coefs = np.asarray(values[1:], dtype='float32')\n",
        "    embeddings_index[word] = coefs\n",
        "f.close()\n",
        "\n",
        "embedding_matrix = np.zeros((vocab_size_eng+1, 100))\n",
        "for word, i in tknizer_eng.word_index.items():\n",
        "    embedding_vector = embeddings_index.get(word)\n",
        "    if embedding_vector is not None:\n",
        "        embedding_matrix[i] = embedding_vector"
      ],
      "execution_count": null,
      "outputs": []
    },
    {
      "cell_type": "code",
      "source": [
        "tknizer_eng.word_index['<end>'] , tknizer_eng.word_index['<start>']"
      ],
      "metadata": {
        "colab": {
          "base_uri": "https://localhost:8080/"
        },
        "id": "5t7CPbbEfMgj",
        "outputId": "6f6f4d63-41ab-4fe7-eeae-591a75cc2255"
      },
      "execution_count": null,
      "outputs": [
        {
          "output_type": "execute_result",
          "data": {
            "text/plain": [
              "(10327, 1)"
            ]
          },
          "metadata": {},
          "execution_count": 22
        }
      ]
    },
    {
      "cell_type": "code",
      "source": [
        "embedding_matrix[10327]"
      ],
      "metadata": {
        "colab": {
          "base_uri": "https://localhost:8080/"
        },
        "id": "3x-wdW4afQ5l",
        "outputId": "22197845-f380-471c-a22b-00a914d346aa"
      },
      "execution_count": null,
      "outputs": [
        {
          "output_type": "execute_result",
          "data": {
            "text/plain": [
              "array([0., 0., 0., 0., 0., 0., 0., 0., 0., 0., 0., 0., 0., 0., 0., 0., 0.,\n",
              "       0., 0., 0., 0., 0., 0., 0., 0., 0., 0., 0., 0., 0., 0., 0., 0., 0.,\n",
              "       0., 0., 0., 0., 0., 0., 0., 0., 0., 0., 0., 0., 0., 0., 0., 0., 0.,\n",
              "       0., 0., 0., 0., 0., 0., 0., 0., 0., 0., 0., 0., 0., 0., 0., 0., 0.,\n",
              "       0., 0., 0., 0., 0., 0., 0., 0., 0., 0., 0., 0., 0., 0., 0., 0., 0.,\n",
              "       0., 0., 0., 0., 0., 0., 0., 0., 0., 0., 0., 0., 0., 0., 0.])"
            ]
          },
          "metadata": {},
          "execution_count": 23
        }
      ]
    },
    {
      "cell_type": "code",
      "source": [
        "embedding_matrix[1]"
      ],
      "metadata": {
        "colab": {
          "base_uri": "https://localhost:8080/"
        },
        "id": "IisCHvFcfdF1",
        "outputId": "876e4a39-2d24-48be-d57f-b0266d0d683f"
      },
      "execution_count": null,
      "outputs": [
        {
          "output_type": "execute_result",
          "data": {
            "text/plain": [
              "array([0., 0., 0., 0., 0., 0., 0., 0., 0., 0., 0., 0., 0., 0., 0., 0., 0.,\n",
              "       0., 0., 0., 0., 0., 0., 0., 0., 0., 0., 0., 0., 0., 0., 0., 0., 0.,\n",
              "       0., 0., 0., 0., 0., 0., 0., 0., 0., 0., 0., 0., 0., 0., 0., 0., 0.,\n",
              "       0., 0., 0., 0., 0., 0., 0., 0., 0., 0., 0., 0., 0., 0., 0., 0., 0.,\n",
              "       0., 0., 0., 0., 0., 0., 0., 0., 0., 0., 0., 0., 0., 0., 0., 0., 0.,\n",
              "       0., 0., 0., 0., 0., 0., 0., 0., 0., 0., 0., 0., 0., 0., 0.])"
            ]
          },
          "metadata": {},
          "execution_count": 24
        }
      ]
    },
    {
      "cell_type": "code",
      "source": [
        "print(embedding_matrix.shape)\n",
        "embedding_matrix[0]"
      ],
      "metadata": {
        "colab": {
          "base_uri": "https://localhost:8080/"
        },
        "id": "MA-hwvS7zv8t",
        "outputId": "c0f77762-f876-414f-d074-ee6fdf6a9c12"
      },
      "execution_count": null,
      "outputs": [
        {
          "output_type": "stream",
          "name": "stdout",
          "text": [
            "(13087, 100)\n"
          ]
        },
        {
          "output_type": "execute_result",
          "data": {
            "text/plain": [
              "array([0., 0., 0., 0., 0., 0., 0., 0., 0., 0., 0., 0., 0., 0., 0., 0., 0.,\n",
              "       0., 0., 0., 0., 0., 0., 0., 0., 0., 0., 0., 0., 0., 0., 0., 0., 0.,\n",
              "       0., 0., 0., 0., 0., 0., 0., 0., 0., 0., 0., 0., 0., 0., 0., 0., 0.,\n",
              "       0., 0., 0., 0., 0., 0., 0., 0., 0., 0., 0., 0., 0., 0., 0., 0., 0.,\n",
              "       0., 0., 0., 0., 0., 0., 0., 0., 0., 0., 0., 0., 0., 0., 0., 0., 0.,\n",
              "       0., 0., 0., 0., 0., 0., 0., 0., 0., 0., 0., 0., 0., 0., 0.])"
            ]
          },
          "metadata": {},
          "execution_count": 25
        }
      ]
    },
    {
      "cell_type": "markdown",
      "metadata": {
        "id": "S8RDrP4xKabR"
      },
      "source": [
        "## <font color='blue'>**Implement custom encoder decoder**</font>"
      ]
    },
    {
      "cell_type": "markdown",
      "metadata": {
        "id": "A45uc0JILMlV"
      },
      "source": [
        "<font color='blue'>**Encoder**</font>"
      ]
    },
    {
      "cell_type": "code",
      "metadata": {
        "id": "DqCTPT5JxYvH"
      },
      "source": [
        "import tensorflow as tf\n",
        "tf.compat.v1.enable_eager_execution()\n",
        "from tensorflow.keras.layers import TimeDistributed\n",
        "tf.keras.backend.clear_session()\n",
        "from tensorflow.keras.layers import Input, Softmax, RNN, Dense, Embedding, LSTM\n",
        "from tensorflow.keras.models import Model\n",
        "import numpy as np"
      ],
      "execution_count": null,
      "outputs": []
    },
    {
      "cell_type": "code",
      "metadata": {
        "id": "9cex2XfCLOew"
      },
      "source": [
        "class Encoder(tf.keras.Model):\n",
        "    '''\n",
        "    Encoder model -- That takes a input sequence and returns encoder-outputs,encoder_final_state_h,encoder_final_state_c\n",
        "    '''\n",
        "\n",
        "    def __init__(self,vocab_size,embedding_dim,enc_units,input_length):\n",
        "      super().__init__()\n",
        "      self.vocab_size = vocab_size\n",
        "      self.embedding_dim = embedding_dim\n",
        "      self.enc_units = enc_units\n",
        "      self.input_length = input_length\n",
        "      self.encoder_outputs =0\n",
        "      self.encoder_final_state_h = 0\n",
        "      self.encoder_final_state_c = 0 \n",
        "\n",
        "      #Initialize Embedding layer\n",
        "      self.embedding = Embedding(input_dim=self.vocab_size , output_dim=self.embedding_dim, input_length=self.input_length,\n",
        "                           mask_zero=True, name=\"embedding_layer_encoder\")    \n",
        "\n",
        "      #Intialize Encoder LSTM layer\n",
        "      self.lstm = LSTM(self.enc_units, return_state=True, return_sequences=True, name=\"Encoder_LSTM\")\n",
        "\n",
        "    def call(self,input_sentence,states):\n",
        "      input_embedd = self.embedding(input_sentence)\n",
        "      self.encoder_outputs , self.encoder_final_state_h , self.encoder_final_state_c = self.lstm(input_embedd , initial_state = states)\n",
        "      return self.encoder_outputs , self.encoder_final_state_h , self.encoder_final_state_c\n",
        "      '''\n",
        "        This function takes a sequence input and the initial states of the encoder.\n",
        "        Pass the input_sequence input to the Embedding layer, Pass the embedding layer ouput to encoder_lstm\n",
        "        returns -- encoder_output, last time step's hidden and cell state\n",
        "      '''\n",
        "\n",
        "\n",
        "      \n",
        "\n",
        "    \n",
        "    def initialize_states(self,batch_size):\n",
        "      return tf.zeros([batch_size , self.enc_units]) , tf.zeros([batch_size , self.enc_units])\n",
        "      '''\n",
        "      Given a batch size it will return intial hidden state and intial cell state.\n",
        "      If batch size is 32- Hidden state is zeros of size [32,lstm_units], cell state zeros is of size [32,lstm_units]\n",
        "      '''\n",
        "      \n"
      ],
      "execution_count": null,
      "outputs": []
    },
    {
      "cell_type": "markdown",
      "metadata": {
        "id": "EtbOI3VwLOe0"
      },
      "source": [
        "<font color='orange'>**Grader function - 1**</font>"
      ]
    },
    {
      "cell_type": "code",
      "metadata": {
        "id": "ziSqOgmhLOe1",
        "colab": {
          "base_uri": "https://localhost:8080/"
        },
        "outputId": "1673c35a-9ba6-4868-aa0c-bd02ee88d9d2"
      },
      "source": [
        "def grader_check_encoder():\n",
        "    '''\n",
        "        vocab-size: Unique words of the input language,\n",
        "        embedding_size: output embedding dimension for each word after embedding layer,\n",
        "        lstm_size: Number of lstm units,\n",
        "        input_length: Length of the input sentence,\n",
        "        batch_size\n",
        "    '''\n",
        "    vocab_size=10\n",
        "    embedding_size=20\n",
        "    lstm_size=32\n",
        "    input_length=10\n",
        "    batch_size=16\n",
        "    #Intialzing encoder \n",
        "    encoder=Encoder(vocab_size,embedding_size,lstm_size,input_length)\n",
        "    input_sequence=tf.random.uniform(shape=[batch_size,input_length],maxval=vocab_size,minval=0,dtype=tf.int32)\n",
        "    #Intializing encoder initial states\n",
        "    initial_state=encoder.initialize_states(batch_size)\n",
        "    \n",
        "    encoder_output,state_h,state_c=encoder(input_sequence,initial_state)\n",
        "    \n",
        "    assert(encoder_output.shape==(batch_size,input_length,lstm_size) and state_h.shape==(batch_size,lstm_size) and state_c.shape==(batch_size,lstm_size))\n",
        "    return True\n",
        "print(grader_check_encoder())"
      ],
      "execution_count": null,
      "outputs": [
        {
          "output_type": "stream",
          "name": "stdout",
          "text": [
            "True\n"
          ]
        }
      ]
    },
    {
      "cell_type": "code",
      "metadata": {
        "id": "x1ES1-sJLOe4"
      },
      "source": [
        "class Decoder(tf.keras.Model):\n",
        "    '''\n",
        "    Encoder model -- That takes a input sequence and returns output sequence\n",
        "    '''\n",
        "\n",
        "    def __init__(self,out_vocab_size,embedding_size,lstm_size,input_length):\n",
        "      super().__init__()\n",
        "      self.dec_vocab_size = out_vocab_size\n",
        "      self.embedding_size = embedding_size\n",
        "      self.lstm_size = lstm_size\n",
        "      self.input_length = input_length\n",
        "      self.decoder_outputs =0\n",
        "      self.decoder_final_state_h = 0\n",
        "      self.decoder_final_state_c = 0 \n",
        "\n",
        "      #Initialize Embedding layer\n",
        "      self.embedding = Embedding(input_dim=self.dec_vocab_size , output_dim=self.embedding_size, input_length=self.input_length,\n",
        "                           mask_zero=True, name=\"embedding_layer_encoder\" ,weights=[embedding_matrix], trainable=False )   \n",
        "    #   self.embedding = Embedding(input_dim=self.dec_vocab_size , output_dim=self.embedding_size, input_length=self.input_length,\n",
        "                        #    mask_zero=True, name=\"embedding_layer_encoder\"  )    \n",
        "\n",
        "      #Intialize Decoder LSTM layer\n",
        "      self.lstm = LSTM(self.lstm_size, return_state=True, return_sequences=True, name=\"Decoder_LSTM\")\n",
        "      \n",
        "    def call(self,input_sequence,initial_states):\n",
        "      target_embedd = self.embedding(input_sequence)\n",
        "      self.decoder_outputs , self.decoder_final_state_h , self.decoder_final_state_c = self.lstm(target_embedd , initial_state = initial_states)\n",
        "      return self.decoder_outputs , self.decoder_final_state_h , self.decoder_final_state_c\n",
        "      '''\n",
        "        This function takes a sequence input and the initial states of the encoder.\n",
        "        Pass the input_sequence input to the Embedding layer, Pass the embedding layer ouput to decoder_lstm\n",
        "      \n",
        "        returns -- decoder_output,decoder_final_state_h,decoder_final_state_c\n",
        "      '''\n",
        "\n",
        "      \n"
      ],
      "execution_count": null,
      "outputs": []
    },
    {
      "cell_type": "markdown",
      "metadata": {
        "id": "Hq-I0SUbLOe8"
      },
      "source": [
        "<font color='orange'>**Grader function - 2**</font>"
      ]
    },
    {
      "cell_type": "code",
      "metadata": {
        "id": "0B0gokgKLOe8",
        "colab": {
          "base_uri": "https://localhost:8080/"
        },
        "outputId": "a00d3d58-020b-485d-c6b2-403455dd3553"
      },
      "source": [
        "def grader_decoder():\n",
        "    '''\n",
        "        out_vocab_size: Unique words of the target language,\n",
        "        embedding_size: output embedding dimension for each word after embedding layer,\n",
        "        dec_units: Number of lstm units in decoder,\n",
        "        input_length: Length of the input sentence,\n",
        "        batch_size\n",
        "        \n",
        "    \n",
        "    '''\n",
        "    out_vocab_size=13 \n",
        "    embedding_dim=12 \n",
        "    input_length=10\n",
        "    dec_units=16 \n",
        "    batch_size=32\n",
        "    \n",
        "    target_sentences=tf.random.uniform(shape=(batch_size,input_length),maxval=10,minval=0,dtype=tf.int32)\n",
        "    encoder_output=tf.random.uniform(shape=[batch_size,input_length,dec_units])\n",
        "    state_h=tf.random.uniform(shape=[batch_size,dec_units])\n",
        "    state_c=tf.random.uniform(shape=[batch_size,dec_units])\n",
        "    states=[state_h,state_c]\n",
        "    decoder=Decoder(out_vocab_size, embedding_dim, dec_units,input_length )\n",
        "    output,_,_=decoder(target_sentences, states)\n",
        "    assert(output.shape==(batch_size,input_length,dec_units))\n",
        "    return True\n",
        "print(grader_decoder())\n"
      ],
      "execution_count": null,
      "outputs": [
        {
          "output_type": "stream",
          "name": "stdout",
          "text": [
            "True\n"
          ]
        }
      ]
    },
    {
      "cell_type": "code",
      "metadata": {
        "id": "BXrIj4scLOe_"
      },
      "source": [
        "class Encoder_decoder(tf.keras.Model):\n",
        "    \n",
        "    def __init__(self,encoder_inputs_length,decoder_inputs_length):\n",
        "        super().__init__()\n",
        "        #Create encoder object\n",
        "        self.encoder = Encoder(vocab_size = vocab_size_ita+1 ,embedding_dim =100 , enc_units = 100 ,input_length = encoder_inputs_length)        #  +1  is for  0 \n",
        "        #Create decoder object\n",
        "        self.decoder = Decoder(out_vocab_size = vocab_size_eng + 1 ,embedding_size = 100,lstm_size = 100,input_length = decoder_inputs_length)\n",
        "\n",
        "        self.dense=Dense(vocab_size_eng ,activation='softmax'  )\n",
        "    \n",
        "\n",
        "    def call(self,data):\n",
        "        '''\n",
        "        A. Pass the input sequence to Encoder layer -- Return encoder_output,encoder_final_state_h,encoder_final_state_c\n",
        "        B. Pass the target sequence to Decoder layer with intial states as encoder_final_state_h,encoder_final_state_C\n",
        "        C. Pass the decoder_outputs into Dense layer \n",
        "        \n",
        "        Return decoder_outputs\n",
        "        '''\n",
        "        input,output = data[0], data[1]\n",
        "        enc_initial_states = self.encoder.initialize_states(1024)\n",
        "        encoder_output, encoder_final_state_h,encoder_final_state_c = self.encoder(input , enc_initial_states)\n",
        "        initial_states = [ encoder_final_state_h,encoder_final_state_c]\n",
        "        decoder_output , _ , _  = self.decoder(output,initial_states)\n",
        "        output  = self.dense(decoder_output)\n",
        "        return output\n",
        "        \n",
        "        "
      ],
      "execution_count": null,
      "outputs": []
    },
    {
      "cell_type": "code",
      "metadata": {
        "id": "FmB27pW_7MoX"
      },
      "source": [
        "tf.keras.backend.clear_session()"
      ],
      "execution_count": null,
      "outputs": []
    },
    {
      "cell_type": "code",
      "metadata": {
        "id": "7mBXRd_sus3C"
      },
      "source": [
        "class Dataset:\n",
        "    def __init__(self, data, tknizer_ita, tknizer_eng, max_len_ita , max_len_eng):\n",
        "        self.encoder_inps = data['italian'].values\n",
        "        self.decoder_inps = data['english_inp'].values\n",
        "        self.decoder_outs = data['english_out'].values\n",
        "        self.tknizer_eng = tknizer_eng\n",
        "        self.tknizer_ita = tknizer_ita\n",
        "        self.max_len_ita = max_len_ita\n",
        "        self.max_len_eng = max_len_eng\n",
        "\n",
        "    def __getitem__(self, i):                                         \n",
        "        self.encoder_seq = self.tknizer_ita.texts_to_sequences([self.encoder_inps[i]]) # need to pass list of values\n",
        "        self.decoder_inp_seq = self.tknizer_eng.texts_to_sequences([self.decoder_inps[i]])\n",
        "        self.decoder_out_seq = self.tknizer_eng.texts_to_sequences([self.decoder_outs[i]])\n",
        "\n",
        "        self.encoder_seq = pad_sequences(self.encoder_seq, maxlen=self.max_len_ita, dtype='int32', padding='post')\n",
        "        self.decoder_inp_seq = pad_sequences(self.decoder_inp_seq, maxlen=self.max_len_eng, dtype='int32', padding='post')\n",
        "        self.decoder_out_seq = pad_sequences(self.decoder_out_seq, maxlen=self.max_len_eng, dtype='int32', padding='post')\n",
        "        return self.encoder_seq, self.decoder_inp_seq, self.decoder_out_seq\n",
        "\n",
        "    def __len__(self): # your model.fit_gen requires this function\n",
        "        return len(self.encoder_inps)\n",
        "\n",
        "    \n",
        "class Dataloder(tf.keras.utils.Sequence):    \n",
        "    def __init__(self, dataset, batch_size=1):\n",
        "        self.dataset = dataset\n",
        "        self.batch_size = batch_size\n",
        "        self.indexes = np.arange(len(self.dataset.encoder_inps))\n",
        "\n",
        "\n",
        "    def __getitem__(self, i):\n",
        "        start = i * self.batch_size\n",
        "        stop = (i + 1) * self.batch_size\n",
        "        data = []\n",
        "        for j in range(start, stop):\n",
        "            data.append(self.dataset[j])                 #  three things will be appended\n",
        "\n",
        "        batch = [np.squeeze(np.stack(samples, axis=1), axis=0) for samples in zip(*data)]\n",
        "        # we are creating data like ([italian, english_inp], english_out) these are already converted into seq\n",
        "        return tuple([[batch[0],batch[1]],batch[2]])\n",
        "\n",
        "    def __len__(self):  # your model.fit_gen requires this function\n",
        "        return len(self.indexes) // self.batch_size\n",
        "\n",
        "    def on_epoch_end(self):\n",
        "        self.indexes = np.random.permutation(self.indexes)"
      ],
      "execution_count": null,
      "outputs": []
    },
    {
      "cell_type": "code",
      "metadata": {
        "id": "eDKh6iikRUyg",
        "colab": {
          "base_uri": "https://localhost:8080/"
        },
        "outputId": "467f61ee-1688-49d1-a3d2-2ac568b77914"
      },
      "source": [
        "train_dataset = Dataset(train, tknizer_ita, tknizer_eng, 22 , 25 )\n",
        "test_dataset  = Dataset(validation, tknizer_ita, tknizer_eng, 22, 25)\n",
        "\n",
        "train_dataloader = Dataloder(train_dataset, batch_size=1024)\n",
        "test_dataloader = Dataloder(test_dataset, batch_size=1024)\n",
        "\n",
        "\n",
        "print(train_dataloader[0][0][0].shape, train_dataloader[0][0][1].shape, train_dataloader[0][1].shape)"
      ],
      "execution_count": null,
      "outputs": [
        {
          "output_type": "stream",
          "name": "stdout",
          "text": [
            "(1024, 22) (1024, 25) (1024, 25)\n"
          ]
        }
      ]
    },
    {
      "cell_type": "code",
      "source": [
        "#https://www.tensorflow.org/tutorials/text/image_captioning#model\n",
        "loss_object = tf.keras.losses.SparseCategoricalCrossentropy()\n",
        "\n",
        "\n",
        "def loss_function(real, pred):\n",
        "    \"\"\" Custom loss function that will not consider the loss for padded zeros.\n",
        "    why are we using this, can't we use simple sparse categorical crossentropy?\n",
        "    Yes, you can use simple sparse categorical crossentropy as loss like we did in task-1. But in this loss function we are ignoring the loss\n",
        "    for the padded zeros. i.e when the input is zero then we donot need to worry what the output is. This padded zeros are added from our end\n",
        "    during preprocessing to make equal length for all the sentences.\n",
        "\n",
        "    \"\"\"\n",
        "    \n",
        "    \n",
        "    mask = tf.math.logical_not(tf.math.equal(real, 0))\n",
        "    loss_ = loss_object(real, pred)\n",
        "\n",
        "    mask = tf.cast(mask, dtype=loss_.dtype)\n",
        "    loss_ *= mask\n",
        "\n",
        "    return tf.reduce_mean(loss_)"
      ],
      "metadata": {
        "id": "0p9aVYlHGr-8"
      },
      "execution_count": null,
      "outputs": []
    },
    {
      "cell_type": "code",
      "metadata": {
        "id": "kcL61dJXLOfB"
      },
      "source": [
        "#Create an object of encoder_decoder Model class, \n",
        "# Compile the model and fit the model\n",
        "\n",
        "model  = Encoder_decoder(encoder_inputs_length=22,decoder_inputs_length=25)\n",
        "optimizer = tf.keras.optimizers.Adam()\n",
        "model.compile(optimizer=optimizer,loss=loss_function)"
      ],
      "execution_count": null,
      "outputs": []
    },
    {
      "cell_type": "code",
      "source": [
        "earlystop = tf.keras.callbacks.EarlyStopping(\n",
        "    monitor='val_loss', min_delta=0, patience=3, verbose=0, mode='min'  ,restore_best_weights = True \n",
        ")"
      ],
      "metadata": {
        "id": "KDYEGJIqGZNq"
      },
      "execution_count": null,
      "outputs": []
    },
    {
      "cell_type": "code",
      "source": [
        "train_steps=train.shape[0]//1024\n",
        "valid_steps=validation.shape[0]//1024\n",
        "model.fit(train_dataloader, steps_per_epoch=train_steps, epochs=50, validation_data=test_dataloader, validation_steps=valid_steps , callbacks = [earlystop])\n",
        "model.summary()"
      ],
      "metadata": {
        "colab": {
          "base_uri": "https://localhost:8080/"
        },
        "id": "l9ywezpsDEQC",
        "outputId": "77106f9a-5a59-455a-ba98-93f8aca5fb32"
      },
      "execution_count": null,
      "outputs": [
        {
          "output_type": "stream",
          "name": "stdout",
          "text": [
            "Epoch 1/50\n",
            "276/276 [==============================] - 67s 223ms/step - loss: 0.6251 - val_loss: 0.5936\n",
            "Epoch 2/50\n",
            "276/276 [==============================] - 60s 218ms/step - loss: 0.5811 - val_loss: 0.5601\n",
            "Epoch 3/50\n",
            "276/276 [==============================] - 59s 213ms/step - loss: 0.5471 - val_loss: 0.5257\n",
            "Epoch 4/50\n",
            "276/276 [==============================] - 59s 214ms/step - loss: 0.5123 - val_loss: 0.4916\n",
            "Epoch 5/50\n",
            "276/276 [==============================] - 59s 213ms/step - loss: 0.4782 - val_loss: 0.4575\n",
            "Epoch 6/50\n",
            "276/276 [==============================] - 59s 214ms/step - loss: 0.4439 - val_loss: 0.4239\n",
            "Epoch 7/50\n",
            "276/276 [==============================] - 59s 213ms/step - loss: 0.4100 - val_loss: 0.3902\n",
            "Epoch 8/50\n",
            "276/276 [==============================] - 59s 213ms/step - loss: 0.3761 - val_loss: 0.3569\n",
            "Epoch 9/50\n",
            "276/276 [==============================] - 59s 213ms/step - loss: 0.3426 - val_loss: 0.3238\n",
            "Epoch 10/50\n",
            "276/276 [==============================] - 59s 213ms/step - loss: 0.3095 - val_loss: 0.2916\n",
            "Epoch 11/50\n",
            "276/276 [==============================] - 59s 214ms/step - loss: 0.2773 - val_loss: 0.2602\n",
            "Epoch 12/50\n",
            "276/276 [==============================] - 59s 213ms/step - loss: 0.2460 - val_loss: 0.2297\n",
            "Epoch 13/50\n",
            "276/276 [==============================] - 59s 213ms/step - loss: 0.2157 - val_loss: 0.2004\n",
            "Epoch 14/50\n",
            "276/276 [==============================] - 59s 213ms/step - loss: 0.1866 - val_loss: 0.1725\n",
            "Epoch 15/50\n",
            "276/276 [==============================] - 59s 213ms/step - loss: 0.1595 - val_loss: 0.1470\n",
            "Epoch 16/50\n",
            "276/276 [==============================] - 59s 212ms/step - loss: 0.1350 - val_loss: 0.1244\n",
            "Epoch 17/50\n",
            "276/276 [==============================] - 59s 213ms/step - loss: 0.1137 - val_loss: 0.1051\n",
            "Epoch 18/50\n",
            "276/276 [==============================] - 59s 213ms/step - loss: 0.0959 - val_loss: 0.0893\n",
            "Epoch 19/50\n",
            "276/276 [==============================] - 59s 215ms/step - loss: 0.0815 - val_loss: 0.0769\n",
            "Epoch 20/50\n",
            "276/276 [==============================] - 59s 213ms/step - loss: 0.0701 - val_loss: 0.0671\n",
            "Epoch 21/50\n",
            "276/276 [==============================] - 59s 213ms/step - loss: 0.0612 - val_loss: 0.0594\n",
            "Epoch 22/50\n",
            "276/276 [==============================] - 59s 214ms/step - loss: 0.0542 - val_loss: 0.0535\n",
            "Epoch 23/50\n",
            "276/276 [==============================] - 59s 213ms/step - loss: 0.0486 - val_loss: 0.0488\n",
            "Epoch 24/50\n",
            "276/276 [==============================] - 59s 213ms/step - loss: 0.0441 - val_loss: 0.0449\n",
            "Epoch 25/50\n",
            "276/276 [==============================] - 59s 213ms/step - loss: 0.0404 - val_loss: 0.0418\n",
            "Epoch 26/50\n",
            "276/276 [==============================] - 59s 213ms/step - loss: 0.0373 - val_loss: 0.0392\n",
            "Epoch 27/50\n",
            "276/276 [==============================] - 59s 214ms/step - loss: 0.0348 - val_loss: 0.0370\n",
            "Epoch 28/50\n",
            "276/276 [==============================] - 59s 214ms/step - loss: 0.0325 - val_loss: 0.0352\n",
            "Epoch 29/50\n",
            "276/276 [==============================] - 59s 214ms/step - loss: 0.0306 - val_loss: 0.0336\n",
            "Epoch 30/50\n",
            "276/276 [==============================] - 59s 213ms/step - loss: 0.0290 - val_loss: 0.0322\n",
            "Epoch 31/50\n",
            "276/276 [==============================] - 59s 214ms/step - loss: 0.0275 - val_loss: 0.0310\n",
            "Epoch 32/50\n",
            "276/276 [==============================] - 59s 215ms/step - loss: 0.0262 - val_loss: 0.0301\n",
            "Epoch 33/50\n",
            "276/276 [==============================] - 59s 214ms/step - loss: 0.0250 - val_loss: 0.0291\n",
            "Epoch 34/50\n",
            "276/276 [==============================] - 61s 221ms/step - loss: 0.0240 - val_loss: 0.0283\n",
            "Epoch 35/50\n",
            "276/276 [==============================] - 59s 214ms/step - loss: 0.0230 - val_loss: 0.0275\n",
            "Epoch 36/50\n",
            "276/276 [==============================] - 59s 214ms/step - loss: 0.0222 - val_loss: 0.0269\n",
            "Epoch 37/50\n",
            "276/276 [==============================] - 59s 213ms/step - loss: 0.0214 - val_loss: 0.0263\n",
            "Epoch 38/50\n",
            "276/276 [==============================] - 59s 214ms/step - loss: 0.0207 - val_loss: 0.0257\n",
            "Epoch 39/50\n",
            "276/276 [==============================] - 59s 214ms/step - loss: 0.0200 - val_loss: 0.0252\n",
            "Epoch 40/50\n",
            "276/276 [==============================] - 59s 214ms/step - loss: 0.0193 - val_loss: 0.0247\n",
            "Epoch 41/50\n",
            "276/276 [==============================] - 65s 233ms/step - loss: 0.0187 - val_loss: 0.0243\n",
            "Epoch 42/50\n",
            "276/276 [==============================] - 60s 215ms/step - loss: 0.0182 - val_loss: 0.0239\n",
            "Epoch 43/50\n",
            "276/276 [==============================] - 65s 234ms/step - loss: 0.0177 - val_loss: 0.0236\n",
            "Epoch 44/50\n",
            "276/276 [==============================] - 60s 217ms/step - loss: 0.0172 - val_loss: 0.0233\n",
            "Epoch 45/50\n",
            "276/276 [==============================] - 60s 218ms/step - loss: 0.0167 - val_loss: 0.0230\n",
            "Epoch 46/50\n",
            "276/276 [==============================] - 62s 224ms/step - loss: 0.0163 - val_loss: 0.0227\n",
            "Epoch 47/50\n",
            "276/276 [==============================] - 59s 214ms/step - loss: 0.0159 - val_loss: 0.0224\n",
            "Epoch 48/50\n",
            "276/276 [==============================] - 59s 215ms/step - loss: 0.0155 - val_loss: 0.0222\n",
            "Epoch 49/50\n",
            "276/276 [==============================] - 59s 215ms/step - loss: 0.0152 - val_loss: 0.0219\n",
            "Epoch 50/50\n",
            "276/276 [==============================] - 59s 214ms/step - loss: 0.0148 - val_loss: 0.0217\n",
            "Model: \"encoder_decoder_1\"\n",
            "_________________________________________________________________\n",
            " Layer (type)                Output Shape              Param #   \n",
            "=================================================================\n",
            " encoder_2 (Encoder)         multiple                  2758000   \n",
            "                                                                 \n",
            " decoder_1 (Decoder)         multiple                  1389100   \n",
            "                                                                 \n",
            " dense_5 (Dense)             multiple                  1321686   \n",
            "                                                                 \n",
            "=================================================================\n",
            "Total params: 5,468,786\n",
            "Trainable params: 4,160,086\n",
            "Non-trainable params: 1,308,700\n",
            "_________________________________________________________________\n"
          ]
        }
      ]
    },
    {
      "cell_type": "code",
      "metadata": {
        "id": "eb6S6iz0UnUo"
      },
      "source": [
        "def predict(input_sentence):\n",
        "\n",
        "  '''\n",
        "  A. Given input sentence, convert the sentence into integers using tokenizer used earlier\n",
        "  B. Pass the input_sequence to encoder. we get encoder_outputs, last time step hidden and cell state\n",
        "  C. Initialize index of <start> as input to decoder. and encoder final states as input_states to decoder\n",
        "  D. till we reach max_length of decoder or till the model predicted word <end>:\n",
        "         predicted_out,state_h,state_c=model.layers[1](dec_input,states)\n",
        "         pass the predicted_out to the dense layer\n",
        "         update the states=[state_h,state_c]\n",
        "         And get the index of the word with maximum probability of the dense layer output, using the tokenizer(word index) get the word and then store it in a string.\n",
        "         Update the input_to_decoder with current predictions\n",
        "  F. Return the predicted sentence\n",
        "  '''\n",
        "\n",
        "  predicted_sentence = \"\"\n",
        "  # sequence_ita = tknizer_ita.texts_to_sequences([validation.iloc[0]['italian']])\n",
        "  sequence_ita = tknizer_ita.texts_to_sequences([input_sentence])\n",
        "  seq_emb = model.layers[0].embedding(np.array(sequence_ita))                         # (1, encoder_input_length,  enc_embedding_dim)\n",
        "  encoder_outputs , last_h_state , last_c_state =   model.layers[0].lstm(seq_emb)      # encoder_outputs  -> (1, encoder_input_length , enc_lstm_units)\n",
        "  initial_states = [last_h_state , last_c_state]                        # last_h_state  -> (1,  enc_lstm_units)\n",
        " \n",
        "  \n",
        "  input_dec = tknizer_eng.word_index['<start>']\n",
        "  word_index_end = tknizer_eng.word_index['<end>']\n",
        "\n",
        "  for i in range(25):\n",
        "    # print(i)\n",
        "    dec_inp_emb = model.layers[1].embedding(np.reshape(input_dec , (1,1)))                    # (1,1,100)\n",
        "    dec_output  , state_h , state_c = model.layers[1].lstm(dec_inp_emb , initial_state = initial_states)          # dec_output -> (1, 1, dec_lstm_units)\n",
        "    dec_output_final = model.layers[2](dec_output)                            # (1, 1, 13086)\n",
        "\n",
        "    initial_states = [state_h , state_c]\n",
        "    input_dec = np.argmax(dec_output_final)              # natural no \n",
        "\n",
        "    # print(tknizer_eng.index_word[input_dec] , input_dec)\n",
        "\n",
        "    if input_dec == word_index_end:                 \n",
        "      break\n",
        "    predicted_sentence += \" \" + tknizer_eng.index_word[input_dec]\n",
        "\n",
        "    # print(predicted_sentence)\n",
        "\n",
        "  return str.strip(predicted_sentence)\n"
      ],
      "execution_count": null,
      "outputs": []
    },
    {
      "cell_type": "code",
      "source": [
        "print(tknizer_eng.index_word[1])\n",
        "tknizer_eng.index_word[13086]"
      ],
      "metadata": {
        "colab": {
          "base_uri": "https://localhost:8080/",
          "height": 53
        },
        "id": "lkcTv-EMtwDW",
        "outputId": "c56d5649-e3d4-4c03-d00c-5deffedd22c8"
      },
      "execution_count": null,
      "outputs": [
        {
          "output_type": "stream",
          "name": "stdout",
          "text": [
            "<start>\n"
          ]
        },
        {
          "output_type": "execute_result",
          "data": {
            "text/plain": [
              "'250000'"
            ],
            "application/vnd.google.colaboratory.intrinsic+json": {
              "type": "string"
            }
          },
          "metadata": {},
          "execution_count": 59
        }
      ]
    },
    {
      "cell_type": "code",
      "source": [
        "italian_10 = validation.head(10)['italian']\n",
        "original_english_10 = validation.head(10)['english_out']\n",
        "predicted_sentence_10 = []\n",
        "\n",
        "for italian in italian_10:\n",
        "  predicted_sentence_10.append(predict(italian))\n",
        "\n",
        "result_10 = pd.DataFrame({'original' : original_english_10 , 'predicted' : predicted_sentence_10})\n",
        "result_10"
      ],
      "metadata": {
        "colab": {
          "base_uri": "https://localhost:8080/",
          "height": 363
        },
        "id": "SdGPw8m7RU_q",
        "outputId": "767c874b-771c-4c18-baae-3946df3c7d0c"
      },
      "execution_count": null,
      "outputs": [
        {
          "output_type": "execute_result",
          "data": {
            "text/plain": [
              "                                             original  \\\n",
              "144180                  tom stayed home all day <end>   \n",
              "120500                   i had to say something <end>   \n",
              "137797                  i want to get rid of it <end>   \n",
              "78480                      it is very hot today <end>   \n",
              "320129  he told his assistant that he would win <end>   \n",
              "218316            i am not one of your soldiers <end>   \n",
              "316039   i knew it would happen sooner or later <end>   \n",
              "106906                i would like to go faster <end>   \n",
              "317803   things are getting out of control here <end>   \n",
              "28335                          i am not worried <end>   \n",
              "\n",
              "                                       predicted  \n",
              "144180                   tom stayed home all day  \n",
              "120500                    i had to say something  \n",
              "137797                   i want to get rid of it  \n",
              "78480                    is there very hot today  \n",
              "320129        he told her assistant he would win  \n",
              "218316              i am not one of the painting  \n",
              "316039  i knew you would like to the same sooner  \n",
              "106906                 i would like to go faster  \n",
              "317803       things are getting out of going out  \n",
              "28335                           i am not worried  "
            ],
            "text/html": [
              "\n",
              "  <div id=\"df-60dea1d4-6c9b-4bfc-b58e-7fe6f2bdfd14\">\n",
              "    <div class=\"colab-df-container\">\n",
              "      <div>\n",
              "<style scoped>\n",
              "    .dataframe tbody tr th:only-of-type {\n",
              "        vertical-align: middle;\n",
              "    }\n",
              "\n",
              "    .dataframe tbody tr th {\n",
              "        vertical-align: top;\n",
              "    }\n",
              "\n",
              "    .dataframe thead th {\n",
              "        text-align: right;\n",
              "    }\n",
              "</style>\n",
              "<table border=\"1\" class=\"dataframe\">\n",
              "  <thead>\n",
              "    <tr style=\"text-align: right;\">\n",
              "      <th></th>\n",
              "      <th>original</th>\n",
              "      <th>predicted</th>\n",
              "    </tr>\n",
              "  </thead>\n",
              "  <tbody>\n",
              "    <tr>\n",
              "      <th>144180</th>\n",
              "      <td>tom stayed home all day &lt;end&gt;</td>\n",
              "      <td>tom stayed home all day</td>\n",
              "    </tr>\n",
              "    <tr>\n",
              "      <th>120500</th>\n",
              "      <td>i had to say something &lt;end&gt;</td>\n",
              "      <td>i had to say something</td>\n",
              "    </tr>\n",
              "    <tr>\n",
              "      <th>137797</th>\n",
              "      <td>i want to get rid of it &lt;end&gt;</td>\n",
              "      <td>i want to get rid of it</td>\n",
              "    </tr>\n",
              "    <tr>\n",
              "      <th>78480</th>\n",
              "      <td>it is very hot today &lt;end&gt;</td>\n",
              "      <td>is there very hot today</td>\n",
              "    </tr>\n",
              "    <tr>\n",
              "      <th>320129</th>\n",
              "      <td>he told his assistant that he would win &lt;end&gt;</td>\n",
              "      <td>he told her assistant he would win</td>\n",
              "    </tr>\n",
              "    <tr>\n",
              "      <th>218316</th>\n",
              "      <td>i am not one of your soldiers &lt;end&gt;</td>\n",
              "      <td>i am not one of the painting</td>\n",
              "    </tr>\n",
              "    <tr>\n",
              "      <th>316039</th>\n",
              "      <td>i knew it would happen sooner or later &lt;end&gt;</td>\n",
              "      <td>i knew you would like to the same sooner</td>\n",
              "    </tr>\n",
              "    <tr>\n",
              "      <th>106906</th>\n",
              "      <td>i would like to go faster &lt;end&gt;</td>\n",
              "      <td>i would like to go faster</td>\n",
              "    </tr>\n",
              "    <tr>\n",
              "      <th>317803</th>\n",
              "      <td>things are getting out of control here &lt;end&gt;</td>\n",
              "      <td>things are getting out of going out</td>\n",
              "    </tr>\n",
              "    <tr>\n",
              "      <th>28335</th>\n",
              "      <td>i am not worried &lt;end&gt;</td>\n",
              "      <td>i am not worried</td>\n",
              "    </tr>\n",
              "  </tbody>\n",
              "</table>\n",
              "</div>\n",
              "      <button class=\"colab-df-convert\" onclick=\"convertToInteractive('df-60dea1d4-6c9b-4bfc-b58e-7fe6f2bdfd14')\"\n",
              "              title=\"Convert this dataframe to an interactive table.\"\n",
              "              style=\"display:none;\">\n",
              "        \n",
              "  <svg xmlns=\"http://www.w3.org/2000/svg\" height=\"24px\"viewBox=\"0 0 24 24\"\n",
              "       width=\"24px\">\n",
              "    <path d=\"M0 0h24v24H0V0z\" fill=\"none\"/>\n",
              "    <path d=\"M18.56 5.44l.94 2.06.94-2.06 2.06-.94-2.06-.94-.94-2.06-.94 2.06-2.06.94zm-11 1L8.5 8.5l.94-2.06 2.06-.94-2.06-.94L8.5 2.5l-.94 2.06-2.06.94zm10 10l.94 2.06.94-2.06 2.06-.94-2.06-.94-.94-2.06-.94 2.06-2.06.94z\"/><path d=\"M17.41 7.96l-1.37-1.37c-.4-.4-.92-.59-1.43-.59-.52 0-1.04.2-1.43.59L10.3 9.45l-7.72 7.72c-.78.78-.78 2.05 0 2.83L4 21.41c.39.39.9.59 1.41.59.51 0 1.02-.2 1.41-.59l7.78-7.78 2.81-2.81c.8-.78.8-2.07 0-2.86zM5.41 20L4 18.59l7.72-7.72 1.47 1.35L5.41 20z\"/>\n",
              "  </svg>\n",
              "      </button>\n",
              "      \n",
              "  <style>\n",
              "    .colab-df-container {\n",
              "      display:flex;\n",
              "      flex-wrap:wrap;\n",
              "      gap: 12px;\n",
              "    }\n",
              "\n",
              "    .colab-df-convert {\n",
              "      background-color: #E8F0FE;\n",
              "      border: none;\n",
              "      border-radius: 50%;\n",
              "      cursor: pointer;\n",
              "      display: none;\n",
              "      fill: #1967D2;\n",
              "      height: 32px;\n",
              "      padding: 0 0 0 0;\n",
              "      width: 32px;\n",
              "    }\n",
              "\n",
              "    .colab-df-convert:hover {\n",
              "      background-color: #E2EBFA;\n",
              "      box-shadow: 0px 1px 2px rgba(60, 64, 67, 0.3), 0px 1px 3px 1px rgba(60, 64, 67, 0.15);\n",
              "      fill: #174EA6;\n",
              "    }\n",
              "\n",
              "    [theme=dark] .colab-df-convert {\n",
              "      background-color: #3B4455;\n",
              "      fill: #D2E3FC;\n",
              "    }\n",
              "\n",
              "    [theme=dark] .colab-df-convert:hover {\n",
              "      background-color: #434B5C;\n",
              "      box-shadow: 0px 1px 3px 1px rgba(0, 0, 0, 0.15);\n",
              "      filter: drop-shadow(0px 1px 2px rgba(0, 0, 0, 0.3));\n",
              "      fill: #FFFFFF;\n",
              "    }\n",
              "  </style>\n",
              "\n",
              "      <script>\n",
              "        const buttonEl =\n",
              "          document.querySelector('#df-60dea1d4-6c9b-4bfc-b58e-7fe6f2bdfd14 button.colab-df-convert');\n",
              "        buttonEl.style.display =\n",
              "          google.colab.kernel.accessAllowed ? 'block' : 'none';\n",
              "\n",
              "        async function convertToInteractive(key) {\n",
              "          const element = document.querySelector('#df-60dea1d4-6c9b-4bfc-b58e-7fe6f2bdfd14');\n",
              "          const dataTable =\n",
              "            await google.colab.kernel.invokeFunction('convertToInteractive',\n",
              "                                                     [key], {});\n",
              "          if (!dataTable) return;\n",
              "\n",
              "          const docLinkHtml = 'Like what you see? Visit the ' +\n",
              "            '<a target=\"_blank\" href=https://colab.research.google.com/notebooks/data_table.ipynb>data table notebook</a>'\n",
              "            + ' to learn more about interactive tables.';\n",
              "          element.innerHTML = '';\n",
              "          dataTable['output_type'] = 'display_data';\n",
              "          await google.colab.output.renderOutput(dataTable, element);\n",
              "          const docLink = document.createElement('div');\n",
              "          docLink.innerHTML = docLinkHtml;\n",
              "          element.appendChild(docLink);\n",
              "        }\n",
              "      </script>\n",
              "    </div>\n",
              "  </div>\n",
              "  "
            ]
          },
          "metadata": {},
          "execution_count": 68
        }
      ]
    },
    {
      "cell_type": "code",
      "source": [
        "import nltk.translate.bleu_score as bleu\n",
        "\n",
        "\n",
        "eng_original = [['she', 'has', 'brought', 'up', 'five', 'children']]\n",
        "eng_predict = ['she', 'brought', 'up', 'two', 'children']\n",
        "\n",
        "print(bleu.sentence_bleu(eng_original, eng_predict , weights=(0.5,0.5) ) )        # evaluating translations upto 2-grams with uniform weights\n",
        "print(bleu.sentence_bleu(eng_original, eng_predict , weights=(1.0 ,) )    )     # evaluating translations upto 1-grams with uniform weights"
      ],
      "metadata": {
        "colab": {
          "base_uri": "https://localhost:8080/"
        },
        "id": "JCiVvPbWKvSp",
        "outputId": "5d09a4c9-40ca-46dd-e1eb-e236b4dd017e"
      },
      "execution_count": null,
      "outputs": [
        {
          "output_type": "stream",
          "name": "stdout",
          "text": [
            "0.3661475238303926\n",
            "0.6549846024623855\n"
          ]
        }
      ]
    },
    {
      "cell_type": "code",
      "source": [
        "eng_original = [['i', 'at', 'am', 'the', 'hospital', 'now']]\n",
        "eng_predict = ['i', 'am', 'at', 'the', 'hospital', 'now']\n",
        "bleu.sentence_bleu(eng_original, eng_predict , weights=(0.5,0.5) )"
      ],
      "metadata": {
        "colab": {
          "base_uri": "https://localhost:8080/"
        },
        "id": "6ZkivAnsfbg6",
        "outputId": "9f8e3529-8126-4362-825e-f085bfc3cdf5"
      },
      "execution_count": null,
      "outputs": [
        {
          "output_type": "execute_result",
          "data": {
            "text/plain": [
              "0.6324555320336759"
            ]
          },
          "metadata": {},
          "execution_count": 63
        }
      ]
    },
    {
      "cell_type": "code",
      "source": [
        "eng_original = [['i', 'at', 'am', 'the', 'hospital', 'now']]\n",
        "eng_predict = ['i', 'am', 'at', 'the', 'hospital', 'now']\n",
        "bleu.sentence_bleu(eng_original, eng_predict , weights=(1.0 , ) )"
      ],
      "metadata": {
        "colab": {
          "base_uri": "https://localhost:8080/"
        },
        "id": "1MfoCjcpUR_K",
        "outputId": "a3b9422c-08aa-41ca-fb13-d0f1da0708a0"
      },
      "execution_count": null,
      "outputs": [
        {
          "output_type": "execute_result",
          "data": {
            "text/plain": [
              "1.0"
            ]
          },
          "metadata": {},
          "execution_count": 64
        }
      ]
    },
    {
      "cell_type": "code",
      "source": [
        "print(validation['italian'].iloc[57])\n",
        "print(validation['italian'].iloc[174])"
      ],
      "metadata": {
        "colab": {
          "base_uri": "https://localhost:8080/"
        },
        "id": "uYWIkr0rrG35",
        "outputId": "edb22c03-f6e2-426f-81d9-1c5c816c7849"
      },
      "execution_count": null,
      "outputs": [
        {
          "output_type": "stream",
          "name": "stdout",
          "text": [
            "uccidila\n",
            "vediamolo\n"
          ]
        }
      ]
    },
    {
      "cell_type": "code",
      "source": [
        "import nltk.translate.bleu_score as bleu\n",
        "# https://www.nltk.org/_modules/nltk/translate/bleu_score.html\n",
        "\n",
        "avg_score = 0 \n",
        "\n",
        "for i in range(1000):\n",
        "\n",
        "  if i==57 or i == 174:\n",
        "      continue\n",
        "    \n",
        "  eng_original = [validation['english_out'].iloc[i].split()[:-1] ]\n",
        "  # print(i)\n",
        "\n",
        "  italian_original = validation['italian'].iloc[i]\n",
        "  eng_predict = predict(italian_original).split()\n",
        "\n",
        "\n",
        "#   score = bleu.sentence_bleu(eng_original, eng_predict ,  weights=(0.5,0.5))        # since , sentences are small considering only 1-gram and 2-gram\n",
        "  score = bleu.sentence_bleu(eng_original, eng_predict ,  weights=(1.0,))     \n",
        "  avg_score += score   \n",
        "\n",
        "avg_score = avg_score/998"
      ],
      "metadata": {
        "id": "bFcY8AOaGXqK"
      },
      "execution_count": null,
      "outputs": []
    },
    {
      "cell_type": "code",
      "source": [
        "print(\"BLEU score for 1000 test translations: \" , avg_score)"
      ],
      "metadata": {
        "colab": {
          "base_uri": "https://localhost:8080/"
        },
        "id": "CxFl3z8isFPN",
        "outputId": "d83c6074-77c9-4f5d-8e1a-e3b5915e177a"
      },
      "execution_count": null,
      "outputs": [
        {
          "output_type": "stream",
          "name": "stdout",
          "text": [
            "BLEU score for 1000 test translations:  0.7191234824567028\n"
          ]
        }
      ]
    },
    {
      "cell_type": "markdown",
      "metadata": {
        "id": "yZhX3K9GLOfJ"
      },
      "source": [
        "## Task -2: Including Attention mechanisum"
      ]
    },
    {
      "cell_type": "markdown",
      "metadata": {
        "id": "Q3d7GeBMGbsJ"
      },
      "source": [
        "1. Use the preprocessed data from Task-1\n",
        "\n",
        "2. You have to implement an Encoder and Decoder architecture with  \n",
        "attention as discussed in the reference notebook.\n",
        "\n",
        "    * Encoder   - with 1 layer LSTM <br>\n",
        "    * Decoder   - with 1 layer LSTM<br>\n",
        "    * attention -  (Please refer the <a href= 'https://drive.google.com/file/d/1z_bnc-3aubKawbR6q8wyI6Mh5ho2R1aZ/view?usp=sharing'>**reference notebook**</a> to know more about the attention mechanism.)\n",
        "3. In Global attention, we have 3 types of scoring functions(as discussed in the reference notebook).\n",
        " As a part of this assignment **you need to create 3 models for each scoring function**\n",
        "<img src='https://i.imgur.com/iD2jZo3.png'>\n",
        "\n",
        "    * In model 1 you need to implemnt \"dot\" score function\n",
        "    * In model 2 you need to implemnt \"general\" score function\n",
        "    * In model 3 you need to implemnt \"concat\" score function.<br>\n",
        "    \n",
        " "
      ]
    },
    {
      "cell_type": "markdown",
      "metadata": {
        "id": "PU4KIsGxLOfK"
      },
      "source": [
        "### <font color='blue'>**Implement custom encoder decoder and attention layers**</font>"
      ]
    },
    {
      "cell_type": "markdown",
      "metadata": {
        "id": "TMm3ADQDLOfK"
      },
      "source": [
        "<font color='blue'>**Encoder**</font>"
      ]
    },
    {
      "cell_type": "code",
      "metadata": {
        "id": "Lx_5NA24KzRp"
      },
      "source": [
        "class Encoder(tf.keras.Model):\n",
        "    '''\n",
        "    Encoder model -- That takes a input sequence and returns output sequence\n",
        "    '''\n",
        "\n",
        "    def __init__(self,inp_vocab_size,embedding_size,lstm_size,input_length):\n",
        "        super().__init__()\n",
        "        self.enc_vocab_size = inp_vocab_size\n",
        "        self.embedding_size = embedding_size\n",
        "        self.enc_units = lstm_size\n",
        "        self.enc_input_length = input_length\n",
        "        self.encoder_outputs =0\n",
        "        self.encoder_final_state_h = 0\n",
        "        self.encoder_final_state_c = 0 \n",
        "\n",
        "            \n",
        "        #Initialize Embedding layer\n",
        "        self.embedding = Embedding(input_dim=self.enc_vocab_size +1 , output_dim=self.embedding_size, input_length=self.enc_input_length,\n",
        "                            mask_zero=True, name=\"embedding_layer_encoder\")    \n",
        "\n",
        "        #Intialize Encoder LSTM layer\n",
        "        self.lstm = LSTM(self.enc_units, return_state=True, return_sequences=True, name=\"Encoder_LSTM\")\n",
        "\n",
        "\n",
        "    def call(self,input_sequence,states):\n",
        "        '''\n",
        "            This function takes a sequence input and the initial states of the encoder.\n",
        "            Pass the input_sequence input to the Embedding layer, Pass the embedding layer ouput to encoder_lstm\n",
        "            returns -- All encoder_outputs, last time steps hidden and cell state\n",
        "        '''\n",
        "        input_embedd = self.embedding(input_sequence)\n",
        "        self.encoder_outputs , self.encoder_final_state_h , self.encoder_final_state_c = self.lstm(input_embedd , initial_state = states)\n",
        "        return self.encoder_outputs , self.encoder_final_state_h , self.encoder_final_state_c\n",
        "\n",
        "    \n",
        "    def initialize_states(self,batch_size):\n",
        "        '''\n",
        "        Given a batch size it will return intial hidden state and intial cell state.\n",
        "        If batch size is 32- Hidden state is zeros of size [32,lstm_units], cell state zeros is of size [32,lstm_units]\n",
        "        '''\n",
        "        return tf.zeros([batch_size , self.enc_units]) , tf.zeros([batch_size , self.enc_units])\n",
        "\n",
        "      \n"
      ],
      "execution_count": null,
      "outputs": []
    },
    {
      "cell_type": "markdown",
      "metadata": {
        "id": "4ub9aN-hK244"
      },
      "source": [
        "<font color='cyan'>**Grader function - 1**</font>"
      ]
    },
    {
      "cell_type": "code",
      "metadata": {
        "id": "wRoe65b9LB0D",
        "colab": {
          "base_uri": "https://localhost:8080/"
        },
        "outputId": "8959c133-6bd3-4fa8-eb8d-cc3603922964"
      },
      "source": [
        "def grader_check_encoder():\n",
        "    \n",
        "    '''\n",
        "        vocab-size: Unique words of the input language,\n",
        "        embedding_size: output embedding dimension for each word after embedding layer,\n",
        "        lstm_size: Number of lstm units in encoder,\n",
        "        input_length: Length of the input sentence,\n",
        "        batch_size\n",
        "    '''\n",
        "    \n",
        "    vocab_size=10\n",
        "    embedding_size=20\n",
        "    lstm_size=32\n",
        "    input_length=10\n",
        "    batch_size=16\n",
        "    encoder=Encoder(vocab_size,embedding_size,lstm_size,input_length)\n",
        "    input_sequence=tf.random.uniform(shape=[batch_size,input_length],maxval=vocab_size,minval=0,dtype=tf.int32)\n",
        "    initial_state=encoder.initialize_states(batch_size)\n",
        "    encoder_output,state_h,state_c=encoder(input_sequence,initial_state)\n",
        "    \n",
        "    assert(encoder_output.shape==(batch_size,input_length,lstm_size) and state_h.shape==(batch_size,lstm_size) and state_c.shape==(batch_size,lstm_size))\n",
        "    return True\n",
        "print(grader_check_encoder())"
      ],
      "execution_count": null,
      "outputs": [
        {
          "output_type": "stream",
          "name": "stdout",
          "text": [
            "True\n"
          ]
        }
      ]
    },
    {
      "cell_type": "markdown",
      "metadata": {
        "id": "lXn278lhLYRM"
      },
      "source": [
        "<font color='blue'>**Attention**</font>"
      ]
    },
    {
      "cell_type": "code",
      "metadata": {
        "id": "ab5SNdPZLlur"
      },
      "source": [
        "class Attention(tf.keras.layers.Layer):\n",
        "  '''\n",
        "    Class the calculates score based on the scoring_function using Bahdanu attention mechanism.\n",
        "  '''\n",
        "  def __init__(self,scoring_function, att_units):\n",
        "      \n",
        "\n",
        "    super().__init__()\n",
        "    # Please go through the reference notebook and research paper to complete the scoring functions\n",
        "    self.scoring_function = scoring_function \n",
        "\n",
        "    if self.scoring_function=='dot':\n",
        "      # Intialize variables needed for Dot score function here\n",
        "      pass\n",
        "    if scoring_function == 'general':\n",
        "      # Intialize variables needed for General score function here\n",
        "      self.dense   = Dense(att_units)\n",
        "\n",
        "    elif scoring_function == 'concat':\n",
        "      # Intialize variables needed for Concat score function here\n",
        "      self.k  = 100\n",
        "      self.dense1 = Dense(self.k)\n",
        "      self.dense2 = Dense(self.k)\n",
        "      self.dense3 = Dense(1)\n",
        "  \n",
        "  \n",
        "  def call(self,decoder_hidden_state,encoder_output):\n",
        "    '''\n",
        "      Attention mechanism takes two inputs current step -- decoder_hidden_state and all the encoder_outputs.\n",
        "      * Based on the scoring function we will find the score or similarity between decoder_hidden_state and encoder_output.\n",
        "        Multiply the score function with your encoder_outputs to get the context vector.\n",
        "        Function returns context vector and attention weights(softmax - scores)\n",
        "    '''\n",
        "    \n",
        "    if self.scoring_function == 'dot':\n",
        "        # Implement Dot score function here\n",
        "        decoder_hidden_state = tf.expand_dims(decoder_hidden_state , axis = 2)          #(batch_size , enc_units , 1)  or (batch_size , att_units , 1) \n",
        "        scores = tf.matmul(encoder_output , decoder_hidden_state)                        #  (batch_size ,input_length , enc_units) * (batch_size , enc_units , 1) = (batch_size, input_length , 1)\n",
        "        #you can use dot layer also , \n",
        "        \n",
        "\n",
        "\n",
        "    elif self.scoring_function == 'general':\n",
        "        # Implement General score function here\n",
        "        hidden_state = self.dense(decoder_hidden_state)              \n",
        "        hidden_state = tf.expand_dims(hidden_state , axis = 2)        \n",
        "        scores = tf.matmul(encoder_output , hidden_state)                     \n",
        "\n",
        "\n",
        "    elif self.scoring_function == 'concat':\n",
        "        hidden_state = self.dense1(decoder_hidden_state)             # (batch_size , k)\n",
        "        hidden_state = tf.expand_dims(hidden_state , axis = 1)          #(batch_size , 1, k)  \n",
        "        output = self.dense2(encoder_output)                # (batch_size , input_legth , k)\n",
        "        scores = tf.keras.activations.tanh(tf.add(hidden_state , output))          # (batch_size , input_legth , k)\n",
        "        scores = self.dense3(scores)                          ## (batch_size , input_legth , 1)\n",
        "\n",
        "    attention_weights = tf.nn.softmax(scores , axis = 1)             # (batch_size, input_length , 1)\n",
        "\n",
        "    context_vector =  tf.matmul( tf.transpose(encoder_output , perm = [0,2,1])  , attention_weights )\n",
        "    #(batch_size ,enc_units , input_length )  * (batch_size, input_length , 1)  = (batch_size , enc_units , 1)\n",
        "\n",
        "    context_vector =  context_vector[:,:,-1]               # (batch_size , enc_units)\n",
        "\n",
        "    return context_vector , attention_weights\n",
        "\n",
        "        \n",
        "\n",
        "\n",
        "\n",
        "\n",
        "\n",
        "    \n",
        "    "
      ],
      "execution_count": null,
      "outputs": []
    },
    {
      "cell_type": "code",
      "source": [
        "#transpose and matmul\n",
        "\n",
        "a = tf.constant(np.arange(1, 13, dtype=np.int32), shape=[2, 2, 3])\n",
        "a  = tf.transpose(a, perm = [0,2,1])                    #(2,3,2)      ,perm - A permutation of the dimensions of a.\n",
        "b = tf.constant(np.arange(13, 21, dtype=np.int32), shape=[2, 2, 2])\n",
        "c = tf.matmul(a, b)\n",
        "c  # `a` * `b`\n",
        "\n",
        "\n",
        "\n",
        "\n"
      ],
      "metadata": {
        "colab": {
          "base_uri": "https://localhost:8080/"
        },
        "id": "SuHMvRmTCupJ",
        "outputId": "6d9280b7-c3b9-47bb-d904-c4b07c5f49c2"
      },
      "execution_count": null,
      "outputs": [
        {
          "output_type": "execute_result",
          "data": {
            "text/plain": [
              "<tf.Tensor: shape=(2, 3, 2), dtype=int32, numpy=\n",
              "array([[[ 73,  78],\n",
              "        [101, 108],\n",
              "        [129, 138]],\n",
              "\n",
              "       [[309, 326],\n",
              "        [345, 364],\n",
              "        [381, 402]]], dtype=int32)>"
            ]
          },
          "metadata": {},
          "execution_count": 30
        }
      ]
    },
    {
      "cell_type": "code",
      "source": [
        "#add and expand_dims\n",
        "\n",
        "x = np.arange(15).reshape(3, 5)\n",
        "print(x)\n",
        "print(\"##\"*15)\n",
        "y = np.arange(45).reshape(3, 3, 5)\n",
        "print(y)\n",
        "print(\"##\"*30)\n",
        "\n",
        "x = tf.expand_dims(x , axis = 1)\n",
        "\n",
        "tf.add(x,y)\n"
      ],
      "metadata": {
        "colab": {
          "base_uri": "https://localhost:8080/"
        },
        "id": "oZJWg5XxFd6a",
        "outputId": "3040c7e7-651c-478b-b88f-5926a3d42a7a"
      },
      "execution_count": null,
      "outputs": [
        {
          "output_type": "stream",
          "name": "stdout",
          "text": [
            "[[ 0  1  2  3  4]\n",
            " [ 5  6  7  8  9]\n",
            " [10 11 12 13 14]]\n",
            "##############################\n",
            "[[[ 0  1  2  3  4]\n",
            "  [ 5  6  7  8  9]\n",
            "  [10 11 12 13 14]]\n",
            "\n",
            " [[15 16 17 18 19]\n",
            "  [20 21 22 23 24]\n",
            "  [25 26 27 28 29]]\n",
            "\n",
            " [[30 31 32 33 34]\n",
            "  [35 36 37 38 39]\n",
            "  [40 41 42 43 44]]]\n",
            "############################################################\n"
          ]
        },
        {
          "output_type": "execute_result",
          "data": {
            "text/plain": [
              "<tf.Tensor: shape=(3, 3, 5), dtype=int64, numpy=\n",
              "array([[[ 0,  2,  4,  6,  8],\n",
              "        [ 5,  7,  9, 11, 13],\n",
              "        [10, 12, 14, 16, 18]],\n",
              "\n",
              "       [[20, 22, 24, 26, 28],\n",
              "        [25, 27, 29, 31, 33],\n",
              "        [30, 32, 34, 36, 38]],\n",
              "\n",
              "       [[40, 42, 44, 46, 48],\n",
              "        [45, 47, 49, 51, 53],\n",
              "        [50, 52, 54, 56, 58]]])>"
            ]
          },
          "metadata": {},
          "execution_count": 31
        }
      ]
    },
    {
      "cell_type": "code",
      "source": [
        "#Dot and matmul\n",
        "\n",
        "x = np.arange(5).reshape(1, 5, 1)\n",
        "print(x)\n",
        "y = np.arange(5, 20).reshape(1, 3, 5)\n",
        "print(y)\n",
        "\n",
        "print(\"############\")\n",
        "print(tf.keras.layers.Dot(axes=(1, 2))([x, y]))\n",
        "print(\"############\")\n",
        "\n",
        "print(tf.matmul(y,x))\n",
        "\n",
        "\n"
      ],
      "metadata": {
        "colab": {
          "base_uri": "https://localhost:8080/"
        },
        "id": "bpFRHFnl4ymX",
        "outputId": "81faa489-666d-4b79-d21f-c53e04eb55a6"
      },
      "execution_count": null,
      "outputs": [
        {
          "output_type": "stream",
          "name": "stdout",
          "text": [
            "[[[0]\n",
            "  [1]\n",
            "  [2]\n",
            "  [3]\n",
            "  [4]]]\n",
            "[[[ 5  6  7  8  9]\n",
            "  [10 11 12 13 14]\n",
            "  [15 16 17 18 19]]]\n",
            "############\n",
            "tf.Tensor([[[ 80 130 180]]], shape=(1, 1, 3), dtype=int64)\n",
            "############\n",
            "tf.Tensor(\n",
            "[[[ 80]\n",
            "  [130]\n",
            "  [180]]], shape=(1, 3, 1), dtype=int64)\n"
          ]
        }
      ]
    },
    {
      "cell_type": "markdown",
      "metadata": {
        "id": "ExQDlxI9LuqK"
      },
      "source": [
        "<font color='cyan'>**Grader function - 2**</font>"
      ]
    },
    {
      "cell_type": "code",
      "metadata": {
        "id": "51x50h_TLrl9",
        "colab": {
          "base_uri": "https://localhost:8080/"
        },
        "outputId": "f5fed28e-3270-42ee-ba72-119aed1e4c9f"
      },
      "source": [
        "def grader_check_attention(scoring_fun):\n",
        "    \n",
        "    ''' \n",
        "        att_units: Used in matrix multiplications for scoring functions,\n",
        "        input_length: Length of the input sentence,\n",
        "        batch_size\n",
        "    '''\n",
        "    \n",
        "    input_length=10\n",
        "    batch_size=16\n",
        "    att_units=32\n",
        "    \n",
        "    state_h=tf.random.uniform(shape=[batch_size,att_units])\n",
        "    encoder_output=tf.random.uniform(shape=[batch_size,input_length,att_units])\n",
        "    attention=Attention(scoring_fun,att_units)\n",
        "    context_vector,attention_weights=attention(state_h,encoder_output)\n",
        "\n",
        "    assert(context_vector.shape==(batch_size,att_units) and attention_weights.shape==(batch_size,input_length,1))\n",
        "    return True\n",
        "print(grader_check_attention('dot'))\n",
        "print(grader_check_attention('general'))\n",
        "print(grader_check_attention('concat'))"
      ],
      "execution_count": null,
      "outputs": [
        {
          "output_type": "stream",
          "name": "stdout",
          "text": [
            "True\n",
            "True\n",
            "True\n"
          ]
        }
      ]
    },
    {
      "cell_type": "markdown",
      "metadata": {
        "id": "ic-FNEbfL2DN"
      },
      "source": [
        "<font color='blue'>**OneStepDecoder**</font>"
      ]
    },
    {
      "cell_type": "code",
      "metadata": {
        "id": "Kc8m7lmOL097"
      },
      "source": [
        "class OneStepDecoder(tf.keras.Model):\n",
        "  def __init__(self,tar_vocab_size, embedding_dim, input_length, dec_units ,score_fun ,att_units):\n",
        "\n",
        "        # Initialize decoder embedding layer, LSTM and any other objects needed\n",
        "        super().__init__()\n",
        "        self.tar_vocab_size = tar_vocab_size\n",
        "        self.embedding_dim = embedding_dim\n",
        "        self.input_length = input_length\n",
        "        self.dec_units = dec_units\n",
        "        self.score_fun = score_fun\n",
        "        self.att_units = att_units\n",
        "\n",
        "        self.embedding = Embedding(input_dim= self.tar_vocab_size+1 , output_dim= self.embedding_dim , input_length= self.input_length , mask_zero = True ,weights=[embedding_matrix], trainable=False  )\n",
        "        # self.embedding = Embedding(input_dim= self.tar_vocab_size + 1 , output_dim= self.embedding_dim , input_length= self.input_length , mask_zero = True )\n",
        "        self.lstm = LSTM(self.dec_units , return_state = True , return_sequences = True)\n",
        "        self.attention = Attention(self.score_fun , self.att_units)\n",
        "        self.dense  = Dense(self.tar_vocab_size , activation ='softmax')\n",
        "        \n",
        "\n",
        "  def call(self,input_to_decoder, encoder_output, state_h,state_c):\n",
        "        '''\n",
        "            One step decoder mechanisim step by step:\n",
        "        A. Pass the input_to_decoder to the embedding layer and then get the output(batch_size,1,embedding_dim)\n",
        "        B. Using the encoder_output and decoder hidden state, compute the context vector.\n",
        "        C. Concat the context vector with the step A output\n",
        "        D. Pass the Step-C output to LSTM/GRU and get the decoder output and states(hidden and cell state)\n",
        "        E. Pass the decoder output to dense layer(vocab size) and store the result into output.\n",
        "        F. Return the states from step D, output from Step E, attention weights from Step -B\n",
        "        '''\n",
        "        output_embedd =  self.embedding(input_to_decoder)                      # (batch_size , 1 , embedding_dim)\n",
        "        context_vector , attention_weights = self.attention(state_h , encoder_output)    # context_vector -> (batch_size , att_units)\n",
        "        concated_vector = tf.concat( [tf.expand_dims(context_vector , axis = 1)   , output_embedd ], axis = 2 )\n",
        "        dec_output ,state_h,state_c = self.lstm(concated_vector , initial_state = [state_h , state_c])       # dec_output ->  (batch_size , 1, dec_units)\n",
        "        output = tf.squeeze(self.dense(dec_output))\n",
        "\n",
        "        return output,state_h,state_c,attention_weights,context_vector\n",
        "\n",
        "\n",
        "\n",
        "\n"
      ],
      "execution_count": null,
      "outputs": []
    },
    {
      "cell_type": "markdown",
      "metadata": {
        "id": "R_I8I4EIMAXq"
      },
      "source": [
        "<font color='cyan'>**Grader function - 3**</font>"
      ]
    },
    {
      "cell_type": "markdown",
      "metadata": {
        "id": "6FHrurjUMGAi"
      },
      "source": [
        "<font color='blue'>**Decoder**</font>"
      ]
    },
    {
      "cell_type": "code",
      "metadata": {
        "id": "NV-x31rj6Hc4"
      },
      "source": [
        "class Decoder(tf.keras.Model):\n",
        "    def __init__(self,out_vocab_size, embedding_dim, input_length, dec_units ,score_fun ,att_units):\n",
        "      #Intialize necessary variables and create an object from the class onestepdecoder\n",
        "      super(Decoder , self).__init__()\n",
        "      self.vocab_size = out_vocab_size\n",
        "      self.embedding_dim = embedding_dim\n",
        "      self.input_length = input_length\n",
        "      self.dec_units = dec_units\n",
        "      self.score_fun = score_fun\n",
        "      self.att_units = att_units\n",
        "\n",
        "      self.onestepdecoder = OneStepDecoder(self.vocab_size, self.embedding_dim, self.input_length, self.dec_units ,self.score_fun ,self.att_units)\n",
        "\n",
        "\n",
        "\n",
        "\n",
        "\n",
        "        \n",
        "    def call(self, input_to_decoder,encoder_output,decoder_hidden_state,decoder_cell_state ):\n",
        "\n",
        "        #Initialize an empty Tensor array, that will store the outputs at each and every time step\n",
        "        #Create a tensor array as shown in the reference notebook\n",
        "        # all_outputs = tf.TensorArray(tf.float32 , size=input_to_decoder.shape[1] , name = \"output_arrays\" )\n",
        "        all_outputs = tf.TensorArray(tf.float32 , size= 25 , name = \"output_arrays\" )\n",
        "\n",
        "\n",
        "        \n",
        "        #Iterate till the length of the decoder input\n",
        "            # Call onestepdecoder for each token in decoder_input\n",
        "            # Store the output in tensorarray\n",
        "        # Return the tensor array\n",
        "        for  timestep in range(25):\n",
        "            output,decoder_hidden_state,decoder_cell_state,attention_weights,context_vector = self.onestepdecoder(input_to_decoder[: , timestep : timestep+1], encoder_output, decoder_hidden_state , decoder_cell_state)\n",
        "            all_outputs = all_outputs.write(timestep , output)\n",
        "        all_outputs = tf.transpose(all_outputs.stack() , [1,0,2])\n",
        "\n",
        "        \n",
        "        return all_outputs        # (batch_size,input_length,out_vocab_size)                   ;  input_length  -> decoder_inputs_length      \n",
        "        \n",
        "        \n",
        "    "
      ],
      "execution_count": null,
      "outputs": []
    },
    {
      "cell_type": "markdown",
      "metadata": {
        "id": "FxrL-P8bMJH6"
      },
      "source": [
        "<font color='cyan'>**Grader function - 4**</font>"
      ]
    },
    {
      "cell_type": "markdown",
      "metadata": {
        "id": "fC1T1EOoMTqC"
      },
      "source": [
        "<font color='blue'>**Encoder Decoder model**</font>"
      ]
    },
    {
      "cell_type": "code",
      "metadata": {
        "id": "FfqBIe20MT3D"
      },
      "source": [
        "class encoder_decoder(tf.keras.Model):\n",
        "  def __init__(self,encoder_inputs_length , decoder_inputs_length,score_fun):\n",
        "    #Intialize objects from encoder decoder\n",
        "    super().__init__()\n",
        "    self.encoder = Encoder(inp_vocab_size = vocab_size_ita ,embedding_size=100 , lstm_size = 100 , input_length = encoder_inputs_length )\n",
        "    self.decoder = Decoder(out_vocab_size = vocab_size_eng ,embedding_dim=100 , input_length = decoder_inputs_length , dec_units = 100 , score_fun = score_fun , att_units=100)# att_units is enc_units only\n",
        "\n",
        "  \n",
        "  def call(self,data):\n",
        "    #Intialize encoder states, Pass the encoder_sequence to the embedding layer\n",
        "    # Decoder initial states are encoder final states, Initialize it accordingly\n",
        "    # Pass the decoder sequence,encoder_output,decoder states to Decoder\n",
        "    # return the decoder output\n",
        "    enc_input , dec_input = data[0] , data[1]\n",
        "    enc_initial_states = self.encoder.initialize_states(1024)\n",
        "    enc_output , enc_state_h ,enc_state_c = self.encoder(enc_input , enc_initial_states)\n",
        "    dec_output =  self.decoder(dec_input , enc_output , enc_state_h , enc_state_c)\n",
        "\n",
        "    return dec_output\n",
        "\n",
        "\n",
        "\n",
        "\n",
        "\n",
        "\n",
        "\n",
        "\n"
      ],
      "execution_count": null,
      "outputs": []
    },
    {
      "cell_type": "markdown",
      "metadata": {
        "id": "WVRxB-FDMJWL"
      },
      "source": [
        "<font color='blue'>**Custom loss function**</font>"
      ]
    },
    {
      "cell_type": "code",
      "metadata": {
        "id": "QY_3izrXMs8y"
      },
      "source": [
        "#https://www.tensorflow.org/tutorials/text/image_captioning#model\n",
        "loss_object = tf.keras.losses.SparseCategoricalCrossentropy()\n",
        "\n",
        "\n",
        "def loss_function(real, pred):\n",
        "    \"\"\" Custom loss function that will not consider the loss for padded zeros.\n",
        "    why are we using this, can't we use simple sparse categorical crossentropy?\n",
        "    Yes, you can use simple sparse categorical crossentropy as loss like we did in task-1. But in this loss function we are ignoring the loss\n",
        "    for the padded zeros. i.e when the input is zero then we donot need to worry what the output is. This padded zeros are added from our end\n",
        "    during preprocessing to make equal length for all the sentences.\n",
        "\n",
        "    \"\"\"\n",
        "    \n",
        "    \n",
        "    mask = tf.math.logical_not(tf.math.equal(real, 0))\n",
        "    loss_ = loss_object(real, pred)\n",
        "\n",
        "    mask = tf.cast(mask, dtype=loss_.dtype)\n",
        "    loss_ *= mask\n",
        "\n",
        "    return tf.reduce_mean(loss_)"
      ],
      "execution_count": null,
      "outputs": []
    },
    {
      "cell_type": "markdown",
      "metadata": {
        "id": "2QlbWAqNNlqe"
      },
      "source": [
        "<font color='blue'>**Training**</font>"
      ]
    },
    {
      "cell_type": "code",
      "metadata": {
        "id": "qiuy33UMFlpO"
      },
      "source": [
        "class Dataset:\n",
        "    def __init__(self, data, tknizer_ita, tknizer_eng, max_len_ita , max_len_eng):\n",
        "        self.encoder_inps = data['italian'].values\n",
        "        self.decoder_inps = data['english_inp'].values\n",
        "        self.decoder_outs = data['english_out'].values\n",
        "        self.tknizer_eng = tknizer_eng\n",
        "        self.tknizer_ita = tknizer_ita\n",
        "        self.max_len_ita = max_len_ita\n",
        "        self.max_len_eng = max_len_eng\n",
        "\n",
        "    def __getitem__(self, i):                                         \n",
        "        self.encoder_seq = self.tknizer_ita.texts_to_sequences([self.encoder_inps[i]]) # need to pass list of values\n",
        "        self.decoder_inp_seq = self.tknizer_eng.texts_to_sequences([self.decoder_inps[i]])\n",
        "        self.decoder_out_seq = self.tknizer_eng.texts_to_sequences([self.decoder_outs[i]])\n",
        "\n",
        "        self.encoder_seq = pad_sequences(self.encoder_seq, maxlen=self.max_len_ita, dtype='int32', padding='post')\n",
        "        self.decoder_inp_seq = pad_sequences(self.decoder_inp_seq, maxlen=self.max_len_eng, dtype='int32', padding='post')\n",
        "        self.decoder_out_seq = pad_sequences(self.decoder_out_seq, maxlen=self.max_len_eng, dtype='int32', padding='post')\n",
        "        return self.encoder_seq, self.decoder_inp_seq, self.decoder_out_seq\n",
        "\n",
        "    def __len__(self): # your model.fit_gen requires this function\n",
        "        return len(self.encoder_inps)\n",
        "\n",
        "    \n",
        "class Dataloder(tf.keras.utils.Sequence):    \n",
        "    def __init__(self, dataset, batch_size=1):\n",
        "        self.dataset = dataset\n",
        "        self.batch_size = batch_size\n",
        "        self.indexes = np.arange(len(self.dataset.encoder_inps))\n",
        "\n",
        "\n",
        "    def __getitem__(self, i):\n",
        "        start = i * self.batch_size\n",
        "        stop = (i + 1) * self.batch_size\n",
        "        data = []\n",
        "        for j in range(start, stop):\n",
        "            data.append(self.dataset[j])                 #  three things will be appended\n",
        "\n",
        "        batch = [np.squeeze(np.stack(samples, axis=1), axis=0) for samples in zip(*data)]\n",
        "        # we are creating data like ([italian, english_inp], english_out) these are already converted into seq\n",
        "        return tuple([[batch[0],batch[1]],batch[2]])\n",
        "\n",
        "    def __len__(self):  # your model.fit_gen requires this function\n",
        "        return len(self.indexes) // self.batch_size\n",
        "\n",
        "    def on_epoch_end(self):\n",
        "        self.indexes = np.random.permutation(self.indexes)"
      ],
      "execution_count": null,
      "outputs": []
    },
    {
      "cell_type": "code",
      "metadata": {
        "colab": {
          "base_uri": "https://localhost:8080/"
        },
        "outputId": "f5a1f8d9-745d-4adb-8b4e-f6db804ba8e6",
        "id": "gitoOkhsFlpP"
      },
      "source": [
        "train_dataset = Dataset(train, tknizer_ita, tknizer_eng, 22 , 25 )\n",
        "test_dataset  = Dataset(validation, tknizer_ita, tknizer_eng, 22, 25)\n",
        "\n",
        "train_dataloader = Dataloder(train_dataset, batch_size=1024)\n",
        "test_dataloader = Dataloder(test_dataset, batch_size=1024)\n",
        "\n",
        "\n",
        "print(train_dataloader[0][0][0].shape, train_dataloader[0][0][1].shape, train_dataloader[0][1].shape)"
      ],
      "execution_count": null,
      "outputs": [
        {
          "output_type": "stream",
          "name": "stdout",
          "text": [
            "(1024, 22) (1024, 25) (1024, 25)\n"
          ]
        }
      ]
    },
    {
      "cell_type": "code",
      "metadata": {
        "id": "PWKg9okWFlpP"
      },
      "source": [
        "#Create an object of encoder_decoder Model class, \n",
        "# Compile the model and fit the model\n",
        "\n",
        "model_dot  = encoder_decoder(encoder_inputs_length=22,decoder_inputs_length=25 , score_fun = \"dot\")\n",
        "\n",
        "optimizer = tf.keras.optimizers.Adam()\n",
        "\n",
        "model_dot.compile(optimizer=optimizer,loss= loss_function)"
      ],
      "execution_count": null,
      "outputs": []
    },
    {
      "cell_type": "code",
      "source": [
        "earlystop = tf.keras.callbacks.EarlyStopping(\n",
        "    monitor='val_loss', min_delta=0, patience=4, verbose=0, mode='min'  ,restore_best_weights = True \n",
        ")\n",
        "reduceLR = tf.keras.callbacks.ReduceLROnPlateau(\n",
        "    monitor='val_loss',\n",
        "    factor=0.1,\n",
        "    patience=2,\n",
        "    mode='min'\n",
        ")\n",
        "\n",
        "%load_ext tensorboard\n",
        "# Clear any logs from previous runs\n",
        "!rm -rf ./logs/ \n",
        "log_dir=\"/content/logs/fit/model_dot\"         \n",
        "tensorboard_callback = tf.keras.callbacks.TensorBoard(log_dir=log_dir,histogram_freq=1, write_graph=True)  \n",
        "\n",
        "callbacks = [reduceLR , earlystop , tensorboard_callback]\n"
      ],
      "metadata": {
        "id": "uxFzsl04FlpQ"
      },
      "execution_count": null,
      "outputs": []
    },
    {
      "cell_type": "code",
      "source": [
        "train_steps=train.shape[0]//1024\n",
        "valid_steps=validation.shape[0]//1024\n",
        "model_dot.fit(train_dataloader, steps_per_epoch=train_steps, epochs=50, validation_data=test_dataloader, validation_steps=valid_steps , callbacks = callbacks)\n",
        "model_dot.summary()"
      ],
      "metadata": {
        "colab": {
          "base_uri": "https://localhost:8080/"
        },
        "outputId": "cc4e9943-0002-4728-be76-83d9f594fe69",
        "id": "5k5l8s81FlpQ"
      },
      "execution_count": null,
      "outputs": [
        {
          "output_type": "stream",
          "name": "stdout",
          "text": [
            "Epoch 1/50\n",
            "276/276 [==============================] - 186s 536ms/step - loss: 0.6675 - val_loss: 0.3876 - lr: 0.0010\n",
            "Epoch 2/50\n",
            "276/276 [==============================] - 139s 503ms/step - loss: 0.3754 - val_loss: 0.3584 - lr: 0.0010\n",
            "Epoch 3/50\n",
            "276/276 [==============================] - 139s 504ms/step - loss: 0.3507 - val_loss: 0.3359 - lr: 0.0010\n",
            "Epoch 4/50\n",
            "276/276 [==============================] - 139s 504ms/step - loss: 0.3249 - val_loss: 0.3072 - lr: 0.0010\n",
            "Epoch 5/50\n",
            "276/276 [==============================] - 140s 505ms/step - loss: 0.2971 - val_loss: 0.2829 - lr: 0.0010\n",
            "Epoch 6/50\n",
            "276/276 [==============================] - 139s 504ms/step - loss: 0.2732 - val_loss: 0.2604 - lr: 0.0010\n",
            "Epoch 7/50\n",
            "276/276 [==============================] - 139s 504ms/step - loss: 0.2516 - val_loss: 0.2410 - lr: 0.0010\n",
            "Epoch 8/50\n",
            "276/276 [==============================] - 139s 504ms/step - loss: 0.2326 - val_loss: 0.2242 - lr: 0.0010\n",
            "Epoch 9/50\n",
            "276/276 [==============================] - 139s 504ms/step - loss: 0.2161 - val_loss: 0.2096 - lr: 0.0010\n",
            "Epoch 10/50\n",
            "276/276 [==============================] - 146s 528ms/step - loss: 0.2017 - val_loss: 0.1968 - lr: 0.0010\n",
            "Epoch 11/50\n",
            "276/276 [==============================] - 139s 504ms/step - loss: 0.1889 - val_loss: 0.1859 - lr: 0.0010\n",
            "Epoch 12/50\n",
            "276/276 [==============================] - 139s 504ms/step - loss: 0.1775 - val_loss: 0.1762 - lr: 0.0010\n",
            "Epoch 13/50\n",
            "276/276 [==============================] - 139s 504ms/step - loss: 0.1673 - val_loss: 0.1676 - lr: 0.0010\n",
            "Epoch 14/50\n",
            "276/276 [==============================] - 139s 504ms/step - loss: 0.1579 - val_loss: 0.1594 - lr: 0.0010\n",
            "Epoch 15/50\n",
            "276/276 [==============================] - 139s 505ms/step - loss: 0.1492 - val_loss: 0.1521 - lr: 0.0010\n",
            "Epoch 16/50\n",
            "276/276 [==============================] - 140s 506ms/step - loss: 0.1412 - val_loss: 0.1459 - lr: 0.0010\n",
            "Epoch 17/50\n",
            "276/276 [==============================] - 146s 529ms/step - loss: 0.1337 - val_loss: 0.1394 - lr: 0.0010\n",
            "Epoch 18/50\n",
            "276/276 [==============================] - 140s 505ms/step - loss: 0.1267 - val_loss: 0.1338 - lr: 0.0010\n",
            "Epoch 19/50\n",
            "276/276 [==============================] - 140s 506ms/step - loss: 0.1201 - val_loss: 0.1289 - lr: 0.0010\n",
            "Epoch 20/50\n",
            "276/276 [==============================] - 140s 506ms/step - loss: 0.1141 - val_loss: 0.1242 - lr: 0.0010\n",
            "Epoch 21/50\n",
            "276/276 [==============================] - 139s 505ms/step - loss: 0.1084 - val_loss: 0.1200 - lr: 0.0010\n",
            "Epoch 22/50\n",
            "276/276 [==============================] - 139s 505ms/step - loss: 0.1031 - val_loss: 0.1161 - lr: 0.0010\n",
            "Epoch 23/50\n",
            "276/276 [==============================] - 140s 505ms/step - loss: 0.0982 - val_loss: 0.1123 - lr: 0.0010\n",
            "Epoch 24/50\n",
            "276/276 [==============================] - 139s 505ms/step - loss: 0.0936 - val_loss: 0.1095 - lr: 0.0010\n",
            "Epoch 25/50\n",
            "276/276 [==============================] - 139s 505ms/step - loss: 0.0893 - val_loss: 0.1060 - lr: 0.0010\n",
            "Epoch 26/50\n",
            "276/276 [==============================] - 139s 505ms/step - loss: 0.0853 - val_loss: 0.1035 - lr: 0.0010\n",
            "Epoch 27/50\n",
            "276/276 [==============================] - 140s 505ms/step - loss: 0.0816 - val_loss: 0.1011 - lr: 0.0010\n",
            "Epoch 28/50\n",
            "276/276 [==============================] - 140s 506ms/step - loss: 0.0781 - val_loss: 0.0991 - lr: 0.0010\n",
            "Epoch 29/50\n",
            "276/276 [==============================] - 140s 505ms/step - loss: 0.0749 - val_loss: 0.0963 - lr: 0.0010\n",
            "Epoch 30/50\n",
            "276/276 [==============================] - 140s 505ms/step - loss: 0.0718 - val_loss: 0.0950 - lr: 0.0010\n",
            "Epoch 31/50\n",
            "276/276 [==============================] - 140s 505ms/step - loss: 0.0690 - val_loss: 0.0931 - lr: 0.0010\n",
            "Epoch 32/50\n",
            "276/276 [==============================] - 140s 505ms/step - loss: 0.0663 - val_loss: 0.0916 - lr: 0.0010\n",
            "Epoch 33/50\n",
            "276/276 [==============================] - 139s 505ms/step - loss: 0.0638 - val_loss: 0.0900 - lr: 0.0010\n",
            "Epoch 34/50\n",
            "276/276 [==============================] - 140s 505ms/step - loss: 0.0614 - val_loss: 0.0885 - lr: 0.0010\n",
            "Epoch 35/50\n",
            "276/276 [==============================] - 139s 505ms/step - loss: 0.0592 - val_loss: 0.0875 - lr: 0.0010\n",
            "Epoch 36/50\n",
            "276/276 [==============================] - 140s 506ms/step - loss: 0.0572 - val_loss: 0.0860 - lr: 0.0010\n",
            "Epoch 37/50\n",
            "276/276 [==============================] - 140s 506ms/step - loss: 0.0552 - val_loss: 0.0851 - lr: 0.0010\n",
            "Epoch 38/50\n",
            "276/276 [==============================] - 140s 506ms/step - loss: 0.0534 - val_loss: 0.0840 - lr: 0.0010\n",
            "Epoch 39/50\n",
            "276/276 [==============================] - 140s 507ms/step - loss: 0.0516 - val_loss: 0.0831 - lr: 0.0010\n",
            "Epoch 40/50\n",
            "276/276 [==============================] - 140s 506ms/step - loss: 0.0499 - val_loss: 0.0823 - lr: 0.0010\n",
            "Epoch 41/50\n",
            "276/276 [==============================] - 140s 506ms/step - loss: 0.0485 - val_loss: 0.0815 - lr: 0.0010\n",
            "Epoch 42/50\n",
            "276/276 [==============================] - 140s 506ms/step - loss: 0.0469 - val_loss: 0.0812 - lr: 0.0010\n",
            "Epoch 43/50\n",
            "276/276 [==============================] - 139s 505ms/step - loss: 0.0456 - val_loss: 0.0802 - lr: 0.0010\n",
            "Epoch 44/50\n",
            "276/276 [==============================] - 139s 505ms/step - loss: 0.0443 - val_loss: 0.0797 - lr: 0.0010\n",
            "Epoch 45/50\n",
            "276/276 [==============================] - 140s 506ms/step - loss: 0.0430 - val_loss: 0.0797 - lr: 0.0010\n",
            "Epoch 46/50\n",
            "276/276 [==============================] - 140s 505ms/step - loss: 0.0419 - val_loss: 0.0793 - lr: 0.0010\n",
            "Epoch 47/50\n",
            "276/276 [==============================] - 139s 505ms/step - loss: 0.0407 - val_loss: 0.0788 - lr: 0.0010\n",
            "Epoch 48/50\n",
            "276/276 [==============================] - 139s 505ms/step - loss: 0.0396 - val_loss: 0.0781 - lr: 0.0010\n",
            "Epoch 49/50\n",
            "276/276 [==============================] - 139s 504ms/step - loss: 0.0387 - val_loss: 0.0782 - lr: 0.0010\n",
            "Epoch 50/50\n",
            "276/276 [==============================] - 139s 504ms/step - loss: 0.0376 - val_loss: 0.0779 - lr: 0.0010\n",
            "Model: \"encoder_decoder\"\n",
            "_________________________________________________________________\n",
            " Layer (type)                Output Shape              Param #   \n",
            "=================================================================\n",
            " encoder_1 (Encoder)         multiple                  2758000   \n",
            "                                                                 \n",
            " decoder (Decoder)           multiple                  2750786   \n",
            "                                                                 \n",
            "=================================================================\n",
            "Total params: 5,508,786\n",
            "Trainable params: 4,200,086\n",
            "Non-trainable params: 1,308,700\n",
            "_________________________________________________________________\n"
          ]
        }
      ]
    },
    {
      "cell_type": "code",
      "source": [
        "model_dot.summary()\n"
      ],
      "metadata": {
        "colab": {
          "base_uri": "https://localhost:8080/"
        },
        "id": "ZRxfh83_od1P",
        "outputId": "aba6e7bf-3aec-4fae-d4fc-8a3f76c94cdb"
      },
      "execution_count": null,
      "outputs": [
        {
          "output_type": "stream",
          "name": "stdout",
          "text": [
            "Model: \"encoder_decoder\"\n",
            "_________________________________________________________________\n",
            " Layer (type)                Output Shape              Param #   \n",
            "=================================================================\n",
            " encoder_1 (Encoder)         multiple                  2758000   \n",
            "                                                                 \n",
            " decoder (Decoder)           multiple                  2750786   \n",
            "                                                                 \n",
            "=================================================================\n",
            "Total params: 5,508,786\n",
            "Trainable params: 4,200,086\n",
            "Non-trainable params: 1,308,700\n",
            "_________________________________________________________________\n"
          ]
        }
      ]
    },
    {
      "cell_type": "code",
      "source": [
        "import matplotlib.pyplot as plt\n",
        "import matplotlib.ticker as ticker\n",
        "\n",
        "#Refer: https://www.tensorflow.org/tutorials/text/nmt_with_attention#translate\n",
        "\n",
        "def plot_attention(attention, sentence, predicted_sentence):\n",
        "  fig = plt.figure(figsize=(10, 10))\n",
        "  ax = fig.add_subplot(1, 1, 1)\n",
        "  sentence , predicted_sentence = sentence.split() , predicted_sentence.split()\n",
        "\n",
        "  attention = attention[:len(predicted_sentence), :len(sentence)]\n",
        "\n",
        "  ax.matshow(attention, cmap='viridis', vmin=0.0)\n",
        "\n",
        "  fontdict = {'fontsize': 14}\n",
        "\n",
        "  ax.set_xticklabels([''] + sentence, fontdict=fontdict, rotation=90)\n",
        "  ax.set_yticklabels([''] + predicted_sentence, fontdict=fontdict)\n",
        "\n",
        "  ax.xaxis.set_major_locator(ticker.MultipleLocator(1))\n",
        "  ax.yaxis.set_major_locator(ticker.MultipleLocator(1))\n",
        "\n",
        "  ax.set_xlabel('Input text')\n",
        "  ax.set_ylabel('Output text')\n",
        "  plt.suptitle('Attention weights')\n"
      ],
      "metadata": {
        "id": "wNosAO3O-rVI"
      },
      "execution_count": null,
      "outputs": []
    },
    {
      "cell_type": "code",
      "metadata": {
        "id": "KHWzAOQPvudj"
      },
      "source": [
        "def predict(input_sentence):\n",
        "\n",
        "    '''\n",
        "    A. Given input sentence, convert the sentence into integers using tokenizer used earlier\n",
        "    B. Pass the input_sequence to encoder. we get encoder_outputs, last time step hidden and cell state\n",
        "    C. Initialize index of <start> as input to decoder. and encoder final states as input_states to onestepdecoder.\n",
        "    D. till we reach max_length of decoder or till the model predicted word <end>:\n",
        "            predictions, input_states, attention_weights = model.layers[1].onestepdecoder(input_to_decoder, encoder_output, input_states)\n",
        "            Save the attention weights\n",
        "            And get the word using the tokenizer(word index) and then store it in a string.\n",
        "    E. Call plot_attention(#params)\n",
        "    F. Return the predicted sentence\n",
        "    '''\n",
        "    sequence_ita = tknizer_ita.texts_to_sequences([input_sentence])\n",
        "    sequence_ita = pad_sequences(sequence_ita, maxlen=22, dtype='int32', padding='post')\n",
        "    initial_states = model_dot.layers[0].initialize_states(1)               # batch_size , enc_units\n",
        "    # initial_states = tf.zeros([1 , 100]) , tf.zeros([1 , 100])              # batch_size , enc_units\n",
        "\n",
        "    enc_outputs,final_state_h , final_state_c =  model_dot.layers[0]( sequence_ita , initial_states)\n",
        "\n",
        "\n",
        "    input_dec = tknizer_eng.word_index['<start>']\n",
        "    word_index_end = tknizer_eng.word_index['<end>']\n",
        "    list_of_attention_weights =  tf.TensorArray(tf.float32, size=0, dynamic_size=True, clear_after_read=False)\n",
        "    predicted_sentence = \"\"\n",
        "    i=0\n",
        "\n",
        "    for i in range(25):\n",
        "        output , final_state_h , final_state_c , attention_weights , context_vector = model_dot.layers[1].onestepdecoder(tf.cast(tf.reshape(input_dec , [1,1]) , tf.int32) , enc_outputs , final_state_h , final_state_c)\n",
        "        # print(output.shape)                  # (13086,)\n",
        "        # print(final_state_h.shape)           # (1, 100)\n",
        "        # print(final_state_c.shape)           # (1, 100)\n",
        "        # print(attention_weights.shape)       # (1, 22, 1)\n",
        "        # print(tf.squeeze(attention_weights).shape)    # (22,)\n",
        "\n",
        "        list_of_attention_weights = list_of_attention_weights.write(i,tf.squeeze(attention_weights))\n",
        "        i+=1\n",
        "\n",
        "        input_dec = np.argmax(output)\n",
        "        if input_dec == word_index_end:\n",
        "            break\n",
        "\n",
        "        predicted_sentence += \" \" + tknizer_eng.index_word[input_dec]\n",
        "\n",
        "    plot_attention(list_of_attention_weights.stack() , input_sentence , predicted_sentence)\n",
        "    # print(list_of_attention_weights.stack().shape)\n",
        "\n",
        "    return predicted_sentence \n",
        "    \n",
        "\n",
        "\n",
        "\n",
        "\n"
      ],
      "execution_count": null,
      "outputs": []
    },
    {
      "cell_type": "code",
      "source": [
        "ta = tf.TensorArray(tf.float32, size=0, dynamic_size=True, clear_after_read=False)\n",
        "ta = ta.write(0, tf.constant([1.0, 2.0]))\n",
        "ta = ta.write(1,  tf.constant([4.0, 23.0]))\n",
        "ta = ta.write(2,  tf.constant([19.0, 23.0]))\n",
        "\n",
        "print(ta.read(0))\n",
        "\n",
        "print(ta.read(1))\n",
        "\n",
        "print(ta.read(2))\n",
        "\n",
        "print(ta.stack())\n",
        "\n"
      ],
      "metadata": {
        "colab": {
          "base_uri": "https://localhost:8080/"
        },
        "outputId": "468bc3cd-2f99-4b9f-fe2d-de17198b6ec8",
        "id": "3n-yDffpvudj"
      },
      "execution_count": null,
      "outputs": [
        {
          "output_type": "stream",
          "name": "stdout",
          "text": [
            "tf.Tensor([1. 2.], shape=(2,), dtype=float32)\n",
            "tf.Tensor([ 4. 23.], shape=(2,), dtype=float32)\n",
            "tf.Tensor([19. 23.], shape=(2,), dtype=float32)\n",
            "tf.Tensor(\n",
            "[[ 1.  2.]\n",
            " [ 4. 23.]\n",
            " [19. 23.]], shape=(3, 2), dtype=float32)\n"
          ]
        }
      ]
    },
    {
      "cell_type": "code",
      "source": [
        "print('italian sentece------------' ,validation['italian'].iloc[0] )\n",
        "print('original english sentece---' , validation['english_inp'].iloc[0][8:])\n",
        "print('predicted english sentece--' , predict(validation['italian'].iloc[0]))\n"
      ],
      "metadata": {
        "colab": {
          "base_uri": "https://localhost:8080/",
          "height": 615
        },
        "outputId": "c744d0c7-d32d-4b43-d69e-6ce9942832a6",
        "id": "siMYZAuBvudk"
      },
      "execution_count": null,
      "outputs": [
        {
          "output_type": "stream",
          "name": "stdout",
          "text": [
            "italian sentece------------ tom rimase a casa per tutto il giorno\n",
            "original english sentece--- tom stayed home all day\n",
            "predicted english sentece--  tom stayed home all day\n"
          ]
        },
        {
          "output_type": "display_data",
          "data": {
            "text/plain": [
              "<Figure size 720x720 with 1 Axes>"
            ],
            "image/png": "[encoded data removed]"
          },
          "metadata": {
            "needs_background": "light"
          }
        }
      ]
    },
    {
      "cell_type": "code",
      "source": [
        "print('italian sentece------------' ,validation['italian'].iloc[1] )\n",
        "print('original english sentece---' , validation['english_inp'].iloc[1][8:])\n",
        "print('predicted english sentece--' , predict(validation['italian'].iloc[1]))"
      ],
      "metadata": {
        "colab": {
          "base_uri": "https://localhost:8080/",
          "height": 712
        },
        "id": "vySNRpE3HaCz",
        "outputId": "6ba3c740-6aaf-4acd-c2c1-c9a7f5512944"
      },
      "execution_count": null,
      "outputs": [
        {
          "output_type": "stream",
          "name": "stdout",
          "text": [
            "italian sentece------------ io dovevo dire qualcosa\n",
            "original english sentece--- i had to say something\n",
            "predicted english sentece--  i had to say something\n"
          ]
        },
        {
          "output_type": "display_data",
          "data": {
            "text/plain": [
              "<Figure size 720x720 with 1 Axes>"
            ],
            "image/png": "[encoded data removed]"
          },
          "metadata": {
            "needs_background": "light"
          }
        }
      ]
    },
    {
      "cell_type": "code",
      "source": [
        "italian_10 = validation.head(10)['italian']\n",
        "original_english_10 = validation.head(10)['english_out']\n",
        "predicted_sentence_10 = []\n",
        "\n",
        "for italian in italian_10:\n",
        "  predicted_sentence_10.append(predict(italian))\n",
        "\n",
        "result_10 = pd.DataFrame({'original' : original_english_10 , 'predicted' : predicted_sentence_10})\n",
        "result_10"
      ],
      "metadata": {
        "colab": {
          "base_uri": "https://localhost:8080/",
          "height": 363
        },
        "outputId": "611c5443-c7dc-49e8-f9ed-f76933ccc42e",
        "id": "wFvphWKEvudk"
      },
      "execution_count": null,
      "outputs": [
        {
          "output_type": "execute_result",
          "data": {
            "text/plain": [
              "                                             original  \\\n",
              "144180                  tom stayed home all day <end>   \n",
              "120500                   i had to say something <end>   \n",
              "137797                  i want to get rid of it <end>   \n",
              "78480                      it is very hot today <end>   \n",
              "320129  he told his assistant that he would win <end>   \n",
              "218316            i am not one of your soldiers <end>   \n",
              "316039   i knew it would happen sooner or later <end>   \n",
              "106906                i would like to go faster <end>   \n",
              "317803   things are getting out of control here <end>   \n",
              "28335                          i am not worried <end>   \n",
              "\n",
              "                                               predicted  \n",
              "144180                           tom stayed home all day  \n",
              "120500                            i had to say something  \n",
              "137797                           i want to get rid of it  \n",
              "78480                            there is very hot today  \n",
              "320129   he acknowledged his assistant that he would win  \n",
              "218316                     i am not one of your soldiers  \n",
              "316039      i knew that would happen sooner later or now  \n",
              "106906                         i would like to go faster  \n",
              "317803               things are going out out of the way  \n",
              "28335                                   i am not worried  "
            ],
            "text/html": [
              "\n",
              "  <div id=\"df-6639fbb7-c816-4eaf-b506-d05577023548\">\n",
              "    <div class=\"colab-df-container\">\n",
              "      <div>\n",
              "<style scoped>\n",
              "    .dataframe tbody tr th:only-of-type {\n",
              "        vertical-align: middle;\n",
              "    }\n",
              "\n",
              "    .dataframe tbody tr th {\n",
              "        vertical-align: top;\n",
              "    }\n",
              "\n",
              "    .dataframe thead th {\n",
              "        text-align: right;\n",
              "    }\n",
              "</style>\n",
              "<table border=\"1\" class=\"dataframe\">\n",
              "  <thead>\n",
              "    <tr style=\"text-align: right;\">\n",
              "      <th></th>\n",
              "      <th>original</th>\n",
              "      <th>predicted</th>\n",
              "    </tr>\n",
              "  </thead>\n",
              "  <tbody>\n",
              "    <tr>\n",
              "      <th>144180</th>\n",
              "      <td>tom stayed home all day &lt;end&gt;</td>\n",
              "      <td>tom stayed home all day</td>\n",
              "    </tr>\n",
              "    <tr>\n",
              "      <th>120500</th>\n",
              "      <td>i had to say something &lt;end&gt;</td>\n",
              "      <td>i had to say something</td>\n",
              "    </tr>\n",
              "    <tr>\n",
              "      <th>137797</th>\n",
              "      <td>i want to get rid of it &lt;end&gt;</td>\n",
              "      <td>i want to get rid of it</td>\n",
              "    </tr>\n",
              "    <tr>\n",
              "      <th>78480</th>\n",
              "      <td>it is very hot today &lt;end&gt;</td>\n",
              "      <td>there is very hot today</td>\n",
              "    </tr>\n",
              "    <tr>\n",
              "      <th>320129</th>\n",
              "      <td>he told his assistant that he would win &lt;end&gt;</td>\n",
              "      <td>he acknowledged his assistant that he would win</td>\n",
              "    </tr>\n",
              "    <tr>\n",
              "      <th>218316</th>\n",
              "      <td>i am not one of your soldiers &lt;end&gt;</td>\n",
              "      <td>i am not one of your soldiers</td>\n",
              "    </tr>\n",
              "    <tr>\n",
              "      <th>316039</th>\n",
              "      <td>i knew it would happen sooner or later &lt;end&gt;</td>\n",
              "      <td>i knew that would happen sooner later or now</td>\n",
              "    </tr>\n",
              "    <tr>\n",
              "      <th>106906</th>\n",
              "      <td>i would like to go faster &lt;end&gt;</td>\n",
              "      <td>i would like to go faster</td>\n",
              "    </tr>\n",
              "    <tr>\n",
              "      <th>317803</th>\n",
              "      <td>things are getting out of control here &lt;end&gt;</td>\n",
              "      <td>things are going out out of the way</td>\n",
              "    </tr>\n",
              "    <tr>\n",
              "      <th>28335</th>\n",
              "      <td>i am not worried &lt;end&gt;</td>\n",
              "      <td>i am not worried</td>\n",
              "    </tr>\n",
              "  </tbody>\n",
              "</table>\n",
              "</div>\n",
              "      <button class=\"colab-df-convert\" onclick=\"convertToInteractive('df-6639fbb7-c816-4eaf-b506-d05577023548')\"\n",
              "              title=\"Convert this dataframe to an interactive table.\"\n",
              "              style=\"display:none;\">\n",
              "        \n",
              "  <svg xmlns=\"http://www.w3.org/2000/svg\" height=\"24px\"viewBox=\"0 0 24 24\"\n",
              "       width=\"24px\">\n",
              "    <path d=\"M0 0h24v24H0V0z\" fill=\"none\"/>\n",
              "    <path d=\"M18.56 5.44l.94 2.06.94-2.06 2.06-.94-2.06-.94-.94-2.06-.94 2.06-2.06.94zm-11 1L8.5 8.5l.94-2.06 2.06-.94-2.06-.94L8.5 2.5l-.94 2.06-2.06.94zm10 10l.94 2.06.94-2.06 2.06-.94-2.06-.94-.94-2.06-.94 2.06-2.06.94z\"/><path d=\"M17.41 7.96l-1.37-1.37c-.4-.4-.92-.59-1.43-.59-.52 0-1.04.2-1.43.59L10.3 9.45l-7.72 7.72c-.78.78-.78 2.05 0 2.83L4 21.41c.39.39.9.59 1.41.59.51 0 1.02-.2 1.41-.59l7.78-7.78 2.81-2.81c.8-.78.8-2.07 0-2.86zM5.41 20L4 18.59l7.72-7.72 1.47 1.35L5.41 20z\"/>\n",
              "  </svg>\n",
              "      </button>\n",
              "      \n",
              "  <style>\n",
              "    .colab-df-container {\n",
              "      display:flex;\n",
              "      flex-wrap:wrap;\n",
              "      gap: 12px;\n",
              "    }\n",
              "\n",
              "    .colab-df-convert {\n",
              "      background-color: #E8F0FE;\n",
              "      border: none;\n",
              "      border-radius: 50%;\n",
              "      cursor: pointer;\n",
              "      display: none;\n",
              "      fill: #1967D2;\n",
              "      height: 32px;\n",
              "      padding: 0 0 0 0;\n",
              "      width: 32px;\n",
              "    }\n",
              "\n",
              "    .colab-df-convert:hover {\n",
              "      background-color: #E2EBFA;\n",
              "      box-shadow: 0px 1px 2px rgba(60, 64, 67, 0.3), 0px 1px 3px 1px rgba(60, 64, 67, 0.15);\n",
              "      fill: #174EA6;\n",
              "    }\n",
              "\n",
              "    [theme=dark] .colab-df-convert {\n",
              "      background-color: #3B4455;\n",
              "      fill: #D2E3FC;\n",
              "    }\n",
              "\n",
              "    [theme=dark] .colab-df-convert:hover {\n",
              "      background-color: #434B5C;\n",
              "      box-shadow: 0px 1px 3px 1px rgba(0, 0, 0, 0.15);\n",
              "      filter: drop-shadow(0px 1px 2px rgba(0, 0, 0, 0.3));\n",
              "      fill: #FFFFFF;\n",
              "    }\n",
              "  </style>\n",
              "\n",
              "      <script>\n",
              "        const buttonEl =\n",
              "          document.querySelector('#df-6639fbb7-c816-4eaf-b506-d05577023548 button.colab-df-convert');\n",
              "        buttonEl.style.display =\n",
              "          google.colab.kernel.accessAllowed ? 'block' : 'none';\n",
              "\n",
              "        async function convertToInteractive(key) {\n",
              "          const element = document.querySelector('#df-6639fbb7-c816-4eaf-b506-d05577023548');\n",
              "          const dataTable =\n",
              "            await google.colab.kernel.invokeFunction('convertToInteractive',\n",
              "                                                     [key], {});\n",
              "          if (!dataTable) return;\n",
              "\n",
              "          const docLinkHtml = 'Like what you see? Visit the ' +\n",
              "            '<a target=\"_blank\" href=https://colab.research.google.com/notebooks/data_table.ipynb>data table notebook</a>'\n",
              "            + ' to learn more about interactive tables.';\n",
              "          element.innerHTML = '';\n",
              "          dataTable['output_type'] = 'display_data';\n",
              "          await google.colab.output.renderOutput(dataTable, element);\n",
              "          const docLink = document.createElement('div');\n",
              "          docLink.innerHTML = docLinkHtml;\n",
              "          element.appendChild(docLink);\n",
              "        }\n",
              "      </script>\n",
              "    </div>\n",
              "  </div>\n",
              "  "
            ]
          },
          "metadata": {},
          "execution_count": 48
        }
      ]
    },
    {
      "cell_type": "markdown",
      "metadata": {
        "id": "qnmdQhVsvudk"
      },
      "source": [
        "<font color='blue'>**Calculate BLEU score**</font>"
      ]
    },
    {
      "cell_type": "code",
      "source": [
        "import nltk.translate.bleu_score as bleu\n",
        "import random\n",
        "# https://www.nltk.org/_modules/nltk/translate/bleu_score.html\n",
        "\n",
        "avg_score = 0 \n",
        "random_values = list(range(0,len(validation)))\n",
        "random.shuffle(random_values)\n",
        "\n",
        "for j in range(1000):\n",
        "  i = random_values[j]\n",
        "  eng_original = [validation['english_out'].iloc[i].split()[:-1] ]\n",
        "  italian_original = validation['italian'].iloc[i]\n",
        "  eng_predict = predict(italian_original).split()\n",
        "\n",
        "  # score_12gram = bleu.sentence_bleu(eng_original, eng_predict ,  weights=(0.5,0.5))        # since , sentences are small considering only 1-gram and 2-gram\n",
        "  score = bleu.sentence_bleu(eng_original, eng_predict ,  weights=(1.0,))     \n",
        "  avg_score += score   \n",
        "\n",
        "avg_score = avg_score/1000"
      ],
      "metadata": {
        "id": "W7wSjMRdvudk"
      },
      "execution_count": null,
      "outputs": []
    },
    {
      "cell_type": "code",
      "source": [
        "avg_score"
      ],
      "metadata": {
        "id": "WuQkCZZlw25w",
        "colab": {
          "base_uri": "https://localhost:8080/"
        },
        "outputId": "438a21d4-03a8-4688-ef8d-e4927b8ddad4"
      },
      "execution_count": null,
      "outputs": [
        {
          "output_type": "execute_result",
          "data": {
            "text/plain": [
              "0.7693846625844933"
            ]
          },
          "metadata": {},
          "execution_count": 50
        }
      ]
    },
    {
      "cell_type": "markdown",
      "metadata": {
        "id": "ymBJUvZdQKsC"
      },
      "source": [
        "<font color='blue'>**Repeat the same steps for General scoring function**</font>"
      ]
    },
    {
      "cell_type": "code",
      "metadata": {
        "id": "SZlSQBdaSPlF"
      },
      "source": [
        "#Create an object of encoder_decoder Model class, \n",
        "# Compile the model and fit the model\n",
        "\n",
        "model_general  = encoder_decoder(encoder_inputs_length=22,decoder_inputs_length=25 , score_fun = \"general\")\n",
        "\n",
        "optimizer = tf.keras.optimizers.Adam()\n",
        "\n",
        "model_general.compile(optimizer=optimizer,loss= loss_function)"
      ],
      "execution_count": null,
      "outputs": []
    },
    {
      "cell_type": "code",
      "source": [
        "train_steps=train.shape[0]//1024\n",
        "valid_steps=validation.shape[0]//1024\n",
        "model_general.fit(train_dataloader, steps_per_epoch=train_steps, epochs=50, validation_data=test_dataloader, validation_steps=valid_steps )"
      ],
      "metadata": {
        "colab": {
          "base_uri": "https://localhost:8080/"
        },
        "id": "RrLLdfTdojx-",
        "outputId": "93f4438a-66da-4fe3-a93e-510a07074fd0"
      },
      "execution_count": null,
      "outputs": [
        {
          "output_type": "stream",
          "name": "stdout",
          "text": [
            "Epoch 1/50\n",
            "276/276 [==============================] - 189s 529ms/step - loss: 0.6753 - val_loss: 0.3900\n",
            "Epoch 2/50\n",
            "276/276 [==============================] - 136s 494ms/step - loss: 0.3763 - val_loss: 0.3561\n",
            "Epoch 3/50\n",
            "276/276 [==============================] - 137s 495ms/step - loss: 0.3454 - val_loss: 0.3278\n",
            "Epoch 4/50\n",
            "276/276 [==============================] - 137s 495ms/step - loss: 0.3177 - val_loss: 0.3013\n",
            "Epoch 5/50\n",
            "276/276 [==============================] - 137s 495ms/step - loss: 0.2907 - val_loss: 0.2766\n",
            "Epoch 6/50\n",
            "276/276 [==============================] - 137s 496ms/step - loss: 0.2665 - val_loss: 0.2544\n",
            "Epoch 7/50\n",
            "276/276 [==============================] - 137s 495ms/step - loss: 0.2448 - val_loss: 0.2347\n",
            "Epoch 8/50\n",
            "276/276 [==============================] - 137s 496ms/step - loss: 0.2247 - val_loss: 0.2166\n",
            "Epoch 9/50\n",
            "276/276 [==============================] - 137s 495ms/step - loss: 0.2060 - val_loss: 0.1994\n",
            "Epoch 10/50\n",
            "276/276 [==============================] - 137s 495ms/step - loss: 0.1885 - val_loss: 0.1843\n",
            "Epoch 11/50\n",
            "276/276 [==============================] - 137s 495ms/step - loss: 0.1727 - val_loss: 0.1712\n",
            "Epoch 12/50\n",
            "276/276 [==============================] - 137s 495ms/step - loss: 0.1588 - val_loss: 0.1594\n",
            "Epoch 13/50\n",
            "276/276 [==============================] - 137s 495ms/step - loss: 0.1462 - val_loss: 0.1500\n",
            "Epoch 14/50\n",
            "276/276 [==============================] - 137s 495ms/step - loss: 0.1350 - val_loss: 0.1394\n",
            "Epoch 15/50\n",
            "276/276 [==============================] - 137s 495ms/step - loss: 0.1248 - val_loss: 0.1320\n",
            "Epoch 16/50\n",
            "276/276 [==============================] - 137s 495ms/step - loss: 0.1155 - val_loss: 0.1250\n",
            "Epoch 17/50\n",
            "276/276 [==============================] - 137s 497ms/step - loss: 0.1071 - val_loss: 0.1176\n",
            "Epoch 18/50\n",
            "276/276 [==============================] - 137s 496ms/step - loss: 0.0996 - val_loss: 0.1121\n",
            "Epoch 19/50\n",
            "276/276 [==============================] - 137s 495ms/step - loss: 0.0929 - val_loss: 0.1074\n",
            "Epoch 20/50\n",
            "276/276 [==============================] - 137s 495ms/step - loss: 0.0870 - val_loss: 0.1033\n",
            "Epoch 21/50\n",
            "276/276 [==============================] - 137s 495ms/step - loss: 0.0817 - val_loss: 0.0981\n",
            "Epoch 22/50\n",
            "276/276 [==============================] - 137s 495ms/step - loss: 0.0768 - val_loss: 0.0972\n",
            "Epoch 23/50\n",
            "276/276 [==============================] - 137s 496ms/step - loss: 0.0725 - val_loss: 0.0932\n",
            "Epoch 24/50\n",
            "276/276 [==============================] - 137s 496ms/step - loss: 0.0686 - val_loss: 0.0903\n",
            "Epoch 25/50\n",
            "276/276 [==============================] - 137s 495ms/step - loss: 0.0652 - val_loss: 0.0868\n",
            "Epoch 26/50\n",
            "276/276 [==============================] - 137s 496ms/step - loss: 0.0620 - val_loss: 0.0870\n",
            "Epoch 27/50\n",
            "276/276 [==============================] - 137s 495ms/step - loss: 0.0591 - val_loss: 0.0846\n",
            "Epoch 28/50\n",
            "276/276 [==============================] - 137s 497ms/step - loss: 0.0564 - val_loss: 0.0826\n",
            "Epoch 29/50\n",
            "276/276 [==============================] - 137s 496ms/step - loss: 0.0540 - val_loss: 0.0801\n",
            "Epoch 30/50\n",
            "276/276 [==============================] - 137s 496ms/step - loss: 0.0519 - val_loss: 0.0796\n",
            "Epoch 31/50\n",
            "276/276 [==============================] - 137s 495ms/step - loss: 0.0497 - val_loss: 0.0774\n",
            "Epoch 32/50\n",
            "276/276 [==============================] - 137s 495ms/step - loss: 0.0478 - val_loss: 0.0763\n",
            "Epoch 33/50\n",
            "276/276 [==============================] - 137s 495ms/step - loss: 0.0462 - val_loss: 0.0753\n",
            "Epoch 34/50\n",
            "276/276 [==============================] - 137s 496ms/step - loss: 0.0444 - val_loss: 0.0743\n",
            "Epoch 35/50\n",
            "276/276 [==============================] - 137s 495ms/step - loss: 0.0429 - val_loss: 0.0736\n",
            "Epoch 36/50\n",
            "276/276 [==============================] - 137s 495ms/step - loss: 0.0416 - val_loss: 0.0726\n",
            "Epoch 37/50\n",
            "276/276 [==============================] - 137s 496ms/step - loss: 0.0402 - val_loss: 0.0726\n",
            "Epoch 38/50\n",
            "276/276 [==============================] - 137s 495ms/step - loss: 0.0388 - val_loss: 0.0707\n",
            "Epoch 39/50\n",
            "276/276 [==============================] - 137s 496ms/step - loss: 0.0378 - val_loss: 0.0701\n",
            "Epoch 40/50\n",
            "276/276 [==============================] - 137s 496ms/step - loss: 0.0367 - val_loss: 0.0692\n",
            "Epoch 41/50\n",
            "276/276 [==============================] - 137s 496ms/step - loss: 0.0358 - val_loss: 0.0688\n",
            "Epoch 42/50\n",
            "276/276 [==============================] - 137s 495ms/step - loss: 0.0346 - val_loss: 0.0692\n",
            "Epoch 43/50\n",
            "276/276 [==============================] - 137s 495ms/step - loss: 0.0337 - val_loss: 0.0674\n",
            "Epoch 44/50\n",
            "276/276 [==============================] - 137s 495ms/step - loss: 0.0328 - val_loss: 0.0675\n",
            "Epoch 45/50\n",
            "276/276 [==============================] - 137s 496ms/step - loss: 0.0320 - val_loss: 0.0675\n",
            "Epoch 46/50\n",
            "276/276 [==============================] - 137s 495ms/step - loss: 0.0312 - val_loss: 0.0667\n",
            "Epoch 47/50\n",
            "276/276 [==============================] - 137s 496ms/step - loss: 0.0305 - val_loss: 0.0674\n",
            "Epoch 48/50\n",
            "276/276 [==============================] - 137s 495ms/step - loss: 0.0298 - val_loss: 0.0693\n",
            "Epoch 49/50\n",
            "276/276 [==============================] - 137s 496ms/step - loss: 0.0292 - val_loss: 0.0682\n",
            "Epoch 50/50\n",
            "276/276 [==============================] - 138s 499ms/step - loss: 0.0285 - val_loss: 0.0667\n"
          ]
        },
        {
          "output_type": "execute_result",
          "data": {
            "text/plain": [
              "<keras.callbacks.History at 0x7f0d9ba4e510>"
            ]
          },
          "metadata": {},
          "execution_count": 45
        }
      ]
    },
    {
      "cell_type": "code",
      "source": [
        "model_general.summary()"
      ],
      "metadata": {
        "colab": {
          "base_uri": "https://localhost:8080/"
        },
        "id": "f8vQp0rjQSzB",
        "outputId": "7edbb7ab-6c98-4d53-b598-acd941450157"
      },
      "execution_count": null,
      "outputs": [
        {
          "output_type": "stream",
          "name": "stdout",
          "text": [
            "Model: \"encoder_decoder\"\n",
            "_________________________________________________________________\n",
            " Layer (type)                Output Shape              Param #   \n",
            "=================================================================\n",
            " encoder_1 (Encoder)         multiple                  2758000   \n",
            "                                                                 \n",
            " decoder (Decoder)           multiple                  2760886   \n",
            "                                                                 \n",
            "=================================================================\n",
            "Total params: 5,518,886\n",
            "Trainable params: 4,210,186\n",
            "Non-trainable params: 1,308,700\n",
            "_________________________________________________________________\n"
          ]
        }
      ]
    },
    {
      "cell_type": "code",
      "metadata": {
        "id": "pkEY7SsBMtrC"
      },
      "source": [
        "import matplotlib.pyplot as plt\n",
        "import matplotlib.ticker as ticker\n",
        "\n",
        "#Refer: https://www.tensorflow.org/tutorials/text/nmt_with_attention#translate\n",
        "\n",
        "def plot_attention(attention, sentence, predicted_sentence):\n",
        "  fig = plt.figure(figsize=(10, 10))\n",
        "  ax = fig.add_subplot(1, 1, 1)\n",
        "  sentence , predicted_sentence = sentence.split() , predicted_sentence.split()\n",
        "\n",
        "  attention = attention[:len(predicted_sentence), :len(sentence)]\n",
        "\n",
        "  ax.matshow(attention, cmap='viridis', vmin=0.0)\n",
        "\n",
        "  fontdict = {'fontsize': 14}\n",
        "\n",
        "  ax.set_xticklabels([''] + sentence, fontdict=fontdict, rotation=90)\n",
        "  ax.set_yticklabels([''] + predicted_sentence, fontdict=fontdict)\n",
        "\n",
        "  ax.xaxis.set_major_locator(ticker.MultipleLocator(1))\n",
        "  ax.yaxis.set_major_locator(ticker.MultipleLocator(1))\n",
        "\n",
        "  ax.set_xlabel('Input text')\n",
        "  ax.set_ylabel('Output text')\n",
        "  plt.suptitle('Attention weights')\n"
      ],
      "execution_count": null,
      "outputs": []
    },
    {
      "cell_type": "markdown",
      "metadata": {
        "id": "e1IhdBrgQYJr"
      },
      "source": [
        "<font color='blue'>**Predict the sentence translation**</font>"
      ]
    },
    {
      "cell_type": "code",
      "metadata": {
        "id": "MP3kLZoPMvSu"
      },
      "source": [
        "def predict(input_sentence):\n",
        "\n",
        "    '''\n",
        "    A. Given input sentence, convert the sentence into integers using tokenizer used earlier\n",
        "    B. Pass the input_sequence to encoder. we get encoder_outputs, last time step hidden and cell state\n",
        "    C. Initialize index of <start> as input to decoder. and encoder final states as input_states to onestepdecoder.\n",
        "    D. till we reach max_length of decoder or till the model predicted word <end>:\n",
        "            predictions, input_states, attention_weights = model.layers[1].onestepdecoder(input_to_decoder, encoder_output, input_states)\n",
        "            Save the attention weights\n",
        "            And get the word using the tokenizer(word index) and then store it in a string.\n",
        "    E. Call plot_attention(#params)\n",
        "    F. Return the predicted sentence\n",
        "    '''\n",
        "    sequence_ita = tknizer_ita.texts_to_sequences([input_sentence])\n",
        "    sequence_ita = pad_sequences(sequence_ita, maxlen=22, dtype='int32', padding='post')\n",
        "    initial_states = model_general.layers[0].initialize_states(1)               # batch_size , enc_units\n",
        "    # initial_states = tf.zeros([1 , 100]) , tf.zeros([1 , 100])              # batch_size , enc_units\n",
        "\n",
        "    enc_outputs,final_state_h , final_state_c =  model_general.layers[0]( sequence_ita , initial_states)\n",
        "\n",
        "\n",
        "    input_dec = tknizer_eng.word_index['<start>']\n",
        "    word_index_end = tknizer_eng.word_index['<end>']\n",
        "    # list_of_attention_weights =  tf.TensorArray(tf.float32, size=0, dynamic_size=True, clear_after_read=False)\n",
        "    predicted_sentence = \"\"\n",
        "    i=0\n",
        "\n",
        "    for i in range(25):\n",
        "        output , final_state_h , final_state_c , attention_weights , context_vector = model_general.layers[1].onestepdecoder(tf.cast(tf.reshape(input_dec , [1,1]) , tf.int32) , enc_outputs , final_state_h , final_state_c)\n",
        "        # print(output.shape)                  # (13086,)\n",
        "        # print(final_state_h.shape)           # (1, 100)\n",
        "        # print(final_state_c.shape)           # (1, 100)\n",
        "        # print(attention_weights.shape)       # (1, 22, 1)\n",
        "        # print(tf.squeeze(attention_weights).shape)    # (22,)\n",
        "\n",
        "        # list_of_attention_weights = list_of_attention_weights.write(i,tf.squeeze(attention_weights))\n",
        "        i+=1\n",
        "\n",
        "        input_dec = np.argmax(output)\n",
        "        if input_dec == word_index_end:\n",
        "            break\n",
        "\n",
        "        predicted_sentence += \" \" + tknizer_eng.index_word[input_dec]\n",
        "\n",
        "    # plot_attention(list_of_attention_weights.stack() , input_sentence , predicted_sentence)\n",
        "    # print(list_of_attention_weights.stack().shape)\n",
        "\n",
        "    return predicted_sentence \n",
        "    \n",
        "\n",
        "\n",
        "\n",
        "\n"
      ],
      "execution_count": null,
      "outputs": []
    },
    {
      "cell_type": "code",
      "source": [
        "ta = tf.TensorArray(tf.float32, size=0, dynamic_size=True, clear_after_read=False)\n",
        "ta = ta.write(0, tf.constant([1.0, 2.0]))\n",
        "ta = ta.write(1,  tf.constant([4.0, 23.0]))\n",
        "ta = ta.write(2,  tf.constant([19.0, 23.0]))\n",
        "\n",
        "print(ta.read(0))\n",
        "\n",
        "print(ta.read(1))\n",
        "\n",
        "print(ta.read(2))\n",
        "\n",
        "print(ta.stack())\n",
        "\n"
      ],
      "metadata": {
        "colab": {
          "base_uri": "https://localhost:8080/"
        },
        "id": "CZotc0gN9yYf",
        "outputId": "468bc3cd-2f99-4b9f-fe2d-de17198b6ec8"
      },
      "execution_count": null,
      "outputs": [
        {
          "output_type": "stream",
          "name": "stdout",
          "text": [
            "tf.Tensor([1. 2.], shape=(2,), dtype=float32)\n",
            "tf.Tensor([ 4. 23.], shape=(2,), dtype=float32)\n",
            "tf.Tensor([19. 23.], shape=(2,), dtype=float32)\n",
            "tf.Tensor(\n",
            "[[ 1.  2.]\n",
            " [ 4. 23.]\n",
            " [19. 23.]], shape=(3, 2), dtype=float32)\n"
          ]
        }
      ]
    },
    {
      "cell_type": "code",
      "source": [
        "print('italian sentece------------' ,validation['italian'].iloc[0] )\n",
        "print('original english sentece---' , validation['english_inp'].iloc[0][8:])\n",
        "print('predicted english sentece--' , predict(validation['italian'].iloc[0]))\n"
      ],
      "metadata": {
        "colab": {
          "base_uri": "https://localhost:8080/",
          "height": 685
        },
        "id": "eCR8ltIQ3yTo",
        "outputId": "281177a3-4719-4b12-f0b3-c41a90b2fd5d"
      },
      "execution_count": null,
      "outputs": [
        {
          "output_type": "stream",
          "name": "stdout",
          "text": [
            "italian sentece------------ tom rimase a casa per tutto il giorno\n",
            "original english sentece--- tom stayed home all day\n",
            "predicted english sentece--  tom stayed at all at all day\n"
          ]
        },
        {
          "output_type": "display_data",
          "data": {
            "text/plain": [
              "<Figure size 720x720 with 1 Axes>"
            ],
            "image/png": "[encoded data removed]"
          },
          "metadata": {
            "needs_background": "light"
          }
        }
      ]
    },
    {
      "cell_type": "code",
      "source": [
        "italian_10 = validation.head(10)['italian']\n",
        "original_english_10 = validation.head(10)['english_out']\n",
        "predicted_sentence_10 = []\n",
        "\n",
        "for italian in italian_10:\n",
        "  predicted_sentence_10.append(predict(italian))\n",
        "\n",
        "result_10 = pd.DataFrame({'original' : original_english_10 , 'predicted' : predicted_sentence_10})\n",
        "result_10"
      ],
      "metadata": {
        "colab": {
          "base_uri": "https://localhost:8080/",
          "height": 363
        },
        "id": "foUDrzCw1Hjg",
        "outputId": "f72b89f5-f682-4d6c-e00b-5bf7e2242bec"
      },
      "execution_count": null,
      "outputs": [
        {
          "output_type": "execute_result",
          "data": {
            "text/plain": [
              "                                             original  \\\n",
              "144180                  tom stayed home all day <end>   \n",
              "120500                   i had to say something <end>   \n",
              "137797                  i want to get rid of it <end>   \n",
              "78480                      it is very hot today <end>   \n",
              "320129  he told his assistant that he would win <end>   \n",
              "218316            i am not one of your soldiers <end>   \n",
              "316039   i knew it would happen sooner or later <end>   \n",
              "106906                i would like to go faster <end>   \n",
              "317803   things are getting out of control here <end>   \n",
              "28335                          i am not worried <end>   \n",
              "\n",
              "                                              predicted  \n",
              "144180                     tom stayed at all at all day  \n",
              "120500                           i had to say something  \n",
              "137797                          i want to get rid of it  \n",
              "78480                                 today is very hot  \n",
              "320129          he said his assistant that he would win  \n",
              "218316                    i am not one of your soldiers  \n",
              "316039   i knew that would happen to the movie or later  \n",
              "106906                        i would like to go faster  \n",
              "317803           things are getting out of control here  \n",
              "28335                                  i am not worried  "
            ],
            "text/html": [
              "\n",
              "  <div id=\"df-c989e2fc-c2e3-4193-9dc1-bcded18036ea\">\n",
              "    <div class=\"colab-df-container\">\n",
              "      <div>\n",
              "<style scoped>\n",
              "    .dataframe tbody tr th:only-of-type {\n",
              "        vertical-align: middle;\n",
              "    }\n",
              "\n",
              "    .dataframe tbody tr th {\n",
              "        vertical-align: top;\n",
              "    }\n",
              "\n",
              "    .dataframe thead th {\n",
              "        text-align: right;\n",
              "    }\n",
              "</style>\n",
              "<table border=\"1\" class=\"dataframe\">\n",
              "  <thead>\n",
              "    <tr style=\"text-align: right;\">\n",
              "      <th></th>\n",
              "      <th>original</th>\n",
              "      <th>predicted</th>\n",
              "    </tr>\n",
              "  </thead>\n",
              "  <tbody>\n",
              "    <tr>\n",
              "      <th>144180</th>\n",
              "      <td>tom stayed home all day &lt;end&gt;</td>\n",
              "      <td>tom stayed at all at all day</td>\n",
              "    </tr>\n",
              "    <tr>\n",
              "      <th>120500</th>\n",
              "      <td>i had to say something &lt;end&gt;</td>\n",
              "      <td>i had to say something</td>\n",
              "    </tr>\n",
              "    <tr>\n",
              "      <th>137797</th>\n",
              "      <td>i want to get rid of it &lt;end&gt;</td>\n",
              "      <td>i want to get rid of it</td>\n",
              "    </tr>\n",
              "    <tr>\n",
              "      <th>78480</th>\n",
              "      <td>it is very hot today &lt;end&gt;</td>\n",
              "      <td>today is very hot</td>\n",
              "    </tr>\n",
              "    <tr>\n",
              "      <th>320129</th>\n",
              "      <td>he told his assistant that he would win &lt;end&gt;</td>\n",
              "      <td>he said his assistant that he would win</td>\n",
              "    </tr>\n",
              "    <tr>\n",
              "      <th>218316</th>\n",
              "      <td>i am not one of your soldiers &lt;end&gt;</td>\n",
              "      <td>i am not one of your soldiers</td>\n",
              "    </tr>\n",
              "    <tr>\n",
              "      <th>316039</th>\n",
              "      <td>i knew it would happen sooner or later &lt;end&gt;</td>\n",
              "      <td>i knew that would happen to the movie or later</td>\n",
              "    </tr>\n",
              "    <tr>\n",
              "      <th>106906</th>\n",
              "      <td>i would like to go faster &lt;end&gt;</td>\n",
              "      <td>i would like to go faster</td>\n",
              "    </tr>\n",
              "    <tr>\n",
              "      <th>317803</th>\n",
              "      <td>things are getting out of control here &lt;end&gt;</td>\n",
              "      <td>things are getting out of control here</td>\n",
              "    </tr>\n",
              "    <tr>\n",
              "      <th>28335</th>\n",
              "      <td>i am not worried &lt;end&gt;</td>\n",
              "      <td>i am not worried</td>\n",
              "    </tr>\n",
              "  </tbody>\n",
              "</table>\n",
              "</div>\n",
              "      <button class=\"colab-df-convert\" onclick=\"convertToInteractive('df-c989e2fc-c2e3-4193-9dc1-bcded18036ea')\"\n",
              "              title=\"Convert this dataframe to an interactive table.\"\n",
              "              style=\"display:none;\">\n",
              "        \n",
              "  <svg xmlns=\"http://www.w3.org/2000/svg\" height=\"24px\"viewBox=\"0 0 24 24\"\n",
              "       width=\"24px\">\n",
              "    <path d=\"M0 0h24v24H0V0z\" fill=\"none\"/>\n",
              "    <path d=\"M18.56 5.44l.94 2.06.94-2.06 2.06-.94-2.06-.94-.94-2.06-.94 2.06-2.06.94zm-11 1L8.5 8.5l.94-2.06 2.06-.94-2.06-.94L8.5 2.5l-.94 2.06-2.06.94zm10 10l.94 2.06.94-2.06 2.06-.94-2.06-.94-.94-2.06-.94 2.06-2.06.94z\"/><path d=\"M17.41 7.96l-1.37-1.37c-.4-.4-.92-.59-1.43-.59-.52 0-1.04.2-1.43.59L10.3 9.45l-7.72 7.72c-.78.78-.78 2.05 0 2.83L4 21.41c.39.39.9.59 1.41.59.51 0 1.02-.2 1.41-.59l7.78-7.78 2.81-2.81c.8-.78.8-2.07 0-2.86zM5.41 20L4 18.59l7.72-7.72 1.47 1.35L5.41 20z\"/>\n",
              "  </svg>\n",
              "      </button>\n",
              "      \n",
              "  <style>\n",
              "    .colab-df-container {\n",
              "      display:flex;\n",
              "      flex-wrap:wrap;\n",
              "      gap: 12px;\n",
              "    }\n",
              "\n",
              "    .colab-df-convert {\n",
              "      background-color: #E8F0FE;\n",
              "      border: none;\n",
              "      border-radius: 50%;\n",
              "      cursor: pointer;\n",
              "      display: none;\n",
              "      fill: #1967D2;\n",
              "      height: 32px;\n",
              "      padding: 0 0 0 0;\n",
              "      width: 32px;\n",
              "    }\n",
              "\n",
              "    .colab-df-convert:hover {\n",
              "      background-color: #E2EBFA;\n",
              "      box-shadow: 0px 1px 2px rgba(60, 64, 67, 0.3), 0px 1px 3px 1px rgba(60, 64, 67, 0.15);\n",
              "      fill: #174EA6;\n",
              "    }\n",
              "\n",
              "    [theme=dark] .colab-df-convert {\n",
              "      background-color: #3B4455;\n",
              "      fill: #D2E3FC;\n",
              "    }\n",
              "\n",
              "    [theme=dark] .colab-df-convert:hover {\n",
              "      background-color: #434B5C;\n",
              "      box-shadow: 0px 1px 3px 1px rgba(0, 0, 0, 0.15);\n",
              "      filter: drop-shadow(0px 1px 2px rgba(0, 0, 0, 0.3));\n",
              "      fill: #FFFFFF;\n",
              "    }\n",
              "  </style>\n",
              "\n",
              "      <script>\n",
              "        const buttonEl =\n",
              "          document.querySelector('#df-c989e2fc-c2e3-4193-9dc1-bcded18036ea button.colab-df-convert');\n",
              "        buttonEl.style.display =\n",
              "          google.colab.kernel.accessAllowed ? 'block' : 'none';\n",
              "\n",
              "        async function convertToInteractive(key) {\n",
              "          const element = document.querySelector('#df-c989e2fc-c2e3-4193-9dc1-bcded18036ea');\n",
              "          const dataTable =\n",
              "            await google.colab.kernel.invokeFunction('convertToInteractive',\n",
              "                                                     [key], {});\n",
              "          if (!dataTable) return;\n",
              "\n",
              "          const docLinkHtml = 'Like what you see? Visit the ' +\n",
              "            '<a target=\"_blank\" href=https://colab.research.google.com/notebooks/data_table.ipynb>data table notebook</a>'\n",
              "            + ' to learn more about interactive tables.';\n",
              "          element.innerHTML = '';\n",
              "          dataTable['output_type'] = 'display_data';\n",
              "          await google.colab.output.renderOutput(dataTable, element);\n",
              "          const docLink = document.createElement('div');\n",
              "          docLink.innerHTML = docLinkHtml;\n",
              "          element.appendChild(docLink);\n",
              "        }\n",
              "      </script>\n",
              "    </div>\n",
              "  </div>\n",
              "  "
            ]
          },
          "metadata": {},
          "execution_count": 60
        }
      ]
    },
    {
      "cell_type": "markdown",
      "metadata": {
        "id": "jmxIVOOQPWMu"
      },
      "source": [
        "<font color='blue'>**Calculate BLEU score**</font>"
      ]
    },
    {
      "cell_type": "code",
      "source": [
        "len(validation)"
      ],
      "metadata": {
        "colab": {
          "base_uri": "https://localhost:8080/"
        },
        "id": "ZFwYeRlLtCYT",
        "outputId": "3c4d71b7-4c83-4bf5-d4b6-6613711191a1"
      },
      "execution_count": null,
      "outputs": [
        {
          "output_type": "execute_result",
          "data": {
            "text/plain": [
              "70767"
            ]
          },
          "metadata": {},
          "execution_count": 61
        }
      ]
    },
    {
      "cell_type": "code",
      "source": [
        "import nltk.translate.bleu_score as bleu\n",
        "import random\n",
        "# https://www.nltk.org/_modules/nltk/translate/bleu_score.html\n",
        "\n",
        "avg_score = 0 \n",
        "random_values = list(range(0,len(validation)))\n",
        "random.shuffle(random_values)\n",
        "\n",
        "for j in range(1000):\n",
        "  i = random_values[j]\n",
        "  eng_original = [validation['english_out'].iloc[i].split()[:-1] ]\n",
        "  italian_original = validation['italian'].iloc[i]\n",
        "  eng_predict = predict(italian_original).split()\n",
        "\n",
        "  # score_12gram = bleu.sentence_bleu(eng_original, eng_predict ,  weights=(0.5,0.5))        # since , sentences are small considering only 1-gram and 2-gram\n",
        "  score = bleu.sentence_bleu(eng_original, eng_predict ,  weights=(1.0,))     \n",
        "  avg_score += score   \n",
        "\n",
        "avg_score = avg_score/1000"
      ],
      "metadata": {
        "id": "VSd678HjHp3V"
      },
      "execution_count": null,
      "outputs": []
    },
    {
      "cell_type": "code",
      "source": [
        "avg_score"
      ],
      "metadata": {
        "colab": {
          "base_uri": "https://localhost:8080/"
        },
        "id": "LYZdsuQUgoum",
        "outputId": "4bfb2535-f0f6-4136-b898-efad31c6b9db"
      },
      "execution_count": null,
      "outputs": [
        {
          "output_type": "execute_result",
          "data": {
            "text/plain": [
              "0.8018603438599083"
            ]
          },
          "metadata": {},
          "execution_count": 69
        }
      ]
    },
    {
      "cell_type": "markdown",
      "metadata": {
        "id": "VB1jRUqZQ9AM"
      },
      "source": [
        "<font color='blue'>**Repeat the same steps for Concat scoring function**</font>"
      ]
    },
    {
      "cell_type": "code",
      "metadata": {
        "id": "TtyrYRA5vudh"
      },
      "source": [
        "model_concat  = encoder_decoder(encoder_inputs_length=22,decoder_inputs_length=25 , score_fun = \"concat\")\n",
        "optimizer = tf.keras.optimizers.Adam()\n",
        "model_concat.compile(optimizer=optimizer,loss= loss_function)"
      ],
      "execution_count": null,
      "outputs": []
    },
    {
      "cell_type": "code",
      "source": [
        "earlystop = tf.keras.callbacks.EarlyStopping(\n",
        "    monitor='val_loss', min_delta=0, patience=4, verbose=0, mode='min'  ,restore_best_weights = True \n",
        ")\n",
        "callbacks = [earlystop ]"
      ],
      "metadata": {
        "id": "i8xmBUjhvudh"
      },
      "execution_count": null,
      "outputs": []
    },
    {
      "cell_type": "code",
      "source": [
        "train_steps=train.shape[0]//1024\n",
        "valid_steps=validation.shape[0]//1024\n",
        "model_concat.fit(train_dataloader, steps_per_epoch=train_steps, epochs=50, validation_data=test_dataloader, validation_steps=valid_steps ,callbacks = callbacks)"
      ],
      "metadata": {
        "colab": {
          "base_uri": "https://localhost:8080/"
        },
        "outputId": "e43430c8-298c-4e2e-871e-28ce696a2b83",
        "id": "k0SFo209vudi"
      },
      "execution_count": null,
      "outputs": [
        {
          "output_type": "stream",
          "name": "stdout",
          "text": [
            "Epoch 1/50\n",
            "276/276 [==============================] - 209s 595ms/step - loss: 0.6579 - val_loss: 0.3857\n",
            "Epoch 2/50\n",
            "276/276 [==============================] - 152s 552ms/step - loss: 0.3736 - val_loss: 0.3564\n",
            "Epoch 3/50\n",
            "276/276 [==============================] - 152s 551ms/step - loss: 0.3488 - val_loss: 0.3335\n",
            "Epoch 4/50\n",
            "276/276 [==============================] - 152s 552ms/step - loss: 0.3229 - val_loss: 0.3081\n",
            "Epoch 5/50\n",
            "276/276 [==============================] - 152s 552ms/step - loss: 0.2972 - val_loss: 0.2829\n",
            "Epoch 6/50\n",
            "276/276 [==============================] - 152s 552ms/step - loss: 0.2717 - val_loss: 0.2598\n",
            "Epoch 7/50\n",
            "276/276 [==============================] - 153s 553ms/step - loss: 0.2467 - val_loss: 0.2366\n",
            "Epoch 8/50\n",
            "276/276 [==============================] - 153s 553ms/step - loss: 0.2226 - val_loss: 0.2153\n",
            "Epoch 9/50\n",
            "276/276 [==============================] - 152s 552ms/step - loss: 0.2011 - val_loss: 0.1970\n",
            "Epoch 10/50\n",
            "276/276 [==============================] - 152s 552ms/step - loss: 0.1819 - val_loss: 0.1815\n",
            "Epoch 11/50\n",
            "276/276 [==============================] - 152s 552ms/step - loss: 0.1649 - val_loss: 0.1684\n",
            "Epoch 12/50\n",
            "276/276 [==============================] - 152s 552ms/step - loss: 0.1498 - val_loss: 0.1578\n",
            "Epoch 13/50\n",
            "276/276 [==============================] - 152s 552ms/step - loss: 0.1365 - val_loss: 0.1486\n",
            "Epoch 14/50\n",
            "276/276 [==============================] - 152s 551ms/step - loss: 0.1249 - val_loss: 0.1396\n",
            "Epoch 15/50\n",
            "276/276 [==============================] - 152s 552ms/step - loss: 0.1150 - val_loss: 0.1324\n",
            "Epoch 16/50\n",
            "276/276 [==============================] - 152s 552ms/step - loss: 0.1064 - val_loss: 0.1244\n",
            "Epoch 17/50\n",
            "276/276 [==============================] - 153s 552ms/step - loss: 0.0988 - val_loss: 0.1209\n",
            "Epoch 18/50\n",
            "276/276 [==============================] - 152s 552ms/step - loss: 0.0922 - val_loss: 0.1171\n",
            "Epoch 19/50\n",
            "276/276 [==============================] - 152s 552ms/step - loss: 0.0864 - val_loss: 0.1133\n",
            "Epoch 20/50\n",
            "276/276 [==============================] - 152s 552ms/step - loss: 0.0812 - val_loss: 0.1096\n",
            "Epoch 21/50\n",
            "276/276 [==============================] - 152s 552ms/step - loss: 0.0766 - val_loss: 0.1113\n",
            "Epoch 22/50\n",
            "276/276 [==============================] - 152s 552ms/step - loss: 0.0725 - val_loss: 0.1038\n",
            "Epoch 23/50\n",
            "276/276 [==============================] - 152s 552ms/step - loss: 0.0687 - val_loss: 0.1010\n",
            "Epoch 24/50\n",
            "276/276 [==============================] - 153s 553ms/step - loss: 0.0653 - val_loss: 0.1007\n",
            "Epoch 25/50\n",
            "276/276 [==============================] - 152s 552ms/step - loss: 0.0621 - val_loss: 0.0967\n",
            "Epoch 26/50\n",
            "276/276 [==============================] - 153s 553ms/step - loss: 0.0594 - val_loss: 0.0967\n",
            "Epoch 27/50\n",
            "276/276 [==============================] - 153s 553ms/step - loss: 0.0568 - val_loss: 0.0937\n",
            "Epoch 28/50\n",
            "276/276 [==============================] - 152s 552ms/step - loss: 0.0544 - val_loss: 0.0943\n",
            "Epoch 29/50\n",
            "276/276 [==============================] - 152s 552ms/step - loss: 0.0523 - val_loss: 0.0916\n",
            "Epoch 30/50\n",
            "276/276 [==============================] - 152s 552ms/step - loss: 0.0503 - val_loss: 0.0899\n",
            "Epoch 31/50\n",
            "276/276 [==============================] - 152s 552ms/step - loss: 0.0485 - val_loss: 0.0903\n",
            "Epoch 32/50\n",
            "276/276 [==============================] - 152s 551ms/step - loss: 0.0467 - val_loss: 0.0904\n",
            "Epoch 33/50\n",
            "276/276 [==============================] - 153s 553ms/step - loss: 0.0450 - val_loss: 0.0850\n",
            "Epoch 34/50\n",
            "276/276 [==============================] - 152s 552ms/step - loss: 0.0435 - val_loss: 0.0876\n",
            "Epoch 35/50\n",
            "276/276 [==============================] - 152s 552ms/step - loss: 0.0421 - val_loss: 0.0853\n",
            "Epoch 36/50\n",
            "276/276 [==============================] - 152s 552ms/step - loss: 0.0409 - val_loss: 0.0844\n",
            "Epoch 37/50\n",
            "276/276 [==============================] - 152s 552ms/step - loss: 0.0396 - val_loss: 0.0854\n",
            "Epoch 38/50\n",
            "276/276 [==============================] - 152s 552ms/step - loss: 0.0384 - val_loss: 0.0824\n",
            "Epoch 39/50\n",
            "276/276 [==============================] - 153s 553ms/step - loss: 0.0373 - val_loss: 0.0814\n",
            "Epoch 40/50\n",
            "276/276 [==============================] - 152s 552ms/step - loss: 0.0364 - val_loss: 0.0812\n",
            "Epoch 41/50\n",
            "276/276 [==============================] - 152s 552ms/step - loss: 0.0355 - val_loss: 0.0805\n",
            "Epoch 42/50\n",
            "276/276 [==============================] - 157s 569ms/step - loss: 0.0346 - val_loss: 0.0813\n",
            "Epoch 43/50\n",
            "276/276 [==============================] - 152s 552ms/step - loss: 0.0336 - val_loss: 0.0795\n",
            "Epoch 44/50\n",
            "276/276 [==============================] - 152s 552ms/step - loss: 0.0330 - val_loss: 0.0848\n",
            "Epoch 45/50\n",
            "276/276 [==============================] - 152s 552ms/step - loss: 0.0322 - val_loss: 0.0787\n",
            "Epoch 46/50\n",
            "276/276 [==============================] - 153s 554ms/step - loss: 0.0313 - val_loss: 0.0799\n",
            "Epoch 47/50\n",
            "276/276 [==============================] - 153s 553ms/step - loss: 0.0306 - val_loss: 0.0793\n",
            "Epoch 48/50\n",
            "276/276 [==============================] - 152s 552ms/step - loss: 0.0299 - val_loss: 0.0833\n",
            "Epoch 49/50\n",
            "276/276 [==============================] - 152s 552ms/step - loss: 0.0292 - val_loss: 0.0777\n",
            "Epoch 50/50\n",
            "276/276 [==============================] - 152s 552ms/step - loss: 0.0287 - val_loss: 0.0779\n"
          ]
        },
        {
          "output_type": "execute_result",
          "data": {
            "text/plain": [
              "<keras.callbacks.History at 0x7f0a35b7d790>"
            ]
          },
          "metadata": {},
          "execution_count": 73
        }
      ]
    },
    {
      "cell_type": "code",
      "source": [
        "model_concat.summary()"
      ],
      "metadata": {
        "colab": {
          "base_uri": "https://localhost:8080/"
        },
        "outputId": "b35710a2-f259-4078-da51-5e7378d02b7e",
        "id": "8NG32jdDvudi"
      },
      "execution_count": null,
      "outputs": [
        {
          "output_type": "stream",
          "name": "stdout",
          "text": [
            "Model: \"encoder_decoder_1\"\n",
            "_________________________________________________________________\n",
            " Layer (type)                Output Shape              Param #   \n",
            "=================================================================\n",
            " encoder_2 (Encoder)         multiple                  2758000   \n",
            "                                                                 \n",
            " decoder_1 (Decoder)         multiple                  2771087   \n",
            "                                                                 \n",
            "=================================================================\n",
            "Total params: 5,529,087\n",
            "Trainable params: 4,220,387\n",
            "Non-trainable params: 1,308,700\n",
            "_________________________________________________________________\n"
          ]
        }
      ]
    },
    {
      "cell_type": "code",
      "source": [
        "model_concat.save('/content/model_concat')"
      ],
      "metadata": {
        "colab": {
          "base_uri": "https://localhost:8080/"
        },
        "id": "2fLcsfx2vudi",
        "outputId": "82fb0e86-b56a-486e-8736-cb1c0ca02608"
      },
      "execution_count": null,
      "outputs": [
        {
          "output_type": "stream",
          "name": "stderr",
          "text": [
            "WARNING:absl:Found untraced functions such as lstm_cell_3_layer_call_fn, lstm_cell_3_layer_call_and_return_conditional_losses, lstm_cell_4_layer_call_fn, lstm_cell_4_layer_call_and_return_conditional_losses, dense_6_layer_call_fn while saving (showing 5 of 10). These functions will not be directly callable after loading.\n",
            "WARNING:absl:<keras.layers.recurrent.LSTMCell object at 0x7f0a35b82890> has the same name 'LSTMCell' as a built-in Keras object. Consider renaming <class 'keras.layers.recurrent.LSTMCell'> to avoid naming conflicts when loading with `tf.keras.models.load_model`. If renaming is not possible, pass the object in the `custom_objects` parameter of the load function.\n",
            "WARNING:absl:<__main__.Attention object at 0x7f0a35b9cbd0> has the same name 'Attention' as a built-in Keras object. Consider renaming <class '__main__.Attention'> to avoid naming conflicts when loading with `tf.keras.models.load_model`. If renaming is not possible, pass the object in the `custom_objects` parameter of the load function.\n",
            "WARNING:absl:<keras.layers.recurrent.LSTMCell object at 0x7f0a35b9c150> has the same name 'LSTMCell' as a built-in Keras object. Consider renaming <class 'keras.layers.recurrent.LSTMCell'> to avoid naming conflicts when loading with `tf.keras.models.load_model`. If renaming is not possible, pass the object in the `custom_objects` parameter of the load function.\n"
          ]
        }
      ]
    },
    {
      "cell_type": "code",
      "source": [
        "from google.colab import drive\n",
        "drive.mount('/content/gdrive')"
      ],
      "metadata": {
        "colab": {
          "base_uri": "https://localhost:8080/"
        },
        "id": "jbAmdfeKPL8N",
        "outputId": "8806a1b0-96f0-48e6-e96c-1afd651c74ff"
      },
      "execution_count": null,
      "outputs": [
        {
          "output_type": "stream",
          "name": "stdout",
          "text": [
            "Mounted at /content/gdrive\n"
          ]
        }
      ]
    },
    {
      "cell_type": "code",
      "source": [
        "!cp -r /content/model_concat /content/gdrive/MyDrive"
      ],
      "metadata": {
        "id": "MrD0XVbgPG4g"
      },
      "execution_count": null,
      "outputs": []
    },
    {
      "cell_type": "code",
      "metadata": {
        "id": "g7evvB41SPlJ"
      },
      "source": [
        "def predict(input_sentence):\n",
        "\n",
        "    '''\n",
        "    A. Given input sentence, convert the sentence into integers using tokenizer used earlier\n",
        "    B. Pass the input_sequence to encoder. we get encoder_outputs, last time step hidden and cell state\n",
        "    C. Initialize index of <start> as input to decoder. and encoder final states as input_states to onestepdecoder.\n",
        "    D. till we reach max_length of decoder or till the model predicted word <end>:\n",
        "            predictions, input_states, attention_weights = model.layers[1].onestepdecoder(input_to_decoder, encoder_output, input_states)\n",
        "            Save the attention weights\n",
        "            And get the word using the tokenizer(word index) and then store it in a string.\n",
        "    E. Call plot_attention(#params)\n",
        "    F. Return the predicted sentence\n",
        "    '''\n",
        "    sequence_ita = tknizer_ita.texts_to_sequences([input_sentence])\n",
        "    sequence_ita = pad_sequences(sequence_ita, maxlen=22, dtype='int32', padding='post')\n",
        "    initial_states = model_concat.layers[0].initialize_states(1)               # batch_size , enc_units\n",
        "    # initial_states = tf.zeros([1 , 100]) , tf.zeros([1 , 100])              # batch_size , enc_units\n",
        "\n",
        "    enc_outputs,final_state_h , final_state_c =  model_concat.layers[0]( sequence_ita , initial_states)\n",
        "\n",
        "\n",
        "    input_dec = tknizer_eng.word_index['<start>']\n",
        "    word_index_end = tknizer_eng.word_index['<end>']\n",
        "    # list_of_attention_weights =  tf.TensorArray(tf.float32, size=0, dynamic_size=True, clear_after_read=False)\n",
        "    predicted_sentence = \"\"\n",
        "    i=0\n",
        "\n",
        "    for i in range(25):\n",
        "        output , final_state_h , final_state_c , attention_weights , context_vector = model_concat.layers[1].onestepdecoder(tf.cast(tf.reshape(input_dec , [1,1]) , tf.int32) , enc_outputs , final_state_h , final_state_c)\n",
        "        # print(output.shape)                  # (13086,)\n",
        "        # print(final_state_h.shape)           # (1, 100)\n",
        "        # print(final_state_c.shape)           # (1, 100)\n",
        "        # print(attention_weights.shape)       # (1, 22, 1)\n",
        "        # print(tf.squeeze(attention_weights).shape)    # (22,)\n",
        "\n",
        "        # list_of_attention_weights = list_of_attention_weights.write(i,tf.squeeze(attention_weights))\n",
        "        i+=1\n",
        "\n",
        "        input_dec = np.argmax(output)\n",
        "        if input_dec == word_index_end:\n",
        "            break\n",
        "\n",
        "        predicted_sentence += \" \" + tknizer_eng.index_word[input_dec]\n",
        "\n",
        "    # plot_attention(list_of_attention_weights.stack() , input_sentence , predicted_sentence)\n",
        "    # print(list_of_attention_weights.stack().shape)\n",
        "\n",
        "    return predicted_sentence \n",
        "    \n",
        "\n",
        "\n",
        "\n",
        "\n"
      ],
      "execution_count": null,
      "outputs": []
    },
    {
      "cell_type": "code",
      "source": [
        "ta = tf.TensorArray(tf.float32, size=0, dynamic_size=True, clear_after_read=False)\n",
        "ta = ta.write(0, tf.constant([1.0, 2.0]))\n",
        "ta = ta.write(1,  tf.constant([4.0, 23.0]))\n",
        "ta = ta.write(2,  tf.constant([19.0, 23.0]))\n",
        "\n",
        "print(ta.read(0))\n",
        "\n",
        "print(ta.read(1))\n",
        "\n",
        "print(ta.read(2))\n",
        "\n",
        "print(ta.stack())\n",
        "\n"
      ],
      "metadata": {
        "colab": {
          "base_uri": "https://localhost:8080/"
        },
        "outputId": "468bc3cd-2f99-4b9f-fe2d-de17198b6ec8",
        "id": "91c6MQzGSPlJ"
      },
      "execution_count": null,
      "outputs": [
        {
          "output_type": "stream",
          "name": "stdout",
          "text": [
            "tf.Tensor([1. 2.], shape=(2,), dtype=float32)\n",
            "tf.Tensor([ 4. 23.], shape=(2,), dtype=float32)\n",
            "tf.Tensor([19. 23.], shape=(2,), dtype=float32)\n",
            "tf.Tensor(\n",
            "[[ 1.  2.]\n",
            " [ 4. 23.]\n",
            " [19. 23.]], shape=(3, 2), dtype=float32)\n"
          ]
        }
      ]
    },
    {
      "cell_type": "code",
      "source": [
        "print('italian sentece------------' ,validation['italian'].iloc[0] )\n",
        "print('original english sentece---' , validation['english_inp'].iloc[0][8:])\n",
        "print('predicted english sentece--' , predict(validation['italian'].iloc[0]))\n"
      ],
      "metadata": {
        "colab": {
          "base_uri": "https://localhost:8080/"
        },
        "outputId": "f5630fc9-462c-4c04-dbac-21cb13a5f02a",
        "id": "3jOEBsGSSPlK"
      },
      "execution_count": null,
      "outputs": [
        {
          "output_type": "stream",
          "name": "stdout",
          "text": [
            "italian sentece------------ tom rimase a casa per tutto il giorno\n",
            "original english sentece--- tom stayed home all day\n",
            "predicted english sentece--  tom stayed home for the moment day\n"
          ]
        }
      ]
    },
    {
      "cell_type": "code",
      "source": [
        "italian_10 = validation.head(10)['italian']\n",
        "original_english_10 = validation.head(10)['english_out']\n",
        "predicted_sentence_10 = []\n",
        "\n",
        "for italian in italian_10:\n",
        "  predicted_sentence_10.append(predict(italian))\n",
        "\n",
        "result_10 = pd.DataFrame({'original' : original_english_10 , 'predicted' : predicted_sentence_10})\n",
        "result_10"
      ],
      "metadata": {
        "colab": {
          "base_uri": "https://localhost:8080/",
          "height": 363
        },
        "outputId": "701e5b13-4f82-42db-98d5-cb7dad9e229f",
        "id": "FvCKDrW2SPlK"
      },
      "execution_count": null,
      "outputs": [
        {
          "output_type": "execute_result",
          "data": {
            "text/plain": [
              "                                             original  \\\n",
              "144180                  tom stayed home all day <end>   \n",
              "120500                   i had to say something <end>   \n",
              "137797                  i want to get rid of it <end>   \n",
              "78480                      it is very hot today <end>   \n",
              "320129  he told his assistant that he would win <end>   \n",
              "218316            i am not one of your soldiers <end>   \n",
              "316039   i knew it would happen sooner or later <end>   \n",
              "106906                i would like to go faster <end>   \n",
              "317803   things are getting out of control here <end>   \n",
              "28335                          i am not worried <end>   \n",
              "\n",
              "                                       predicted  \n",
              "144180        tom stayed home for the moment day  \n",
              "120500                    i had to say something  \n",
              "137797                   i want to get rid of it  \n",
              "78480                         today is very warm  \n",
              "320129   he told his assistant that he would win  \n",
              "218316             i am not one of your soldiers  \n",
              "316039          i knew it would happen sooner or  \n",
              "106906                    i wish i to get faster  \n",
              "317803       things are going out of control out  \n",
              "28335                           i am not worried  "
            ],
            "text/html": [
              "\n",
              "  <div id=\"df-e11951d5-48a2-4417-bd2c-8893d0b1badd\">\n",
              "    <div class=\"colab-df-container\">\n",
              "      <div>\n",
              "<style scoped>\n",
              "    .dataframe tbody tr th:only-of-type {\n",
              "        vertical-align: middle;\n",
              "    }\n",
              "\n",
              "    .dataframe tbody tr th {\n",
              "        vertical-align: top;\n",
              "    }\n",
              "\n",
              "    .dataframe thead th {\n",
              "        text-align: right;\n",
              "    }\n",
              "</style>\n",
              "<table border=\"1\" class=\"dataframe\">\n",
              "  <thead>\n",
              "    <tr style=\"text-align: right;\">\n",
              "      <th></th>\n",
              "      <th>original</th>\n",
              "      <th>predicted</th>\n",
              "    </tr>\n",
              "  </thead>\n",
              "  <tbody>\n",
              "    <tr>\n",
              "      <th>144180</th>\n",
              "      <td>tom stayed home all day &lt;end&gt;</td>\n",
              "      <td>tom stayed home for the moment day</td>\n",
              "    </tr>\n",
              "    <tr>\n",
              "      <th>120500</th>\n",
              "      <td>i had to say something &lt;end&gt;</td>\n",
              "      <td>i had to say something</td>\n",
              "    </tr>\n",
              "    <tr>\n",
              "      <th>137797</th>\n",
              "      <td>i want to get rid of it &lt;end&gt;</td>\n",
              "      <td>i want to get rid of it</td>\n",
              "    </tr>\n",
              "    <tr>\n",
              "      <th>78480</th>\n",
              "      <td>it is very hot today &lt;end&gt;</td>\n",
              "      <td>today is very warm</td>\n",
              "    </tr>\n",
              "    <tr>\n",
              "      <th>320129</th>\n",
              "      <td>he told his assistant that he would win &lt;end&gt;</td>\n",
              "      <td>he told his assistant that he would win</td>\n",
              "    </tr>\n",
              "    <tr>\n",
              "      <th>218316</th>\n",
              "      <td>i am not one of your soldiers &lt;end&gt;</td>\n",
              "      <td>i am not one of your soldiers</td>\n",
              "    </tr>\n",
              "    <tr>\n",
              "      <th>316039</th>\n",
              "      <td>i knew it would happen sooner or later &lt;end&gt;</td>\n",
              "      <td>i knew it would happen sooner or</td>\n",
              "    </tr>\n",
              "    <tr>\n",
              "      <th>106906</th>\n",
              "      <td>i would like to go faster &lt;end&gt;</td>\n",
              "      <td>i wish i to get faster</td>\n",
              "    </tr>\n",
              "    <tr>\n",
              "      <th>317803</th>\n",
              "      <td>things are getting out of control here &lt;end&gt;</td>\n",
              "      <td>things are going out of control out</td>\n",
              "    </tr>\n",
              "    <tr>\n",
              "      <th>28335</th>\n",
              "      <td>i am not worried &lt;end&gt;</td>\n",
              "      <td>i am not worried</td>\n",
              "    </tr>\n",
              "  </tbody>\n",
              "</table>\n",
              "</div>\n",
              "      <button class=\"colab-df-convert\" onclick=\"convertToInteractive('df-e11951d5-48a2-4417-bd2c-8893d0b1badd')\"\n",
              "              title=\"Convert this dataframe to an interactive table.\"\n",
              "              style=\"display:none;\">\n",
              "        \n",
              "  <svg xmlns=\"http://www.w3.org/2000/svg\" height=\"24px\"viewBox=\"0 0 24 24\"\n",
              "       width=\"24px\">\n",
              "    <path d=\"M0 0h24v24H0V0z\" fill=\"none\"/>\n",
              "    <path d=\"M18.56 5.44l.94 2.06.94-2.06 2.06-.94-2.06-.94-.94-2.06-.94 2.06-2.06.94zm-11 1L8.5 8.5l.94-2.06 2.06-.94-2.06-.94L8.5 2.5l-.94 2.06-2.06.94zm10 10l.94 2.06.94-2.06 2.06-.94-2.06-.94-.94-2.06-.94 2.06-2.06.94z\"/><path d=\"M17.41 7.96l-1.37-1.37c-.4-.4-.92-.59-1.43-.59-.52 0-1.04.2-1.43.59L10.3 9.45l-7.72 7.72c-.78.78-.78 2.05 0 2.83L4 21.41c.39.39.9.59 1.41.59.51 0 1.02-.2 1.41-.59l7.78-7.78 2.81-2.81c.8-.78.8-2.07 0-2.86zM5.41 20L4 18.59l7.72-7.72 1.47 1.35L5.41 20z\"/>\n",
              "  </svg>\n",
              "      </button>\n",
              "      \n",
              "  <style>\n",
              "    .colab-df-container {\n",
              "      display:flex;\n",
              "      flex-wrap:wrap;\n",
              "      gap: 12px;\n",
              "    }\n",
              "\n",
              "    .colab-df-convert {\n",
              "      background-color: #E8F0FE;\n",
              "      border: none;\n",
              "      border-radius: 50%;\n",
              "      cursor: pointer;\n",
              "      display: none;\n",
              "      fill: #1967D2;\n",
              "      height: 32px;\n",
              "      padding: 0 0 0 0;\n",
              "      width: 32px;\n",
              "    }\n",
              "\n",
              "    .colab-df-convert:hover {\n",
              "      background-color: #E2EBFA;\n",
              "      box-shadow: 0px 1px 2px rgba(60, 64, 67, 0.3), 0px 1px 3px 1px rgba(60, 64, 67, 0.15);\n",
              "      fill: #174EA6;\n",
              "    }\n",
              "\n",
              "    [theme=dark] .colab-df-convert {\n",
              "      background-color: #3B4455;\n",
              "      fill: #D2E3FC;\n",
              "    }\n",
              "\n",
              "    [theme=dark] .colab-df-convert:hover {\n",
              "      background-color: #434B5C;\n",
              "      box-shadow: 0px 1px 3px 1px rgba(0, 0, 0, 0.15);\n",
              "      filter: drop-shadow(0px 1px 2px rgba(0, 0, 0, 0.3));\n",
              "      fill: #FFFFFF;\n",
              "    }\n",
              "  </style>\n",
              "\n",
              "      <script>\n",
              "        const buttonEl =\n",
              "          document.querySelector('#df-e11951d5-48a2-4417-bd2c-8893d0b1badd button.colab-df-convert');\n",
              "        buttonEl.style.display =\n",
              "          google.colab.kernel.accessAllowed ? 'block' : 'none';\n",
              "\n",
              "        async function convertToInteractive(key) {\n",
              "          const element = document.querySelector('#df-e11951d5-48a2-4417-bd2c-8893d0b1badd');\n",
              "          const dataTable =\n",
              "            await google.colab.kernel.invokeFunction('convertToInteractive',\n",
              "                                                     [key], {});\n",
              "          if (!dataTable) return;\n",
              "\n",
              "          const docLinkHtml = 'Like what you see? Visit the ' +\n",
              "            '<a target=\"_blank\" href=https://colab.research.google.com/notebooks/data_table.ipynb>data table notebook</a>'\n",
              "            + ' to learn more about interactive tables.';\n",
              "          element.innerHTML = '';\n",
              "          dataTable['output_type'] = 'display_data';\n",
              "          await google.colab.output.renderOutput(dataTable, element);\n",
              "          const docLink = document.createElement('div');\n",
              "          docLink.innerHTML = docLinkHtml;\n",
              "          element.appendChild(docLink);\n",
              "        }\n",
              "      </script>\n",
              "    </div>\n",
              "  </div>\n",
              "  "
            ]
          },
          "metadata": {},
          "execution_count": 77
        }
      ]
    },
    {
      "cell_type": "markdown",
      "metadata": {
        "id": "W5EaFAmiSPlK"
      },
      "source": [
        "<font color='blue'>**Calculate BLEU score**</font>"
      ]
    },
    {
      "cell_type": "code",
      "source": [
        "import nltk.translate.bleu_score as bleu\n",
        "import random\n",
        "# https://www.nltk.org/_modules/nltk/translate/bleu_score.html\n",
        "\n",
        "avg_score = 0 \n",
        "random_values = list(range(0,len(validation)))\n",
        "random.shuffle(random_values)\n",
        "\n",
        "for j in range(1000):\n",
        "  i = random_values[j]\n",
        "  eng_original = [validation['english_out'].iloc[i].split()[:-1] ]\n",
        "  italian_original = validation['italian'].iloc[i]\n",
        "  eng_predict = predict(italian_original).split()\n",
        "\n",
        "  # score_12gram = bleu.sentence_bleu(eng_original, eng_predict ,  weights=(0.5,0.5))        # since , sentences are small considering only 1-gram and 2-gram\n",
        "  score = bleu.sentence_bleu(eng_original, eng_predict ,  weights=(1.0,))     \n",
        "  avg_score += score   \n",
        "\n",
        "avg_score = avg_score/1000"
      ],
      "metadata": {
        "id": "sTL99OFsSPlK"
      },
      "execution_count": null,
      "outputs": []
    }
  ]
}